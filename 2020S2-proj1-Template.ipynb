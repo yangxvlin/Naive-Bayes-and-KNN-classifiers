{
 "cells": [
  {
   "cell_type": "markdown",
   "metadata": {
    "heading_collapsed": true
   },
   "source": [
    "## The University of Melbourne, School of Computing and Information Systems\n",
    "# COMP90049 Introduction to Machine Learning, 2020 Semester 2\n",
    "-----\n",
    "## Project 1: Predicting stroke with Naive Bayes and K-NN\n",
    "-----\n",
    "###### Student Name(s):         Xulin Yang\n",
    "###### Python version:           3.6.3\n",
    "###### Submission deadline: 2020/09/11 17:00"
   ]
  },
  {
   "cell_type": "markdown",
   "metadata": {
    "hidden": true
   },
   "source": [
    "This iPython notebook is a template which you will use for your Project 1 submission. \n",
    "\n",
    "Marking will be applied on the functions that are defined in this notebook, and to your responses to the questions at the end of this notebook.\n",
    "\n",
    "You may change the prototypes of these functions, and you may write other functions, according to your requirements. We would appreciate it if the required functions were prominent/easy to find. "
   ]
  },
  {
   "cell_type": "markdown",
   "metadata": {
    "heading_collapsed": true
   },
   "source": [
    "## imports"
   ]
  },
  {
   "cell_type": "code",
   "execution_count": 1,
   "metadata": {
    "ExecuteTime": {
     "end_time": "2020-08-22T12:08:47.446088Z",
     "start_time": "2020-08-22T12:08:46.321104Z"
    },
    "hidden": true
   },
   "outputs": [],
   "source": [
    "import pandas as pd\n",
    "import numpy as np\n",
    "import math\n",
    "import matplotlib.pyplot as plt\n",
    "import sklearn\n",
    "import collections \n",
    "from collections import defaultdict\n",
    "# K-NN implementation\n",
    "from sklearn.neighbors import KNeighborsClassifier\n",
    "from sklearn.neighbors import DistanceMetric\n",
    "from sklearn.model_selection import StratifiedKFold\n",
    "from sklearn import metrics\n",
    "from sklearn.dummy import DummyClassifier\n",
    "from sklearn.metrics.pairwise import cosine_distances"
   ]
  },
  {
   "cell_type": "code",
   "execution_count": 2,
   "metadata": {
    "ExecuteTime": {
     "end_time": "2020-08-22T12:08:47.453039Z",
     "start_time": "2020-08-22T12:08:47.448078Z"
    },
    "hidden": true
   },
   "outputs": [],
   "source": [
    "DATA_FILE_PATH = \"./stroke_update.csv\""
   ]
  },
  {
   "cell_type": "markdown",
   "metadata": {
    "heading_collapsed": true
   },
   "source": [
    "## functions"
   ]
  },
  {
   "cell_type": "markdown",
   "metadata": {
    "heading_collapsed": true,
    "hidden": true
   },
   "source": [
    "### preprocess"
   ]
  },
  {
   "cell_type": "code",
   "execution_count": 3,
   "metadata": {
    "ExecuteTime": {
     "end_time": "2020-08-22T12:08:47.467999Z",
     "start_time": "2020-08-22T12:08:47.455059Z"
    },
    "hidden": true
   },
   "outputs": [],
   "source": [
    "# https://www.cancer.org/cancer/cancer-causes/diet-physical-activity/body-weight-and-cancer-risk/adult-bmi.html\n",
    "# Underweight   (0): BMI is less than 18.5\n",
    "# Normal weight (1): BMI is 18.5 to 24.9\n",
    "# Overweight    (2): BMI is 25 to 29.9\n",
    "# Obese         (3): BMI is 30 or more\n",
    "def bmi_categories(bmi):\n",
    "    if bmi < 18.5:\n",
    "        return 0\n",
    "    elif 18.5 <= bmi < 24.9:\n",
    "        return 1\n",
    "    elif 24.9 <= bmi < 29.9:\n",
    "        return 2\n",
    "    else:\n",
    "        return 3\n",
    "\n",
    "# turn continous bmi to nominal bmi\n",
    "def preprocess_bmi(data: pd.DataFrame):\n",
    "    new_df = data.copy()\n",
    "    new_df[\"bmi\"] = new_df[\"bmi\"].apply(lambda x: bmi_categories(x))\n",
    "    \n",
    "    return new_df"
   ]
  },
  {
   "cell_type": "code",
   "execution_count": 4,
   "metadata": {
    "ExecuteTime": {
     "end_time": "2020-08-22T12:08:47.480995Z",
     "start_time": "2020-08-22T12:08:47.469994Z"
    },
    "hidden": true
   },
   "outputs": [],
   "source": [
    "# age range from 10 to 82, so group size default by 50 and \n",
    "# remap age group [10-15, 15-20, ...] to [0, 1, 2, ...]\n",
    "def age_categories(age, group_size=5):\n",
    "    if age < 10:\n",
    "        print(\"error: Unknown age\", age)\n",
    "    else:\n",
    "        return age // group_size\n",
    "#         age_group = (age // group_size) * group_size\n",
    "#         return \"[\" + str(age_group) + \"-\" + str(age_group + group_size) + \")\"\n",
    "\n",
    "# turn continous age to nominal age group\n",
    "def preprocess_age(data: pd.DataFrame):\n",
    "    new_df = data.copy()\n",
    "    new_df[\"age\"] = new_df[\"age\"].apply(lambda x: age_categories(x))\n",
    "    \n",
    "    return new_df"
   ]
  },
  {
   "cell_type": "code",
   "execution_count": 5,
   "metadata": {
    "ExecuteTime": {
     "end_time": "2020-08-22T12:08:47.494926Z",
     "start_time": "2020-08-22T12:08:47.482957Z"
    },
    "hidden": true
   },
   "outputs": [],
   "source": [
    "# glucose range from 55.01 to 271.74, so group size default by 50 and \n",
    "# remap age group [50-100, 100-150, ...] to [0, 1, 2, ...]\n",
    "def glucose_categories(glucose, group_size=50):\n",
    "    if glucose < 55.01 or glucose > 271.74:\n",
    "        print(\"error: Unknown glucose\", glucose)\n",
    "    else:\n",
    "        return glucose // group_size\n",
    "#         glucose_group = (glucose // group_size) * group_size\n",
    "#         return \"[\" + str(glucose_group) + \"-\" + str(glucose_group + group_size) + \")\"\n",
    "\n",
    "# turn continous glucose to nominal glucose group\n",
    "def preprocess_glucose(data: pd.DataFrame):\n",
    "    new_df = data.copy()\n",
    "    new_df[\"avg_glucose_level\"] = new_df[\"avg_glucose_level\"].apply(lambda x: glucose_categories(x))\n",
    "    \n",
    "    return new_df"
   ]
  },
  {
   "cell_type": "code",
   "execution_count": 6,
   "metadata": {
    "ExecuteTime": {
     "end_time": "2020-08-22T12:08:47.507917Z",
     "start_time": "2020-08-22T12:08:47.496945Z"
    },
    "hidden": true
   },
   "outputs": [],
   "source": [
    "# This function transform continous attribute nominal attribute\n",
    "def preprocess(data: pd.DataFrame):\n",
    "    return preprocess_glucose(preprocess_bmi(preprocess_age(data)))"
   ]
  },
  {
   "cell_type": "code",
   "execution_count": null,
   "metadata": {
    "hidden": true
   },
   "outputs": [],
   "source": []
  },
  {
   "cell_type": "code",
   "execution_count": 7,
   "metadata": {
    "ExecuteTime": {
     "end_time": "2020-08-22T12:08:47.518864Z",
     "start_time": "2020-08-22T12:08:47.509905Z"
    },
    "hidden": true
   },
   "outputs": [],
   "source": [
    "# convert binary: \"No\" or \"Yes\" to 0 or 1 respectively\n",
    "def no_yes_to_0_1(data: pd.DataFrame, column_name: str):\n",
    "    new_df = data.copy()\n",
    "    new_df[column_name] = new_df[column_name].apply(lambda x: 0 if x==\"No\" else 1)\n",
    "    \n",
    "    return new_df"
   ]
  },
  {
   "cell_type": "code",
   "execution_count": 8,
   "metadata": {
    "ExecuteTime": {
     "end_time": "2020-08-22T12:08:47.532824Z",
     "start_time": "2020-08-22T12:08:47.520877Z"
    },
    "hidden": true
   },
   "outputs": [],
   "source": [
    "# convert binary: \"No\" or \"Yes\" to 0 or 1\n",
    "def female_male_to_0_1(data: pd.DataFrame, column_name: str):\n",
    "    new_df = data.copy()\n",
    "    new_df[column_name] = new_df[column_name].apply(lambda x: 0 if x==\"Female\" else 1)\n",
    "    \n",
    "    return new_df"
   ]
  },
  {
   "cell_type": "code",
   "execution_count": 9,
   "metadata": {
    "ExecuteTime": {
     "end_time": "2020-08-22T12:08:47.544792Z",
     "start_time": "2020-08-22T12:08:47.534846Z"
    },
    "hidden": true
   },
   "outputs": [],
   "source": [
    "# convert \n",
    "# 'never smoked'   : 0\n",
    "# 'formerly smoked': 1, \n",
    "# 'smokes'         : 2\n",
    "smoking_status_dict = {'never smoked'   : 0,\n",
    "                        'formerly smoked': 1, \n",
    "                        'smokes'         : 2\n",
    "}\n",
    "\n",
    "def smoking_status_to_012(data: pd.DataFrame):\n",
    "    column_name = \"smoking_status\"\n",
    "    new_df = data.copy()\n",
    "    new_df[column_name] = new_df[column_name].apply(lambda x: smoking_status_dict[x])\n",
    "    \n",
    "    return new_df"
   ]
  },
  {
   "cell_type": "code",
   "execution_count": 10,
   "metadata": {
    "ExecuteTime": {
     "end_time": "2020-08-22T12:08:47.558790Z",
     "start_time": "2020-08-22T12:08:47.545827Z"
    },
    "hidden": true
   },
   "outputs": [],
   "source": [
    "# convert binary: 'Rural' or 'Urban' to 0 or 1 respectively\n",
    "def rural_urban_to_0_1(data: pd.DataFrame, column_name: str):\n",
    "    new_df = data.copy()\n",
    "    new_df[column_name] = new_df[column_name].apply(lambda x: 0 if x=='Rural' else 1)\n",
    "    \n",
    "    return new_df"
   ]
  },
  {
   "cell_type": "code",
   "execution_count": 11,
   "metadata": {
    "ExecuteTime": {
     "end_time": "2020-08-22T12:08:47.579723Z",
     "start_time": "2020-08-22T12:08:47.560750Z"
    },
    "hidden": true
   },
   "outputs": [],
   "source": [
    "# convert \n",
    "# 'Never_worked' : 0,\n",
    "# 'children'     : 1, \n",
    "# 'Self-employed': 2,\n",
    "# 'Private'      : 3,\n",
    "# 'Govt_job'     : 4\n",
    "work_type_dict = {'Never_worked' : 0,\n",
    "                        'children'     : 1, \n",
    "                        'Self-employed': 2,\n",
    "                        'Private'      : 3,\n",
    "                        'Govt_job'     : 4\n",
    "}\n",
    "\n",
    "def work_type_to_01234(data: pd.DataFrame):\n",
    "    column_name = \"work_type\"\n",
    "    new_df = data.copy()\n",
    "    new_df[column_name] = new_df[column_name].apply(lambda x: work_type_dict[x])\n",
    "    \n",
    "    return new_df"
   ]
  },
  {
   "cell_type": "code",
   "execution_count": 12,
   "metadata": {
    "ExecuteTime": {
     "end_time": "2020-08-22T12:08:47.591666Z",
     "start_time": "2020-08-22T12:08:47.581703Z"
    },
    "hidden": true
   },
   "outputs": [],
   "source": [
    "# This function transform continous attribute nominal attribute\n",
    "def preprocess2(data: pd.DataFrame):\n",
    "    return work_type_to_01234(\n",
    "        rural_urban_to_0_1(\n",
    "            smoking_status_to_012(\n",
    "                female_male_to_0_1(\n",
    "                    no_yes_to_0_1(data, \n",
    "                                  \"ever_married\"\n",
    "                                 ), \"gender\"\n",
    "                )\n",
    "            ), \"Residence_type\"\n",
    "        )\n",
    "    )"
   ]
  },
  {
   "cell_type": "code",
   "execution_count": null,
   "metadata": {
    "hidden": true
   },
   "outputs": [],
   "source": []
  },
  {
   "cell_type": "code",
   "execution_count": 13,
   "metadata": {
    "ExecuteTime": {
     "end_time": "2020-08-22T12:08:47.604631Z",
     "start_time": "2020-08-22T12:08:47.594660Z"
    },
    "hidden": true
   },
   "outputs": [],
   "source": [
    "# convert 0 to No, 1 to Yes\n",
    "\n",
    "yes_no_dict = {\n",
    "    0: \"No\",\n",
    "    1: \"Yes\"\n",
    "}\n",
    "\n",
    "def convert_0_1_to_No_Yes(data: pd.DataFrame, column_name: str):\n",
    "    new_df = data.copy()\n",
    "    new_df[column_name] = new_df[column_name].apply(lambda x: yes_no_dict[x])\n",
    "    \n",
    "    return new_df"
   ]
  },
  {
   "cell_type": "code",
   "execution_count": 14,
   "metadata": {
    "ExecuteTime": {
     "end_time": "2020-08-22T12:08:47.617622Z",
     "start_time": "2020-08-22T12:08:47.606627Z"
    },
    "hidden": true
   },
   "outputs": [],
   "source": [
    "def preprocess3(data: pd.DataFrame):\n",
    "    return convert_0_1_to_No_Yes(\n",
    "            convert_0_1_to_No_Yes(data, \n",
    "                                  \"hypertension\"\n",
    "                                 ), \n",
    "        \"heart_disease\"\n",
    "    )"
   ]
  },
  {
   "cell_type": "markdown",
   "metadata": {
    "heading_collapsed": true,
    "hidden": true
   },
   "source": [
    "### split_data"
   ]
  },
  {
   "cell_type": "code",
   "execution_count": 15,
   "metadata": {
    "ExecuteTime": {
     "end_time": "2020-08-22T12:08:47.631585Z",
     "start_time": "2020-08-22T12:08:47.619618Z"
    },
    "hidden": true
   },
   "outputs": [],
   "source": [
    "# This function should split a data set into a training set and hold-out test set\n",
    "# k-fold applied here\n",
    "def split_data(data: pd.DataFrame, k=10):\n",
    "    kf = StratifiedKFold(n_splits=k)\n",
    "    \n",
    "    # assume class is the last attribute\n",
    "    data_X, data_Y = data.iloc[:, 0:len(stroke_df.columns)-1], data.iloc[:, [-1]]\n",
    "    \n",
    "    for train_index, test_index in kf.split(data_X, data_Y):\n",
    "        X_train, Y_train = data_X.iloc[train_index,:], data_Y.iloc[train_index,:]\n",
    "        X_test,  Y_test  = data_X.iloc[test_index, :], data_Y.iloc[test_index, :]\n",
    "        yield X_train, Y_train, X_test,  Y_test"
   ]
  },
  {
   "cell_type": "code",
   "execution_count": null,
   "metadata": {
    "hidden": true
   },
   "outputs": [],
   "source": []
  },
  {
   "cell_type": "code",
   "execution_count": 16,
   "metadata": {
    "ExecuteTime": {
     "end_time": "2020-08-22T12:08:47.643560Z",
     "start_time": "2020-08-22T12:08:47.633555Z"
    },
    "hidden": true
   },
   "outputs": [],
   "source": [
    "# This function should build a supervised NB model\n",
    "def train():\n",
    "    return"
   ]
  },
  {
   "cell_type": "code",
   "execution_count": 17,
   "metadata": {
    "ExecuteTime": {
     "end_time": "2020-08-22T12:08:47.656526Z",
     "start_time": "2020-08-22T12:08:47.645550Z"
    },
    "hidden": true
   },
   "outputs": [],
   "source": [
    "# This function should predict the class for an instance or a set of instances, based on a trained model \n",
    "def predict():\n",
    "    return"
   ]
  },
  {
   "cell_type": "markdown",
   "metadata": {
    "heading_collapsed": true,
    "hidden": true
   },
   "source": [
    "### evaluate"
   ]
  },
  {
   "cell_type": "code",
   "execution_count": 18,
   "metadata": {
    "ExecuteTime": {
     "end_time": "2020-08-22T12:08:47.668493Z",
     "start_time": "2020-08-22T12:08:47.658488Z"
    },
    "hidden": true
   },
   "outputs": [],
   "source": [
    "# This function should evaluate a set of predictions in terms of metrics\n",
    "def evaluate(pred, true):\n",
    "    CM = metrics.confusion_matrix(true, pred) # Confusion Matrix\n",
    "    Acc = metrics.accuracy_score(true, pred) # Accuracy\n",
    "    precf1 = metrics.precision_recall_fscore_support(true, pred, average='micro') # Precision, Recall and F1-score\n",
    "    # 'micro', 'macro', 'weighted'\n",
    "    return CM, Acc, precf1"
   ]
  },
  {
   "cell_type": "markdown",
   "metadata": {
    "heading_collapsed": true,
    "hidden": true
   },
   "source": [
    "### plot helper function"
   ]
  },
  {
   "cell_type": "code",
   "execution_count": 19,
   "metadata": {
    "ExecuteTime": {
     "end_time": "2020-08-22T12:08:47.684418Z",
     "start_time": "2020-08-22T12:08:47.670456Z"
    },
    "hidden": true
   },
   "outputs": [],
   "source": [
    "def scatter_with_stroke_class(data: pd.DataFrame, x_column: str):\n",
    "    colors = ['r', 'b']\n",
    "    stroke_class_values = [0, 1]\n",
    "    \n",
    "    plt.figure()\n",
    "    for stroke_class in stroke_class_values:\n",
    "        select_with_class = data[data[\"stroke\"] == stroke_class]\n",
    "        column = select_with_class[x_column]\n",
    "        plt.scatter(np.array(column), select_with_class[\"stroke\"], c=colors[stroke_class])\n",
    "    plt.ylabel(\"stroke\")\n",
    "    plt.xlabel(x_column)\n",
    "    plt.title(x_column + \" v.s. stroke\")\n",
    "    plt.legend(stroke_class_values)\n",
    "    plt.show()"
   ]
  },
  {
   "cell_type": "code",
   "execution_count": 20,
   "metadata": {
    "ExecuteTime": {
     "end_time": "2020-08-22T12:08:47.700380Z",
     "start_time": "2020-08-22T12:08:47.686445Z"
    },
    "hidden": true
   },
   "outputs": [],
   "source": [
    "def histgram_with_stroke_class(data: pd.DataFrame, x_column: str):\n",
    "    colors = ['r', 'b']\n",
    "    stroke_class_values = [0, 1]\n",
    "    \n",
    "    plt.figure()\n",
    "    for stroke_class in stroke_class_values:\n",
    "        select_with_class = data[data[\"stroke\"] == stroke_class]\n",
    "        column = select_with_class[x_column]\n",
    "        plt.hist(column, log=True)\n",
    "    \n",
    "    plt.ylabel(\"stroke\")\n",
    "    plt.xlabel(x_column)\n",
    "    plt.title(x_column + \" v.s. stroke\")\n",
    "    plt.legend(stroke_class_values)\n",
    "    plt.show()"
   ]
  },
  {
   "cell_type": "markdown",
   "metadata": {},
   "source": [
    "## Questions (you may respond in a cell or cells below):\n",
    "\n",
    "You should respond to questions 1-4. In question 2 (b) you can choose between two options. A response to a question should take about 100--200 words, and make reference to the data wherever possible."
   ]
  },
  {
   "cell_type": "markdown",
   "metadata": {},
   "source": [
    "## Question 1: Data exploration"
   ]
  },
  {
   "cell_type": "markdown",
   "metadata": {
    "heading_collapsed": true
   },
   "source": [
    "### Question 1\\a)\n",
    "- a) Explore the data and summarise different aspects of the data. \n",
    "    - Can you see any interesting characteristic in features, classes or categories? \n",
    "    - What is the main issue with the data? \n",
    "    - Considering the issue, how would the Naive Bayes classifier work on this data? Discuss your answer based on the Naive Bayes' formulation. (3 marks)\n",
    "    \n",
    "<font color=blue>The answer for this question is shown in the following subsections.</font>"
   ]
  },
  {
   "cell_type": "markdown",
   "metadata": {
    "hidden": true
   },
   "source": [
    "##### Attributes for the stroke_update.csv dataset:\n",
    "    1. avg_glucose_level - patient's average Glucose level (Numeric: from 55.01 to 271.74)\n",
    "    2. bmi - patient's body mass index (Numeric: from 11 to 70.3)\n",
    "    3. age - patient's age (Numeric: from 10 to 82)\n",
    "    4. gender - patient's gender (binary: \"Female\" or \"Male\")\n",
    "    5. hypertension - Did patient have high blood pressure? (binary: \"0\" - No or \"1\" - Yes)\n",
    "    6. heart_disease - Did patient have heart disease? (binary: \"0\" - No or \"1\" - Yes)\n",
    "    7. ever_married - Have patient been ever married? (binary: \"No\" or \"Yes\")\n",
    "    8. work_type - patient's job (nominal: 'Govt_job', 'Private', 'Self-employed', 'children', 'Never_worked')\n",
    "    9. Residence_type - patient's residence (binary: 'Rural', 'Urban')\n",
    "    10. smoking_status - patient's smoking history (nominal: 'formerly smoked', 'never smoked', 'smokes')\n",
    "\n",
    "##### Class for the stroke_update.csv dataset:\n",
    "    11 . stroke - Did patient have stroke? (binary: \"0\" - No or \"1\" - Yes)"
   ]
  },
  {
   "cell_type": "markdown",
   "metadata": {
    "heading_collapsed": true,
    "hidden": true
   },
   "source": [
    "#### read data"
   ]
  },
  {
   "cell_type": "code",
   "execution_count": 21,
   "metadata": {
    "ExecuteTime": {
     "end_time": "2020-08-22T12:08:47.763219Z",
     "start_time": "2020-08-22T12:08:47.733289Z"
    },
    "hidden": true,
    "scrolled": false
   },
   "outputs": [
    {
     "data": {
      "text/html": [
       "<div>\n",
       "<style scoped>\n",
       "    .dataframe tbody tr th:only-of-type {\n",
       "        vertical-align: middle;\n",
       "    }\n",
       "\n",
       "    .dataframe tbody tr th {\n",
       "        vertical-align: top;\n",
       "    }\n",
       "\n",
       "    .dataframe thead th {\n",
       "        text-align: right;\n",
       "    }\n",
       "</style>\n",
       "<table border=\"1\" class=\"dataframe\">\n",
       "  <thead>\n",
       "    <tr style=\"text-align: right;\">\n",
       "      <th></th>\n",
       "      <th>avg_glucose_level</th>\n",
       "      <th>bmi</th>\n",
       "      <th>age</th>\n",
       "      <th>gender</th>\n",
       "      <th>hypertension</th>\n",
       "      <th>heart_disease</th>\n",
       "      <th>ever_married</th>\n",
       "      <th>work_type</th>\n",
       "      <th>Residence_type</th>\n",
       "      <th>smoking_status</th>\n",
       "      <th>stroke</th>\n",
       "    </tr>\n",
       "  </thead>\n",
       "  <tbody>\n",
       "    <tr>\n",
       "      <th>228</th>\n",
       "      <td>73.94</td>\n",
       "      <td>37.5</td>\n",
       "      <td>62</td>\n",
       "      <td>Male</td>\n",
       "      <td>1</td>\n",
       "      <td>0</td>\n",
       "      <td>Yes</td>\n",
       "      <td>Private</td>\n",
       "      <td>Rural</td>\n",
       "      <td>never smoked</td>\n",
       "      <td>0</td>\n",
       "    </tr>\n",
       "    <tr>\n",
       "      <th>2652</th>\n",
       "      <td>70.16</td>\n",
       "      <td>25.9</td>\n",
       "      <td>65</td>\n",
       "      <td>Female</td>\n",
       "      <td>0</td>\n",
       "      <td>0</td>\n",
       "      <td>Yes</td>\n",
       "      <td>Self-employed</td>\n",
       "      <td>Rural</td>\n",
       "      <td>smokes</td>\n",
       "      <td>1</td>\n",
       "    </tr>\n",
       "    <tr>\n",
       "      <th>319</th>\n",
       "      <td>114.35</td>\n",
       "      <td>30.3</td>\n",
       "      <td>33</td>\n",
       "      <td>Female</td>\n",
       "      <td>0</td>\n",
       "      <td>0</td>\n",
       "      <td>Yes</td>\n",
       "      <td>Private</td>\n",
       "      <td>Rural</td>\n",
       "      <td>never smoked</td>\n",
       "      <td>0</td>\n",
       "    </tr>\n",
       "    <tr>\n",
       "      <th>65</th>\n",
       "      <td>84.36</td>\n",
       "      <td>31.9</td>\n",
       "      <td>57</td>\n",
       "      <td>Male</td>\n",
       "      <td>0</td>\n",
       "      <td>0</td>\n",
       "      <td>Yes</td>\n",
       "      <td>Private</td>\n",
       "      <td>Rural</td>\n",
       "      <td>never smoked</td>\n",
       "      <td>0</td>\n",
       "    </tr>\n",
       "    <tr>\n",
       "      <th>1512</th>\n",
       "      <td>93.73</td>\n",
       "      <td>31.8</td>\n",
       "      <td>40</td>\n",
       "      <td>Male</td>\n",
       "      <td>0</td>\n",
       "      <td>0</td>\n",
       "      <td>Yes</td>\n",
       "      <td>Govt_job</td>\n",
       "      <td>Rural</td>\n",
       "      <td>never smoked</td>\n",
       "      <td>0</td>\n",
       "    </tr>\n",
       "    <tr>\n",
       "      <th>285</th>\n",
       "      <td>112.30</td>\n",
       "      <td>23.2</td>\n",
       "      <td>49</td>\n",
       "      <td>Female</td>\n",
       "      <td>0</td>\n",
       "      <td>0</td>\n",
       "      <td>Yes</td>\n",
       "      <td>Govt_job</td>\n",
       "      <td>Rural</td>\n",
       "      <td>never smoked</td>\n",
       "      <td>0</td>\n",
       "    </tr>\n",
       "    <tr>\n",
       "      <th>127</th>\n",
       "      <td>87.39</td>\n",
       "      <td>57.9</td>\n",
       "      <td>39</td>\n",
       "      <td>Female</td>\n",
       "      <td>0</td>\n",
       "      <td>0</td>\n",
       "      <td>Yes</td>\n",
       "      <td>Private</td>\n",
       "      <td>Urban</td>\n",
       "      <td>never smoked</td>\n",
       "      <td>0</td>\n",
       "    </tr>\n",
       "    <tr>\n",
       "      <th>2408</th>\n",
       "      <td>99.81</td>\n",
       "      <td>33.3</td>\n",
       "      <td>64</td>\n",
       "      <td>Male</td>\n",
       "      <td>0</td>\n",
       "      <td>0</td>\n",
       "      <td>Yes</td>\n",
       "      <td>Private</td>\n",
       "      <td>Urban</td>\n",
       "      <td>formerly smoked</td>\n",
       "      <td>1</td>\n",
       "    </tr>\n",
       "    <tr>\n",
       "      <th>249</th>\n",
       "      <td>85.89</td>\n",
       "      <td>31.9</td>\n",
       "      <td>56</td>\n",
       "      <td>Female</td>\n",
       "      <td>0</td>\n",
       "      <td>0</td>\n",
       "      <td>Yes</td>\n",
       "      <td>Private</td>\n",
       "      <td>Urban</td>\n",
       "      <td>never smoked</td>\n",
       "      <td>0</td>\n",
       "    </tr>\n",
       "    <tr>\n",
       "      <th>1338</th>\n",
       "      <td>234.90</td>\n",
       "      <td>30.6</td>\n",
       "      <td>73</td>\n",
       "      <td>Male</td>\n",
       "      <td>0</td>\n",
       "      <td>0</td>\n",
       "      <td>Yes</td>\n",
       "      <td>Govt_job</td>\n",
       "      <td>Rural</td>\n",
       "      <td>formerly smoked</td>\n",
       "      <td>0</td>\n",
       "    </tr>\n",
       "  </tbody>\n",
       "</table>\n",
       "</div>"
      ],
      "text/plain": [
       "      avg_glucose_level   bmi  age  gender  hypertension  heart_disease  \\\n",
       "228               73.94  37.5   62    Male             1              0   \n",
       "2652              70.16  25.9   65  Female             0              0   \n",
       "319              114.35  30.3   33  Female             0              0   \n",
       "65                84.36  31.9   57    Male             0              0   \n",
       "1512              93.73  31.8   40    Male             0              0   \n",
       "285              112.30  23.2   49  Female             0              0   \n",
       "127               87.39  57.9   39  Female             0              0   \n",
       "2408              99.81  33.3   64    Male             0              0   \n",
       "249               85.89  31.9   56  Female             0              0   \n",
       "1338             234.90  30.6   73    Male             0              0   \n",
       "\n",
       "     ever_married      work_type Residence_type   smoking_status  stroke  \n",
       "228           Yes        Private          Rural     never smoked       0  \n",
       "2652          Yes  Self-employed          Rural           smokes       1  \n",
       "319           Yes        Private          Rural     never smoked       0  \n",
       "65            Yes        Private          Rural     never smoked       0  \n",
       "1512          Yes       Govt_job          Rural     never smoked       0  \n",
       "285           Yes       Govt_job          Rural     never smoked       0  \n",
       "127           Yes        Private          Urban     never smoked       0  \n",
       "2408          Yes        Private          Urban  formerly smoked       1  \n",
       "249           Yes        Private          Urban     never smoked       0  \n",
       "1338          Yes       Govt_job          Rural  formerly smoked       0  "
      ]
     },
     "execution_count": 21,
     "metadata": {},
     "output_type": "execute_result"
    }
   ],
   "source": [
    "stroke_df = pd.read_csv(DATA_FILE_PATH)\n",
    "stroke_df.sample(10)"
   ]
  },
  {
   "cell_type": "markdown",
   "metadata": {
    "heading_collapsed": true,
    "hidden": true
   },
   "source": [
    "#### check missing value"
   ]
  },
  {
   "cell_type": "code",
   "execution_count": 22,
   "metadata": {
    "ExecuteTime": {
     "end_time": "2020-08-22T12:08:47.869923Z",
     "start_time": "2020-08-22T12:08:47.860948Z"
    },
    "hidden": true
   },
   "outputs": [
    {
     "data": {
      "text/plain": [
       "avg_glucose_level    0\n",
       "bmi                  0\n",
       "age                  0\n",
       "gender               0\n",
       "hypertension         0\n",
       "heart_disease        0\n",
       "ever_married         0\n",
       "work_type            0\n",
       "Residence_type       0\n",
       "smoking_status       0\n",
       "stroke               0\n",
       "dtype: int64"
      ]
     },
     "execution_count": 22,
     "metadata": {},
     "output_type": "execute_result"
    }
   ],
   "source": [
    "stroke_df.isnull().sum()"
   ]
  },
  {
   "cell_type": "markdown",
   "metadata": {
    "hidden": true
   },
   "source": [
    "<font color=blue>As you can see from the above code, there is no missing value in the data set. Which means we don't need to do any imputation.</font>"
   ]
  },
  {
   "cell_type": "markdown",
   "metadata": {
    "heading_collapsed": true,
    "hidden": true
   },
   "source": [
    "#### inspect class distribution"
   ]
  },
  {
   "cell_type": "code",
   "execution_count": 23,
   "metadata": {
    "ExecuteTime": {
     "end_time": "2020-08-22T12:08:48.299788Z",
     "start_time": "2020-08-22T12:08:48.143191Z"
    },
    "hidden": true,
    "scrolled": true
   },
   "outputs": [
    {
     "data": {
      "text/plain": [
       "0    0.8\n",
       "1    0.2\n",
       "Name: stroke, dtype: float64"
      ]
     },
     "execution_count": 23,
     "metadata": {},
     "output_type": "execute_result"
    },
    {
     "data": {
      "image/png": "[encoded data removed]",
      "text/plain": [
       "<matplotlib.figure.Figure at 0x1b3409b0>"
      ]
     },
     "metadata": {},
     "output_type": "display_data"
    }
   ],
   "source": [
    "stroke_df.hist(column=\"stroke\", bins=2)\n",
    "stroke_df[\"stroke\"].value_counts() / stroke_df[\"stroke\"].count()"
   ]
  },
  {
   "cell_type": "markdown",
   "metadata": {
    "hidden": true
   },
   "source": [
    "<font color=blue>As you can see from the above code, the distribution of the given data's stroke class is not even. 80% of the instances are no stroke (value = 0).</font>"
   ]
  },
  {
   "cell_type": "markdown",
   "metadata": {
    "heading_collapsed": true,
    "hidden": true
   },
   "source": [
    "#### inspect non-numeric attribute distribution"
   ]
  },
  {
   "cell_type": "code",
   "execution_count": 24,
   "metadata": {
    "ExecuteTime": {
     "end_time": "2020-08-22T12:08:48.487303Z",
     "start_time": "2020-08-22T12:08:48.465330Z"
    },
    "hidden": true
   },
   "outputs": [],
   "source": [
    "# helper function to calculate attribute's value distribution\n",
    "def inspect_attribute_distribution(data: pd.DataFrame, column_name: str):\n",
    "    values = list(set(data[column_name]))\n",
    "    \n",
    "    stroke_class_values = [0, 1]\n",
    "    \n",
    "    summary = pd.DataFrame(data[column_name].value_counts() / data[column_name].count())\n",
    "    summary = summary.rename(columns={summary.columns[-1]: \"stroke_all_\" + summary.columns[-1]})\n",
    "    \n",
    "    for stroke_class in stroke_class_values:\n",
    "        data_filtered = data[stroke_df_preprocess3[\"stroke\"] == stroke_class]\n",
    "        \n",
    "        tmp = pd.DataFrame(data_filtered[column_name].value_counts() / data_filtered[column_name].count())\n",
    "\n",
    "        summary = pd.concat([summary, tmp], axis=1)        \n",
    "        summary = summary.rename(columns={summary.columns[-1]: \n",
    "                                          \"stroke_\" + yes_no_dict[stroke_class] + \"_\" + summary.columns[-1]\n",
    "                                         }\n",
    "                                )\n",
    "    \n",
    "    return summary"
   ]
  },
  {
   "cell_type": "code",
   "execution_count": 25,
   "metadata": {
    "ExecuteTime": {
     "end_time": "2020-08-22T12:08:48.562071Z",
     "start_time": "2020-08-22T12:08:48.489267Z"
    },
    "hidden": true,
    "scrolled": true
   },
   "outputs": [],
   "source": [
    "stroke_df_preprocess3 = preprocess3(stroke_df)\n",
    "stroke_class_values = [0, 1]\n",
    "\n",
    "summaries = []\n",
    "\n",
    "for c in stroke_df_preprocess3.columns[3:len(stroke_df_preprocess3.columns)-1]:\n",
    "    summaries.append(inspect_attribute_distribution(stroke_df_preprocess3, c))"
   ]
  },
  {
   "cell_type": "code",
   "execution_count": 26,
   "metadata": {
    "ExecuteTime": {
     "end_time": "2020-08-22T12:08:48.576065Z",
     "start_time": "2020-08-22T12:08:48.564066Z"
    },
    "hidden": true
   },
   "outputs": [
    {
     "data": {
      "text/html": [
       "<div>\n",
       "<style scoped>\n",
       "    .dataframe tbody tr th:only-of-type {\n",
       "        vertical-align: middle;\n",
       "    }\n",
       "\n",
       "    .dataframe tbody tr th {\n",
       "        vertical-align: top;\n",
       "    }\n",
       "\n",
       "    .dataframe thead th {\n",
       "        text-align: right;\n",
       "    }\n",
       "</style>\n",
       "<table border=\"1\" class=\"dataframe\">\n",
       "  <thead>\n",
       "    <tr style=\"text-align: right;\">\n",
       "      <th></th>\n",
       "      <th>stroke_all_gender</th>\n",
       "      <th>stroke_No_gender</th>\n",
       "      <th>stroke_Yes_gender</th>\n",
       "    </tr>\n",
       "  </thead>\n",
       "  <tbody>\n",
       "    <tr>\n",
       "      <th>Female</th>\n",
       "      <td>0.605474</td>\n",
       "      <td>0.614051</td>\n",
       "      <td>0.571168</td>\n",
       "    </tr>\n",
       "    <tr>\n",
       "      <th>Male</th>\n",
       "      <td>0.394526</td>\n",
       "      <td>0.385949</td>\n",
       "      <td>0.428832</td>\n",
       "    </tr>\n",
       "  </tbody>\n",
       "</table>\n",
       "</div>"
      ],
      "text/plain": [
       "        stroke_all_gender  stroke_No_gender  stroke_Yes_gender\n",
       "Female           0.605474          0.614051           0.571168\n",
       "Male             0.394526          0.385949           0.428832"
      ]
     },
     "execution_count": 26,
     "metadata": {},
     "output_type": "execute_result"
    }
   ],
   "source": [
    "summaries[0]"
   ]
  },
  {
   "cell_type": "markdown",
   "metadata": {
    "hidden": true
   },
   "source": [
    "<font color=blue>As you can see from the above, the gender attribute is not so even among all instances (60% v.s. 40%). And the distribution is maintained for both stroke classes.</font>"
   ]
  },
  {
   "cell_type": "code",
   "execution_count": 27,
   "metadata": {
    "ExecuteTime": {
     "end_time": "2020-08-22T12:08:48.592016Z",
     "start_time": "2020-08-22T12:08:48.578057Z"
    },
    "hidden": true
   },
   "outputs": [
    {
     "data": {
      "text/html": [
       "<div>\n",
       "<style scoped>\n",
       "    .dataframe tbody tr th:only-of-type {\n",
       "        vertical-align: middle;\n",
       "    }\n",
       "\n",
       "    .dataframe tbody tr th {\n",
       "        vertical-align: top;\n",
       "    }\n",
       "\n",
       "    .dataframe thead th {\n",
       "        text-align: right;\n",
       "    }\n",
       "</style>\n",
       "<table border=\"1\" class=\"dataframe\">\n",
       "  <thead>\n",
       "    <tr style=\"text-align: right;\">\n",
       "      <th></th>\n",
       "      <th>stroke_all_hypertension</th>\n",
       "      <th>stroke_No_hypertension</th>\n",
       "      <th>stroke_Yes_hypertension</th>\n",
       "    </tr>\n",
       "  </thead>\n",
       "  <tbody>\n",
       "    <tr>\n",
       "      <th>No</th>\n",
       "      <td>0.848175</td>\n",
       "      <td>0.882755</td>\n",
       "      <td>0.709854</td>\n",
       "    </tr>\n",
       "    <tr>\n",
       "      <th>Yes</th>\n",
       "      <td>0.151825</td>\n",
       "      <td>0.117245</td>\n",
       "      <td>0.290146</td>\n",
       "    </tr>\n",
       "  </tbody>\n",
       "</table>\n",
       "</div>"
      ],
      "text/plain": [
       "     stroke_all_hypertension  stroke_No_hypertension  stroke_Yes_hypertension\n",
       "No                  0.848175                0.882755                 0.709854\n",
       "Yes                 0.151825                0.117245                 0.290146"
      ]
     },
     "execution_count": 27,
     "metadata": {},
     "output_type": "execute_result"
    }
   ],
   "source": [
    "summaries[1]"
   ]
  },
  {
   "cell_type": "markdown",
   "metadata": {
    "hidden": true
   },
   "source": [
    "<font color=blue>As you can see from the above, the hypertension attribute is not so even among all instances (85% v.s. 15%). And the distribution is maintained for no stroke class. The distribution has a change for has stroke classes. 18% higher for No hypertension when no stroke compared to has hypertension when has stroke.</font>"
   ]
  },
  {
   "cell_type": "code",
   "execution_count": 28,
   "metadata": {
    "ExecuteTime": {
     "end_time": "2020-08-22T12:08:48.655847Z",
     "start_time": "2020-08-22T12:08:48.644867Z"
    },
    "hidden": true
   },
   "outputs": [
    {
     "data": {
      "text/html": [
       "<div>\n",
       "<style scoped>\n",
       "    .dataframe tbody tr th:only-of-type {\n",
       "        vertical-align: middle;\n",
       "    }\n",
       "\n",
       "    .dataframe tbody tr th {\n",
       "        vertical-align: top;\n",
       "    }\n",
       "\n",
       "    .dataframe thead th {\n",
       "        text-align: right;\n",
       "    }\n",
       "</style>\n",
       "<table border=\"1\" class=\"dataframe\">\n",
       "  <thead>\n",
       "    <tr style=\"text-align: right;\">\n",
       "      <th></th>\n",
       "      <th>stroke_all_heart_disease</th>\n",
       "      <th>stroke_No_heart_disease</th>\n",
       "      <th>stroke_Yes_heart_disease</th>\n",
       "    </tr>\n",
       "  </thead>\n",
       "  <tbody>\n",
       "    <tr>\n",
       "      <th>No</th>\n",
       "      <td>0.918978</td>\n",
       "      <td>0.953923</td>\n",
       "      <td>0.779197</td>\n",
       "    </tr>\n",
       "    <tr>\n",
       "      <th>Yes</th>\n",
       "      <td>0.081022</td>\n",
       "      <td>0.046077</td>\n",
       "      <td>0.220803</td>\n",
       "    </tr>\n",
       "  </tbody>\n",
       "</table>\n",
       "</div>"
      ],
      "text/plain": [
       "     stroke_all_heart_disease  stroke_No_heart_disease  \\\n",
       "No                   0.918978                 0.953923   \n",
       "Yes                  0.081022                 0.046077   \n",
       "\n",
       "     stroke_Yes_heart_disease  \n",
       "No                   0.779197  \n",
       "Yes                  0.220803  "
      ]
     },
     "execution_count": 28,
     "metadata": {},
     "output_type": "execute_result"
    }
   ],
   "source": [
    "summaries[2]"
   ]
  },
  {
   "cell_type": "markdown",
   "metadata": {
    "hidden": true
   },
   "source": [
    "<font color=blue>As you can see from the above, the heart_disease attribute is not so even among all instances (92% v.s. 8%). And the distribution is maintained for no stroke class. The distribution has a change for has stroke classes. 17% higher for No heart_disease when no stroke compared to has heart_disease when has stroke.</font>"
   ]
  },
  {
   "cell_type": "code",
   "execution_count": 29,
   "metadata": {
    "ExecuteTime": {
     "end_time": "2020-08-22T12:08:48.741625Z",
     "start_time": "2020-08-22T12:08:48.731619Z"
    },
    "hidden": true
   },
   "outputs": [
    {
     "data": {
      "text/html": [
       "<div>\n",
       "<style scoped>\n",
       "    .dataframe tbody tr th:only-of-type {\n",
       "        vertical-align: middle;\n",
       "    }\n",
       "\n",
       "    .dataframe tbody tr th {\n",
       "        vertical-align: top;\n",
       "    }\n",
       "\n",
       "    .dataframe thead th {\n",
       "        text-align: right;\n",
       "    }\n",
       "</style>\n",
       "<table border=\"1\" class=\"dataframe\">\n",
       "  <thead>\n",
       "    <tr style=\"text-align: right;\">\n",
       "      <th></th>\n",
       "      <th>stroke_all_ever_married</th>\n",
       "      <th>stroke_No_ever_married</th>\n",
       "      <th>stroke_Yes_ever_married</th>\n",
       "    </tr>\n",
       "  </thead>\n",
       "  <tbody>\n",
       "    <tr>\n",
       "      <th>Yes</th>\n",
       "      <td>0.760949</td>\n",
       "      <td>0.72719</td>\n",
       "      <td>0.895985</td>\n",
       "    </tr>\n",
       "    <tr>\n",
       "      <th>No</th>\n",
       "      <td>0.239051</td>\n",
       "      <td>0.27281</td>\n",
       "      <td>0.104015</td>\n",
       "    </tr>\n",
       "  </tbody>\n",
       "</table>\n",
       "</div>"
      ],
      "text/plain": [
       "     stroke_all_ever_married  stroke_No_ever_married  stroke_Yes_ever_married\n",
       "Yes                 0.760949                 0.72719                 0.895985\n",
       "No                  0.239051                 0.27281                 0.104015"
      ]
     },
     "execution_count": 29,
     "metadata": {},
     "output_type": "execute_result"
    }
   ],
   "source": [
    "summaries[3]"
   ]
  },
  {
   "cell_type": "markdown",
   "metadata": {
    "hidden": true
   },
   "source": [
    "<font color=blue>As you can see from the above, the ever_married attribute is not so even among all instances (76% v.s. 23%). And the distribution is maintained for no stroke class. The distribution has a change for has stroke classes. 12% lower for Not ever_married when no stroke compared to has ever_married when has stroke.</font>"
   ]
  },
  {
   "cell_type": "code",
   "execution_count": 30,
   "metadata": {
    "ExecuteTime": {
     "end_time": "2020-08-22T12:08:48.833345Z",
     "start_time": "2020-08-22T12:08:48.821410Z"
    },
    "hidden": true
   },
   "outputs": [
    {
     "data": {
      "text/html": [
       "<div>\n",
       "<style scoped>\n",
       "    .dataframe tbody tr th:only-of-type {\n",
       "        vertical-align: middle;\n",
       "    }\n",
       "\n",
       "    .dataframe tbody tr th {\n",
       "        vertical-align: top;\n",
       "    }\n",
       "\n",
       "    .dataframe thead th {\n",
       "        text-align: right;\n",
       "    }\n",
       "</style>\n",
       "<table border=\"1\" class=\"dataframe\">\n",
       "  <thead>\n",
       "    <tr style=\"text-align: right;\">\n",
       "      <th></th>\n",
       "      <th>stroke_all_work_type</th>\n",
       "      <th>stroke_No_work_type</th>\n",
       "      <th>stroke_Yes_work_type</th>\n",
       "    </tr>\n",
       "  </thead>\n",
       "  <tbody>\n",
       "    <tr>\n",
       "      <th>Govt_job</th>\n",
       "      <td>0.133577</td>\n",
       "      <td>0.136861</td>\n",
       "      <td>0.120438</td>\n",
       "    </tr>\n",
       "    <tr>\n",
       "      <th>Never_worked</th>\n",
       "      <td>0.002190</td>\n",
       "      <td>0.002737</td>\n",
       "      <td>0.000000</td>\n",
       "    </tr>\n",
       "    <tr>\n",
       "      <th>Private</th>\n",
       "      <td>0.635766</td>\n",
       "      <td>0.652828</td>\n",
       "      <td>0.567518</td>\n",
       "    </tr>\n",
       "    <tr>\n",
       "      <th>Self-employed</th>\n",
       "      <td>0.210584</td>\n",
       "      <td>0.185219</td>\n",
       "      <td>0.312044</td>\n",
       "    </tr>\n",
       "    <tr>\n",
       "      <th>children</th>\n",
       "      <td>0.017883</td>\n",
       "      <td>0.022354</td>\n",
       "      <td>0.000000</td>\n",
       "    </tr>\n",
       "  </tbody>\n",
       "</table>\n",
       "</div>"
      ],
      "text/plain": [
       "               stroke_all_work_type  stroke_No_work_type  stroke_Yes_work_type\n",
       "Govt_job                   0.133577             0.136861              0.120438\n",
       "Never_worked               0.002190             0.002737              0.000000\n",
       "Private                    0.635766             0.652828              0.567518\n",
       "Self-employed              0.210584             0.185219              0.312044\n",
       "children                   0.017883             0.022354              0.000000"
      ]
     },
     "execution_count": 30,
     "metadata": {},
     "output_type": "execute_result"
    }
   ],
   "source": [
    "summaries[4].fillna(0)  # replace NaN with 0 to make sense"
   ]
  },
  {
   "cell_type": "markdown",
   "metadata": {
    "hidden": true
   },
   "source": [
    "<font color=blue>As you can see from the above, the work_type attribute is not so even among all instances (lowest is 0.2% highest is 64%). And the distribution is maintained for no stroke class. The distribution has a change for has stroke classes. 22% lower for Self-employed when no stroke compared to Self-employed when has stroke. And when has stroke, we have 0% for Never_worked and children. This might mean our sample size might not be big enough to cover this case.</font>"
   ]
  },
  {
   "cell_type": "code",
   "execution_count": 31,
   "metadata": {
    "ExecuteTime": {
     "end_time": "2020-08-22T12:08:48.918152Z",
     "start_time": "2020-08-22T12:08:48.908178Z"
    },
    "hidden": true
   },
   "outputs": [
    {
     "data": {
      "text/html": [
       "<div>\n",
       "<style scoped>\n",
       "    .dataframe tbody tr th:only-of-type {\n",
       "        vertical-align: middle;\n",
       "    }\n",
       "\n",
       "    .dataframe tbody tr th {\n",
       "        vertical-align: top;\n",
       "    }\n",
       "\n",
       "    .dataframe thead th {\n",
       "        text-align: right;\n",
       "    }\n",
       "</style>\n",
       "<table border=\"1\" class=\"dataframe\">\n",
       "  <thead>\n",
       "    <tr style=\"text-align: right;\">\n",
       "      <th></th>\n",
       "      <th>stroke_all_Residence_type</th>\n",
       "      <th>stroke_No_Residence_type</th>\n",
       "      <th>stroke_Yes_Residence_type</th>\n",
       "    </tr>\n",
       "  </thead>\n",
       "  <tbody>\n",
       "    <tr>\n",
       "      <th>Urban</th>\n",
       "      <td>0.505839</td>\n",
       "      <td>0.505018</td>\n",
       "      <td>0.509124</td>\n",
       "    </tr>\n",
       "    <tr>\n",
       "      <th>Rural</th>\n",
       "      <td>0.494161</td>\n",
       "      <td>0.494982</td>\n",
       "      <td>0.490876</td>\n",
       "    </tr>\n",
       "  </tbody>\n",
       "</table>\n",
       "</div>"
      ],
      "text/plain": [
       "       stroke_all_Residence_type  stroke_No_Residence_type  \\\n",
       "Urban                   0.505839                  0.505018   \n",
       "Rural                   0.494161                  0.494982   \n",
       "\n",
       "       stroke_Yes_Residence_type  \n",
       "Urban                   0.509124  \n",
       "Rural                   0.490876  "
      ]
     },
     "execution_count": 31,
     "metadata": {},
     "output_type": "execute_result"
    }
   ],
   "source": [
    "summaries[5]"
   ]
  },
  {
   "cell_type": "markdown",
   "metadata": {
    "hidden": true
   },
   "source": [
    "<font color=blue>As you can see from the above, the Residence_type attribute is even among all instances (about 50%). And the distribution is maintained for both stroke classes.</font>"
   ]
  },
  {
   "cell_type": "code",
   "execution_count": 32,
   "metadata": {
    "ExecuteTime": {
     "end_time": "2020-08-22T12:08:49.006916Z",
     "start_time": "2020-08-22T12:08:48.995915Z"
    },
    "hidden": true
   },
   "outputs": [
    {
     "data": {
      "text/html": [
       "<div>\n",
       "<style scoped>\n",
       "    .dataframe tbody tr th:only-of-type {\n",
       "        vertical-align: middle;\n",
       "    }\n",
       "\n",
       "    .dataframe tbody tr th {\n",
       "        vertical-align: top;\n",
       "    }\n",
       "\n",
       "    .dataframe thead th {\n",
       "        text-align: right;\n",
       "    }\n",
       "</style>\n",
       "<table border=\"1\" class=\"dataframe\">\n",
       "  <thead>\n",
       "    <tr style=\"text-align: right;\">\n",
       "      <th></th>\n",
       "      <th>stroke_all_smoking_status</th>\n",
       "      <th>stroke_No_smoking_status</th>\n",
       "      <th>stroke_Yes_smoking_status</th>\n",
       "    </tr>\n",
       "  </thead>\n",
       "  <tbody>\n",
       "    <tr>\n",
       "      <th>never smoked</th>\n",
       "      <td>0.514964</td>\n",
       "      <td>0.526916</td>\n",
       "      <td>0.467153</td>\n",
       "    </tr>\n",
       "    <tr>\n",
       "      <th>formerly smoked</th>\n",
       "      <td>0.264599</td>\n",
       "      <td>0.248631</td>\n",
       "      <td>0.328467</td>\n",
       "    </tr>\n",
       "    <tr>\n",
       "      <th>smokes</th>\n",
       "      <td>0.220438</td>\n",
       "      <td>0.224453</td>\n",
       "      <td>0.204380</td>\n",
       "    </tr>\n",
       "  </tbody>\n",
       "</table>\n",
       "</div>"
      ],
      "text/plain": [
       "                 stroke_all_smoking_status  stroke_No_smoking_status  \\\n",
       "never smoked                      0.514964                  0.526916   \n",
       "formerly smoked                   0.264599                  0.248631   \n",
       "smokes                            0.220438                  0.224453   \n",
       "\n",
       "                 stroke_Yes_smoking_status  \n",
       "never smoked                      0.467153  \n",
       "formerly smoked                   0.328467  \n",
       "smokes                            0.204380  "
      ]
     },
     "execution_count": 32,
     "metadata": {},
     "output_type": "execute_result"
    }
   ],
   "source": [
    "summaries[6]"
   ]
  },
  {
   "cell_type": "markdown",
   "metadata": {
    "hidden": true
   },
   "source": [
    "<font color=blue>As you can see from the above, the smoking_status attribute is not so even among all instances (lowest is 22% highest is 51%). And the distribution is maintained for no stroke class. The distribution has a change for has stroke classes. 8% lower for formerly smoked when no stroke compared to formerly smoked when has stroke. </font>"
   ]
  },
  {
   "cell_type": "markdown",
   "metadata": {
    "heading_collapsed": true,
    "hidden": true
   },
   "source": [
    "#### boxplot numeric attributes"
   ]
  },
  {
   "cell_type": "markdown",
   "metadata": {
    "heading_collapsed": true,
    "hidden": true
   },
   "source": [
    "##### avg_glucose_level all instance"
   ]
  },
  {
   "cell_type": "code",
   "execution_count": 33,
   "metadata": {
    "ExecuteTime": {
     "end_time": "2020-08-22T12:08:49.339991Z",
     "start_time": "2020-08-22T12:08:49.232278Z"
    },
    "hidden": true,
    "scrolled": true
   },
   "outputs": [
    {
     "data": {
      "text/plain": [
       "<matplotlib.axes._subplots.AxesSubplot at 0x1b3df790>"
      ]
     },
     "execution_count": 33,
     "metadata": {},
     "output_type": "execute_result"
    },
    {
     "data": {
      "image/png": "[encoded data removed]",
      "text/plain": [
       "<matplotlib.figure.Figure at 0x1b3f8d90>"
      ]
     },
     "metadata": {},
     "output_type": "display_data"
    }
   ],
   "source": [
    "stroke_df.boxplot(column=\"avg_glucose_level\")"
   ]
  },
  {
   "cell_type": "code",
   "execution_count": 34,
   "metadata": {
    "ExecuteTime": {
     "end_time": "2020-08-22T12:08:49.367945Z",
     "start_time": "2020-08-22T12:08:49.341015Z"
    },
    "hidden": true,
    "scrolled": true
   },
   "outputs": [
    {
     "data": {
      "text/html": [
       "<div>\n",
       "<style scoped>\n",
       "    .dataframe tbody tr th:only-of-type {\n",
       "        vertical-align: middle;\n",
       "    }\n",
       "\n",
       "    .dataframe tbody tr th {\n",
       "        vertical-align: top;\n",
       "    }\n",
       "\n",
       "    .dataframe thead th {\n",
       "        text-align: right;\n",
       "    }\n",
       "</style>\n",
       "<table border=\"1\" class=\"dataframe\">\n",
       "  <thead>\n",
       "    <tr style=\"text-align: right;\">\n",
       "      <th></th>\n",
       "      <th>avg_glucose_level</th>\n",
       "      <th>bmi</th>\n",
       "      <th>age</th>\n",
       "      <th>gender</th>\n",
       "      <th>hypertension</th>\n",
       "      <th>heart_disease</th>\n",
       "      <th>ever_married</th>\n",
       "      <th>work_type</th>\n",
       "      <th>Residence_type</th>\n",
       "      <th>smoking_status</th>\n",
       "      <th>stroke</th>\n",
       "    </tr>\n",
       "  </thead>\n",
       "  <tbody>\n",
       "    <tr>\n",
       "      <th>744</th>\n",
       "      <td>234.15</td>\n",
       "      <td>24.4</td>\n",
       "      <td>71</td>\n",
       "      <td>Female</td>\n",
       "      <td>0</td>\n",
       "      <td>0</td>\n",
       "      <td>Yes</td>\n",
       "      <td>Private</td>\n",
       "      <td>Rural</td>\n",
       "      <td>smokes</td>\n",
       "      <td>0</td>\n",
       "    </tr>\n",
       "    <tr>\n",
       "      <th>1550</th>\n",
       "      <td>216.02</td>\n",
       "      <td>34.1</td>\n",
       "      <td>82</td>\n",
       "      <td>Male</td>\n",
       "      <td>0</td>\n",
       "      <td>0</td>\n",
       "      <td>No</td>\n",
       "      <td>Self-employed</td>\n",
       "      <td>Urban</td>\n",
       "      <td>never smoked</td>\n",
       "      <td>0</td>\n",
       "    </tr>\n",
       "    <tr>\n",
       "      <th>2488</th>\n",
       "      <td>206.74</td>\n",
       "      <td>30.9</td>\n",
       "      <td>80</td>\n",
       "      <td>Female</td>\n",
       "      <td>0</td>\n",
       "      <td>0</td>\n",
       "      <td>Yes</td>\n",
       "      <td>Self-employed</td>\n",
       "      <td>Rural</td>\n",
       "      <td>formerly smoked</td>\n",
       "      <td>1</td>\n",
       "    </tr>\n",
       "    <tr>\n",
       "      <th>226</th>\n",
       "      <td>218.04</td>\n",
       "      <td>34.1</td>\n",
       "      <td>56</td>\n",
       "      <td>Female</td>\n",
       "      <td>1</td>\n",
       "      <td>1</td>\n",
       "      <td>Yes</td>\n",
       "      <td>Govt_job</td>\n",
       "      <td>Rural</td>\n",
       "      <td>never smoked</td>\n",
       "      <td>0</td>\n",
       "    </tr>\n",
       "    <tr>\n",
       "      <th>2348</th>\n",
       "      <td>205.33</td>\n",
       "      <td>31.0</td>\n",
       "      <td>79</td>\n",
       "      <td>Female</td>\n",
       "      <td>0</td>\n",
       "      <td>1</td>\n",
       "      <td>No</td>\n",
       "      <td>Private</td>\n",
       "      <td>Urban</td>\n",
       "      <td>smokes</td>\n",
       "      <td>1</td>\n",
       "    </tr>\n",
       "    <tr>\n",
       "      <th>1605</th>\n",
       "      <td>224.34</td>\n",
       "      <td>26.6</td>\n",
       "      <td>56</td>\n",
       "      <td>Female</td>\n",
       "      <td>0</td>\n",
       "      <td>0</td>\n",
       "      <td>Yes</td>\n",
       "      <td>Self-employed</td>\n",
       "      <td>Rural</td>\n",
       "      <td>formerly smoked</td>\n",
       "      <td>0</td>\n",
       "    </tr>\n",
       "    <tr>\n",
       "      <th>2618</th>\n",
       "      <td>220.98</td>\n",
       "      <td>28.5</td>\n",
       "      <td>65</td>\n",
       "      <td>Male</td>\n",
       "      <td>0</td>\n",
       "      <td>0</td>\n",
       "      <td>Yes</td>\n",
       "      <td>Private</td>\n",
       "      <td>Urban</td>\n",
       "      <td>smokes</td>\n",
       "      <td>1</td>\n",
       "    </tr>\n",
       "    <tr>\n",
       "      <th>1296</th>\n",
       "      <td>224.63</td>\n",
       "      <td>42.8</td>\n",
       "      <td>56</td>\n",
       "      <td>Female</td>\n",
       "      <td>0</td>\n",
       "      <td>0</td>\n",
       "      <td>Yes</td>\n",
       "      <td>Self-employed</td>\n",
       "      <td>Urban</td>\n",
       "      <td>never smoked</td>\n",
       "      <td>0</td>\n",
       "    </tr>\n",
       "    <tr>\n",
       "      <th>897</th>\n",
       "      <td>199.60</td>\n",
       "      <td>25.1</td>\n",
       "      <td>77</td>\n",
       "      <td>Male</td>\n",
       "      <td>0</td>\n",
       "      <td>0</td>\n",
       "      <td>Yes</td>\n",
       "      <td>Govt_job</td>\n",
       "      <td>Rural</td>\n",
       "      <td>smokes</td>\n",
       "      <td>0</td>\n",
       "    </tr>\n",
       "    <tr>\n",
       "      <th>2478</th>\n",
       "      <td>216.62</td>\n",
       "      <td>38.2</td>\n",
       "      <td>62</td>\n",
       "      <td>Female</td>\n",
       "      <td>0</td>\n",
       "      <td>0</td>\n",
       "      <td>Yes</td>\n",
       "      <td>Private</td>\n",
       "      <td>Rural</td>\n",
       "      <td>never smoked</td>\n",
       "      <td>1</td>\n",
       "    </tr>\n",
       "    <tr>\n",
       "      <th>2350</th>\n",
       "      <td>210.40</td>\n",
       "      <td>40.0</td>\n",
       "      <td>55</td>\n",
       "      <td>Female</td>\n",
       "      <td>1</td>\n",
       "      <td>1</td>\n",
       "      <td>Yes</td>\n",
       "      <td>Private</td>\n",
       "      <td>Urban</td>\n",
       "      <td>smokes</td>\n",
       "      <td>1</td>\n",
       "    </tr>\n",
       "    <tr>\n",
       "      <th>2261</th>\n",
       "      <td>235.63</td>\n",
       "      <td>32.3</td>\n",
       "      <td>78</td>\n",
       "      <td>Female</td>\n",
       "      <td>0</td>\n",
       "      <td>0</td>\n",
       "      <td>Yes</td>\n",
       "      <td>Private</td>\n",
       "      <td>Rural</td>\n",
       "      <td>never smoked</td>\n",
       "      <td>1</td>\n",
       "    </tr>\n",
       "    <tr>\n",
       "      <th>2061</th>\n",
       "      <td>222.54</td>\n",
       "      <td>35.6</td>\n",
       "      <td>71</td>\n",
       "      <td>Male</td>\n",
       "      <td>1</td>\n",
       "      <td>0</td>\n",
       "      <td>Yes</td>\n",
       "      <td>Self-employed</td>\n",
       "      <td>Urban</td>\n",
       "      <td>formerly smoked</td>\n",
       "      <td>0</td>\n",
       "    </tr>\n",
       "    <tr>\n",
       "      <th>2046</th>\n",
       "      <td>213.63</td>\n",
       "      <td>31.7</td>\n",
       "      <td>57</td>\n",
       "      <td>Female</td>\n",
       "      <td>0</td>\n",
       "      <td>0</td>\n",
       "      <td>Yes</td>\n",
       "      <td>Private</td>\n",
       "      <td>Rural</td>\n",
       "      <td>formerly smoked</td>\n",
       "      <td>0</td>\n",
       "    </tr>\n",
       "    <tr>\n",
       "      <th>2077</th>\n",
       "      <td>212.78</td>\n",
       "      <td>54.1</td>\n",
       "      <td>36</td>\n",
       "      <td>Female</td>\n",
       "      <td>0</td>\n",
       "      <td>0</td>\n",
       "      <td>No</td>\n",
       "      <td>Govt_job</td>\n",
       "      <td>Rural</td>\n",
       "      <td>formerly smoked</td>\n",
       "      <td>0</td>\n",
       "    </tr>\n",
       "    <tr>\n",
       "      <th>1686</th>\n",
       "      <td>233.14</td>\n",
       "      <td>28.4</td>\n",
       "      <td>79</td>\n",
       "      <td>Male</td>\n",
       "      <td>0</td>\n",
       "      <td>0</td>\n",
       "      <td>Yes</td>\n",
       "      <td>Self-employed</td>\n",
       "      <td>Urban</td>\n",
       "      <td>never smoked</td>\n",
       "      <td>0</td>\n",
       "    </tr>\n",
       "    <tr>\n",
       "      <th>2473</th>\n",
       "      <td>211.60</td>\n",
       "      <td>23.6</td>\n",
       "      <td>53</td>\n",
       "      <td>Female</td>\n",
       "      <td>1</td>\n",
       "      <td>0</td>\n",
       "      <td>Yes</td>\n",
       "      <td>Private</td>\n",
       "      <td>Urban</td>\n",
       "      <td>never smoked</td>\n",
       "      <td>1</td>\n",
       "    </tr>\n",
       "    <tr>\n",
       "      <th>1911</th>\n",
       "      <td>210.21</td>\n",
       "      <td>32.0</td>\n",
       "      <td>57</td>\n",
       "      <td>Male</td>\n",
       "      <td>0</td>\n",
       "      <td>0</td>\n",
       "      <td>Yes</td>\n",
       "      <td>Self-employed</td>\n",
       "      <td>Rural</td>\n",
       "      <td>never smoked</td>\n",
       "      <td>0</td>\n",
       "    </tr>\n",
       "    <tr>\n",
       "      <th>441</th>\n",
       "      <td>227.79</td>\n",
       "      <td>32.3</td>\n",
       "      <td>80</td>\n",
       "      <td>Male</td>\n",
       "      <td>0</td>\n",
       "      <td>0</td>\n",
       "      <td>Yes</td>\n",
       "      <td>Private</td>\n",
       "      <td>Urban</td>\n",
       "      <td>formerly smoked</td>\n",
       "      <td>0</td>\n",
       "    </tr>\n",
       "    <tr>\n",
       "      <th>1508</th>\n",
       "      <td>193.75</td>\n",
       "      <td>25.1</td>\n",
       "      <td>65</td>\n",
       "      <td>Female</td>\n",
       "      <td>0</td>\n",
       "      <td>0</td>\n",
       "      <td>Yes</td>\n",
       "      <td>Self-employed</td>\n",
       "      <td>Rural</td>\n",
       "      <td>never smoked</td>\n",
       "      <td>0</td>\n",
       "    </tr>\n",
       "    <tr>\n",
       "      <th>2289</th>\n",
       "      <td>263.32</td>\n",
       "      <td>38.7</td>\n",
       "      <td>71</td>\n",
       "      <td>Female</td>\n",
       "      <td>0</td>\n",
       "      <td>0</td>\n",
       "      <td>Yes</td>\n",
       "      <td>Govt_job</td>\n",
       "      <td>Urban</td>\n",
       "      <td>never smoked</td>\n",
       "      <td>1</td>\n",
       "    </tr>\n",
       "    <tr>\n",
       "      <th>1672</th>\n",
       "      <td>217.85</td>\n",
       "      <td>39.7</td>\n",
       "      <td>55</td>\n",
       "      <td>Female</td>\n",
       "      <td>0</td>\n",
       "      <td>0</td>\n",
       "      <td>Yes</td>\n",
       "      <td>Self-employed</td>\n",
       "      <td>Rural</td>\n",
       "      <td>never smoked</td>\n",
       "      <td>0</td>\n",
       "    </tr>\n",
       "    <tr>\n",
       "      <th>1232</th>\n",
       "      <td>192.61</td>\n",
       "      <td>32.5</td>\n",
       "      <td>71</td>\n",
       "      <td>Male</td>\n",
       "      <td>0</td>\n",
       "      <td>0</td>\n",
       "      <td>Yes</td>\n",
       "      <td>Self-employed</td>\n",
       "      <td>Urban</td>\n",
       "      <td>formerly smoked</td>\n",
       "      <td>0</td>\n",
       "    </tr>\n",
       "    <tr>\n",
       "      <th>2479</th>\n",
       "      <td>197.43</td>\n",
       "      <td>31.4</td>\n",
       "      <td>70</td>\n",
       "      <td>Male</td>\n",
       "      <td>1</td>\n",
       "      <td>1</td>\n",
       "      <td>Yes</td>\n",
       "      <td>Private</td>\n",
       "      <td>Urban</td>\n",
       "      <td>smokes</td>\n",
       "      <td>1</td>\n",
       "    </tr>\n",
       "    <tr>\n",
       "      <th>2246</th>\n",
       "      <td>228.56</td>\n",
       "      <td>27.4</td>\n",
       "      <td>63</td>\n",
       "      <td>Male</td>\n",
       "      <td>0</td>\n",
       "      <td>0</td>\n",
       "      <td>Yes</td>\n",
       "      <td>Private</td>\n",
       "      <td>Rural</td>\n",
       "      <td>never smoked</td>\n",
       "      <td>1</td>\n",
       "    </tr>\n",
       "  </tbody>\n",
       "</table>\n",
       "</div>"
      ],
      "text/plain": [
       "      avg_glucose_level   bmi  age  gender  hypertension  heart_disease  \\\n",
       "744              234.15  24.4   71  Female             0              0   \n",
       "1550             216.02  34.1   82    Male             0              0   \n",
       "2488             206.74  30.9   80  Female             0              0   \n",
       "226              218.04  34.1   56  Female             1              1   \n",
       "2348             205.33  31.0   79  Female             0              1   \n",
       "1605             224.34  26.6   56  Female             0              0   \n",
       "2618             220.98  28.5   65    Male             0              0   \n",
       "1296             224.63  42.8   56  Female             0              0   \n",
       "897              199.60  25.1   77    Male             0              0   \n",
       "2478             216.62  38.2   62  Female             0              0   \n",
       "2350             210.40  40.0   55  Female             1              1   \n",
       "2261             235.63  32.3   78  Female             0              0   \n",
       "2061             222.54  35.6   71    Male             1              0   \n",
       "2046             213.63  31.7   57  Female             0              0   \n",
       "2077             212.78  54.1   36  Female             0              0   \n",
       "1686             233.14  28.4   79    Male             0              0   \n",
       "2473             211.60  23.6   53  Female             1              0   \n",
       "1911             210.21  32.0   57    Male             0              0   \n",
       "441              227.79  32.3   80    Male             0              0   \n",
       "1508             193.75  25.1   65  Female             0              0   \n",
       "2289             263.32  38.7   71  Female             0              0   \n",
       "1672             217.85  39.7   55  Female             0              0   \n",
       "1232             192.61  32.5   71    Male             0              0   \n",
       "2479             197.43  31.4   70    Male             1              1   \n",
       "2246             228.56  27.4   63    Male             0              0   \n",
       "\n",
       "     ever_married      work_type Residence_type   smoking_status  stroke  \n",
       "744           Yes        Private          Rural           smokes       0  \n",
       "1550           No  Self-employed          Urban     never smoked       0  \n",
       "2488          Yes  Self-employed          Rural  formerly smoked       1  \n",
       "226           Yes       Govt_job          Rural     never smoked       0  \n",
       "2348           No        Private          Urban           smokes       1  \n",
       "1605          Yes  Self-employed          Rural  formerly smoked       0  \n",
       "2618          Yes        Private          Urban           smokes       1  \n",
       "1296          Yes  Self-employed          Urban     never smoked       0  \n",
       "897           Yes       Govt_job          Rural           smokes       0  \n",
       "2478          Yes        Private          Rural     never smoked       1  \n",
       "2350          Yes        Private          Urban           smokes       1  \n",
       "2261          Yes        Private          Rural     never smoked       1  \n",
       "2061          Yes  Self-employed          Urban  formerly smoked       0  \n",
       "2046          Yes        Private          Rural  formerly smoked       0  \n",
       "2077           No       Govt_job          Rural  formerly smoked       0  \n",
       "1686          Yes  Self-employed          Urban     never smoked       0  \n",
       "2473          Yes        Private          Urban     never smoked       1  \n",
       "1911          Yes  Self-employed          Rural     never smoked       0  \n",
       "441           Yes        Private          Urban  formerly smoked       0  \n",
       "1508          Yes  Self-employed          Rural     never smoked       0  \n",
       "2289          Yes       Govt_job          Urban     never smoked       1  \n",
       "1672          Yes  Self-employed          Rural     never smoked       0  \n",
       "1232          Yes  Self-employed          Urban  formerly smoked       0  \n",
       "2479          Yes        Private          Urban           smokes       1  \n",
       "2246          Yes        Private          Rural     never smoked       1  "
      ]
     },
     "execution_count": 34,
     "metadata": {},
     "output_type": "execute_result"
    }
   ],
   "source": [
    "quantile1, quantile3 = stroke_df[\"avg_glucose_level\"].quantile([0.25, 0.75]).values\n",
    "iqr = quantile3 - quantile1\n",
    "\n",
    "# sample 25 out of 401\n",
    "stroke_df[stroke_df[\"avg_glucose_level\"] > quantile3 + 1.5 * iqr].sample(25)"
   ]
  },
  {
   "cell_type": "markdown",
   "metadata": {
    "hidden": true
   },
   "source": [
    "<font color=blue>As you can see from the above, there are 401 outlier for avg_glucose_level attribute in all instances.</font>"
   ]
  },
  {
   "cell_type": "markdown",
   "metadata": {
    "heading_collapsed": true,
    "hidden": true
   },
   "source": [
    "##### avg_glucose_level by stroke class"
   ]
  },
  {
   "cell_type": "code",
   "execution_count": 35,
   "metadata": {
    "ExecuteTime": {
     "end_time": "2020-08-22T12:08:49.536492Z",
     "start_time": "2020-08-22T12:08:49.404818Z"
    },
    "hidden": true,
    "scrolled": true
   },
   "outputs": [
    {
     "data": {
      "text/plain": [
       "<matplotlib.axes._subplots.AxesSubplot at 0x1b45d650>"
      ]
     },
     "execution_count": 35,
     "metadata": {},
     "output_type": "execute_result"
    },
    {
     "data": {
      "image/png": "[encoded data removed]",
      "text/plain": [
       "<matplotlib.figure.Figure at 0x1b340770>"
      ]
     },
     "metadata": {},
     "output_type": "display_data"
    }
   ],
   "source": [
    "stroke_df.boxplot(column=\"avg_glucose_level\",by='stroke')"
   ]
  },
  {
   "cell_type": "markdown",
   "metadata": {
    "hidden": true
   },
   "source": [
    "<font color=blue>As you can see from the above, there are no outlier for avg_glucose_level attribute in has stroke class. But we have 294 outliers in has stroke class which is:</font>"
   ]
  },
  {
   "cell_type": "code",
   "execution_count": 36,
   "metadata": {
    "ExecuteTime": {
     "end_time": "2020-08-22T12:08:49.567420Z",
     "start_time": "2020-08-22T12:08:49.538461Z"
    },
    "hidden": true,
    "scrolled": true
   },
   "outputs": [
    {
     "data": {
      "text/html": [
       "<div>\n",
       "<style scoped>\n",
       "    .dataframe tbody tr th:only-of-type {\n",
       "        vertical-align: middle;\n",
       "    }\n",
       "\n",
       "    .dataframe tbody tr th {\n",
       "        vertical-align: top;\n",
       "    }\n",
       "\n",
       "    .dataframe thead th {\n",
       "        text-align: right;\n",
       "    }\n",
       "</style>\n",
       "<table border=\"1\" class=\"dataframe\">\n",
       "  <thead>\n",
       "    <tr style=\"text-align: right;\">\n",
       "      <th></th>\n",
       "      <th>avg_glucose_level</th>\n",
       "      <th>bmi</th>\n",
       "      <th>age</th>\n",
       "      <th>gender</th>\n",
       "      <th>hypertension</th>\n",
       "      <th>heart_disease</th>\n",
       "      <th>ever_married</th>\n",
       "      <th>work_type</th>\n",
       "      <th>Residence_type</th>\n",
       "      <th>smoking_status</th>\n",
       "      <th>stroke</th>\n",
       "    </tr>\n",
       "  </thead>\n",
       "  <tbody>\n",
       "    <tr>\n",
       "      <th>370</th>\n",
       "      <td>226.42</td>\n",
       "      <td>39.1</td>\n",
       "      <td>52</td>\n",
       "      <td>Female</td>\n",
       "      <td>0</td>\n",
       "      <td>0</td>\n",
       "      <td>Yes</td>\n",
       "      <td>Private</td>\n",
       "      <td>Urban</td>\n",
       "      <td>never smoked</td>\n",
       "      <td>0</td>\n",
       "    </tr>\n",
       "    <tr>\n",
       "      <th>1850</th>\n",
       "      <td>181.17</td>\n",
       "      <td>59.7</td>\n",
       "      <td>67</td>\n",
       "      <td>Female</td>\n",
       "      <td>0</td>\n",
       "      <td>0</td>\n",
       "      <td>Yes</td>\n",
       "      <td>Self-employed</td>\n",
       "      <td>Rural</td>\n",
       "      <td>formerly smoked</td>\n",
       "      <td>0</td>\n",
       "    </tr>\n",
       "    <tr>\n",
       "      <th>2000</th>\n",
       "      <td>218.72</td>\n",
       "      <td>32.3</td>\n",
       "      <td>43</td>\n",
       "      <td>Female</td>\n",
       "      <td>0</td>\n",
       "      <td>0</td>\n",
       "      <td>Yes</td>\n",
       "      <td>Private</td>\n",
       "      <td>Urban</td>\n",
       "      <td>never smoked</td>\n",
       "      <td>0</td>\n",
       "    </tr>\n",
       "    <tr>\n",
       "      <th>812</th>\n",
       "      <td>222.53</td>\n",
       "      <td>28.5</td>\n",
       "      <td>78</td>\n",
       "      <td>Female</td>\n",
       "      <td>1</td>\n",
       "      <td>0</td>\n",
       "      <td>No</td>\n",
       "      <td>Private</td>\n",
       "      <td>Urban</td>\n",
       "      <td>never smoked</td>\n",
       "      <td>0</td>\n",
       "    </tr>\n",
       "    <tr>\n",
       "      <th>817</th>\n",
       "      <td>191.28</td>\n",
       "      <td>40.6</td>\n",
       "      <td>57</td>\n",
       "      <td>Female</td>\n",
       "      <td>1</td>\n",
       "      <td>0</td>\n",
       "      <td>Yes</td>\n",
       "      <td>Govt_job</td>\n",
       "      <td>Urban</td>\n",
       "      <td>never smoked</td>\n",
       "      <td>0</td>\n",
       "    </tr>\n",
       "    <tr>\n",
       "      <th>662</th>\n",
       "      <td>175.68</td>\n",
       "      <td>26.1</td>\n",
       "      <td>35</td>\n",
       "      <td>Male</td>\n",
       "      <td>0</td>\n",
       "      <td>0</td>\n",
       "      <td>Yes</td>\n",
       "      <td>Private</td>\n",
       "      <td>Rural</td>\n",
       "      <td>never smoked</td>\n",
       "      <td>0</td>\n",
       "    </tr>\n",
       "    <tr>\n",
       "      <th>328</th>\n",
       "      <td>212.87</td>\n",
       "      <td>34.8</td>\n",
       "      <td>70</td>\n",
       "      <td>Female</td>\n",
       "      <td>0</td>\n",
       "      <td>0</td>\n",
       "      <td>Yes</td>\n",
       "      <td>Private</td>\n",
       "      <td>Rural</td>\n",
       "      <td>never smoked</td>\n",
       "      <td>0</td>\n",
       "    </tr>\n",
       "    <tr>\n",
       "      <th>1149</th>\n",
       "      <td>187.22</td>\n",
       "      <td>29.2</td>\n",
       "      <td>78</td>\n",
       "      <td>Male</td>\n",
       "      <td>0</td>\n",
       "      <td>0</td>\n",
       "      <td>Yes</td>\n",
       "      <td>Self-employed</td>\n",
       "      <td>Urban</td>\n",
       "      <td>never smoked</td>\n",
       "      <td>0</td>\n",
       "    </tr>\n",
       "    <tr>\n",
       "      <th>1872</th>\n",
       "      <td>171.05</td>\n",
       "      <td>37.7</td>\n",
       "      <td>67</td>\n",
       "      <td>Female</td>\n",
       "      <td>1</td>\n",
       "      <td>0</td>\n",
       "      <td>Yes</td>\n",
       "      <td>Govt_job</td>\n",
       "      <td>Urban</td>\n",
       "      <td>never smoked</td>\n",
       "      <td>0</td>\n",
       "    </tr>\n",
       "    <tr>\n",
       "      <th>1389</th>\n",
       "      <td>175.73</td>\n",
       "      <td>42.4</td>\n",
       "      <td>32</td>\n",
       "      <td>Female</td>\n",
       "      <td>0</td>\n",
       "      <td>0</td>\n",
       "      <td>No</td>\n",
       "      <td>Self-employed</td>\n",
       "      <td>Rural</td>\n",
       "      <td>formerly smoked</td>\n",
       "      <td>0</td>\n",
       "    </tr>\n",
       "    <tr>\n",
       "      <th>2077</th>\n",
       "      <td>212.78</td>\n",
       "      <td>54.1</td>\n",
       "      <td>36</td>\n",
       "      <td>Female</td>\n",
       "      <td>0</td>\n",
       "      <td>0</td>\n",
       "      <td>No</td>\n",
       "      <td>Govt_job</td>\n",
       "      <td>Rural</td>\n",
       "      <td>formerly smoked</td>\n",
       "      <td>0</td>\n",
       "    </tr>\n",
       "    <tr>\n",
       "      <th>895</th>\n",
       "      <td>183.77</td>\n",
       "      <td>31.7</td>\n",
       "      <td>78</td>\n",
       "      <td>Male</td>\n",
       "      <td>0</td>\n",
       "      <td>0</td>\n",
       "      <td>Yes</td>\n",
       "      <td>Private</td>\n",
       "      <td>Urban</td>\n",
       "      <td>never smoked</td>\n",
       "      <td>0</td>\n",
       "    </tr>\n",
       "    <tr>\n",
       "      <th>1001</th>\n",
       "      <td>196.39</td>\n",
       "      <td>25.3</td>\n",
       "      <td>70</td>\n",
       "      <td>Female</td>\n",
       "      <td>1</td>\n",
       "      <td>0</td>\n",
       "      <td>Yes</td>\n",
       "      <td>Private</td>\n",
       "      <td>Rural</td>\n",
       "      <td>never smoked</td>\n",
       "      <td>0</td>\n",
       "    </tr>\n",
       "    <tr>\n",
       "      <th>1945</th>\n",
       "      <td>217.75</td>\n",
       "      <td>31.5</td>\n",
       "      <td>45</td>\n",
       "      <td>Female</td>\n",
       "      <td>0</td>\n",
       "      <td>0</td>\n",
       "      <td>Yes</td>\n",
       "      <td>Private</td>\n",
       "      <td>Rural</td>\n",
       "      <td>never smoked</td>\n",
       "      <td>0</td>\n",
       "    </tr>\n",
       "    <tr>\n",
       "      <th>1561</th>\n",
       "      <td>213.18</td>\n",
       "      <td>54.5</td>\n",
       "      <td>37</td>\n",
       "      <td>Female</td>\n",
       "      <td>0</td>\n",
       "      <td>0</td>\n",
       "      <td>Yes</td>\n",
       "      <td>Private</td>\n",
       "      <td>Rural</td>\n",
       "      <td>never smoked</td>\n",
       "      <td>0</td>\n",
       "    </tr>\n",
       "    <tr>\n",
       "      <th>987</th>\n",
       "      <td>204.92</td>\n",
       "      <td>49.6</td>\n",
       "      <td>66</td>\n",
       "      <td>Female</td>\n",
       "      <td>0</td>\n",
       "      <td>1</td>\n",
       "      <td>Yes</td>\n",
       "      <td>Private</td>\n",
       "      <td>Urban</td>\n",
       "      <td>formerly smoked</td>\n",
       "      <td>0</td>\n",
       "    </tr>\n",
       "    <tr>\n",
       "      <th>324</th>\n",
       "      <td>198.29</td>\n",
       "      <td>38.1</td>\n",
       "      <td>76</td>\n",
       "      <td>Female</td>\n",
       "      <td>0</td>\n",
       "      <td>0</td>\n",
       "      <td>Yes</td>\n",
       "      <td>Private</td>\n",
       "      <td>Urban</td>\n",
       "      <td>formerly smoked</td>\n",
       "      <td>0</td>\n",
       "    </tr>\n",
       "    <tr>\n",
       "      <th>830</th>\n",
       "      <td>189.53</td>\n",
       "      <td>58.0</td>\n",
       "      <td>43</td>\n",
       "      <td>Female</td>\n",
       "      <td>0</td>\n",
       "      <td>0</td>\n",
       "      <td>Yes</td>\n",
       "      <td>Self-employed</td>\n",
       "      <td>Urban</td>\n",
       "      <td>smokes</td>\n",
       "      <td>0</td>\n",
       "    </tr>\n",
       "    <tr>\n",
       "      <th>1982</th>\n",
       "      <td>200.04</td>\n",
       "      <td>39.5</td>\n",
       "      <td>69</td>\n",
       "      <td>Female</td>\n",
       "      <td>0</td>\n",
       "      <td>0</td>\n",
       "      <td>Yes</td>\n",
       "      <td>Self-employed</td>\n",
       "      <td>Urban</td>\n",
       "      <td>never smoked</td>\n",
       "      <td>0</td>\n",
       "    </tr>\n",
       "    <tr>\n",
       "      <th>1728</th>\n",
       "      <td>221.19</td>\n",
       "      <td>34.2</td>\n",
       "      <td>56</td>\n",
       "      <td>Male</td>\n",
       "      <td>0</td>\n",
       "      <td>0</td>\n",
       "      <td>No</td>\n",
       "      <td>Private</td>\n",
       "      <td>Rural</td>\n",
       "      <td>never smoked</td>\n",
       "      <td>0</td>\n",
       "    </tr>\n",
       "    <tr>\n",
       "      <th>719</th>\n",
       "      <td>196.08</td>\n",
       "      <td>30.8</td>\n",
       "      <td>44</td>\n",
       "      <td>Female</td>\n",
       "      <td>0</td>\n",
       "      <td>0</td>\n",
       "      <td>No</td>\n",
       "      <td>Private</td>\n",
       "      <td>Rural</td>\n",
       "      <td>never smoked</td>\n",
       "      <td>0</td>\n",
       "    </tr>\n",
       "    <tr>\n",
       "      <th>1439</th>\n",
       "      <td>208.85</td>\n",
       "      <td>24.4</td>\n",
       "      <td>78</td>\n",
       "      <td>Male</td>\n",
       "      <td>0</td>\n",
       "      <td>0</td>\n",
       "      <td>Yes</td>\n",
       "      <td>Private</td>\n",
       "      <td>Urban</td>\n",
       "      <td>formerly smoked</td>\n",
       "      <td>0</td>\n",
       "    </tr>\n",
       "    <tr>\n",
       "      <th>1780</th>\n",
       "      <td>219.85</td>\n",
       "      <td>49.4</td>\n",
       "      <td>51</td>\n",
       "      <td>Female</td>\n",
       "      <td>1</td>\n",
       "      <td>0</td>\n",
       "      <td>Yes</td>\n",
       "      <td>Private</td>\n",
       "      <td>Rural</td>\n",
       "      <td>smokes</td>\n",
       "      <td>0</td>\n",
       "    </tr>\n",
       "    <tr>\n",
       "      <th>2117</th>\n",
       "      <td>204.01</td>\n",
       "      <td>42.6</td>\n",
       "      <td>69</td>\n",
       "      <td>Male</td>\n",
       "      <td>0</td>\n",
       "      <td>0</td>\n",
       "      <td>Yes</td>\n",
       "      <td>Govt_job</td>\n",
       "      <td>Urban</td>\n",
       "      <td>formerly smoked</td>\n",
       "      <td>0</td>\n",
       "    </tr>\n",
       "    <tr>\n",
       "      <th>1175</th>\n",
       "      <td>174.75</td>\n",
       "      <td>22.5</td>\n",
       "      <td>82</td>\n",
       "      <td>Male</td>\n",
       "      <td>0</td>\n",
       "      <td>0</td>\n",
       "      <td>Yes</td>\n",
       "      <td>Private</td>\n",
       "      <td>Urban</td>\n",
       "      <td>formerly smoked</td>\n",
       "      <td>0</td>\n",
       "    </tr>\n",
       "  </tbody>\n",
       "</table>\n",
       "</div>"
      ],
      "text/plain": [
       "      avg_glucose_level   bmi  age  gender  hypertension  heart_disease  \\\n",
       "370              226.42  39.1   52  Female             0              0   \n",
       "1850             181.17  59.7   67  Female             0              0   \n",
       "2000             218.72  32.3   43  Female             0              0   \n",
       "812              222.53  28.5   78  Female             1              0   \n",
       "817              191.28  40.6   57  Female             1              0   \n",
       "662              175.68  26.1   35    Male             0              0   \n",
       "328              212.87  34.8   70  Female             0              0   \n",
       "1149             187.22  29.2   78    Male             0              0   \n",
       "1872             171.05  37.7   67  Female             1              0   \n",
       "1389             175.73  42.4   32  Female             0              0   \n",
       "2077             212.78  54.1   36  Female             0              0   \n",
       "895              183.77  31.7   78    Male             0              0   \n",
       "1001             196.39  25.3   70  Female             1              0   \n",
       "1945             217.75  31.5   45  Female             0              0   \n",
       "1561             213.18  54.5   37  Female             0              0   \n",
       "987              204.92  49.6   66  Female             0              1   \n",
       "324              198.29  38.1   76  Female             0              0   \n",
       "830              189.53  58.0   43  Female             0              0   \n",
       "1982             200.04  39.5   69  Female             0              0   \n",
       "1728             221.19  34.2   56    Male             0              0   \n",
       "719              196.08  30.8   44  Female             0              0   \n",
       "1439             208.85  24.4   78    Male             0              0   \n",
       "1780             219.85  49.4   51  Female             1              0   \n",
       "2117             204.01  42.6   69    Male             0              0   \n",
       "1175             174.75  22.5   82    Male             0              0   \n",
       "\n",
       "     ever_married      work_type Residence_type   smoking_status  stroke  \n",
       "370           Yes        Private          Urban     never smoked       0  \n",
       "1850          Yes  Self-employed          Rural  formerly smoked       0  \n",
       "2000          Yes        Private          Urban     never smoked       0  \n",
       "812            No        Private          Urban     never smoked       0  \n",
       "817           Yes       Govt_job          Urban     never smoked       0  \n",
       "662           Yes        Private          Rural     never smoked       0  \n",
       "328           Yes        Private          Rural     never smoked       0  \n",
       "1149          Yes  Self-employed          Urban     never smoked       0  \n",
       "1872          Yes       Govt_job          Urban     never smoked       0  \n",
       "1389           No  Self-employed          Rural  formerly smoked       0  \n",
       "2077           No       Govt_job          Rural  formerly smoked       0  \n",
       "895           Yes        Private          Urban     never smoked       0  \n",
       "1001          Yes        Private          Rural     never smoked       0  \n",
       "1945          Yes        Private          Rural     never smoked       0  \n",
       "1561          Yes        Private          Rural     never smoked       0  \n",
       "987           Yes        Private          Urban  formerly smoked       0  \n",
       "324           Yes        Private          Urban  formerly smoked       0  \n",
       "830           Yes  Self-employed          Urban           smokes       0  \n",
       "1982          Yes  Self-employed          Urban     never smoked       0  \n",
       "1728           No        Private          Rural     never smoked       0  \n",
       "719            No        Private          Rural     never smoked       0  \n",
       "1439          Yes        Private          Urban  formerly smoked       0  \n",
       "1780          Yes        Private          Rural           smokes       0  \n",
       "2117          Yes       Govt_job          Urban  formerly smoked       0  \n",
       "1175          Yes        Private          Urban  formerly smoked       0  "
      ]
     },
     "execution_count": 36,
     "metadata": {},
     "output_type": "execute_result"
    }
   ],
   "source": [
    "no_stroke_df = stroke_df[stroke_df[\"stroke\"] == 0]\n",
    "\n",
    "quantile1, quantile3 = no_stroke_df[\"avg_glucose_level\"].quantile([0.25, 0.75]).values\n",
    "iqr = quantile3 - quantile1\n",
    "\n",
    "# sample 25 out of 294\n",
    "no_stroke_df[no_stroke_df[\"avg_glucose_level\"] > quantile3 + 1.5 * iqr].sample(25)"
   ]
  },
  {
   "cell_type": "markdown",
   "metadata": {
    "heading_collapsed": true,
    "hidden": true
   },
   "source": [
    "##### bmi all instance"
   ]
  },
  {
   "cell_type": "code",
   "execution_count": 37,
   "metadata": {
    "ExecuteTime": {
     "end_time": "2020-08-22T12:08:49.698066Z",
     "start_time": "2020-08-22T12:08:49.577381Z"
    },
    "hidden": true
   },
   "outputs": [
    {
     "data": {
      "text/plain": [
       "<matplotlib.axes._subplots.AxesSubplot at 0x1b4c7a10>"
      ]
     },
     "execution_count": 37,
     "metadata": {},
     "output_type": "execute_result"
    },
    {
     "data": {
      "image/png": "[encoded data removed]",
      "text/plain": [
       "<matplotlib.figure.Figure at 0x1b42e7d0>"
      ]
     },
     "metadata": {},
     "output_type": "display_data"
    }
   ],
   "source": [
    "stroke_df.boxplot(column=\"bmi\")"
   ]
  },
  {
   "cell_type": "code",
   "execution_count": 38,
   "metadata": {
    "ExecuteTime": {
     "end_time": "2020-08-22T12:08:49.731960Z",
     "start_time": "2020-08-22T12:08:49.700028Z"
    },
    "hidden": true,
    "scrolled": true
   },
   "outputs": [
    {
     "data": {
      "text/html": [
       "<div>\n",
       "<style scoped>\n",
       "    .dataframe tbody tr th:only-of-type {\n",
       "        vertical-align: middle;\n",
       "    }\n",
       "\n",
       "    .dataframe tbody tr th {\n",
       "        vertical-align: top;\n",
       "    }\n",
       "\n",
       "    .dataframe thead th {\n",
       "        text-align: right;\n",
       "    }\n",
       "</style>\n",
       "<table border=\"1\" class=\"dataframe\">\n",
       "  <thead>\n",
       "    <tr style=\"text-align: right;\">\n",
       "      <th></th>\n",
       "      <th>avg_glucose_level</th>\n",
       "      <th>bmi</th>\n",
       "      <th>age</th>\n",
       "      <th>gender</th>\n",
       "      <th>hypertension</th>\n",
       "      <th>heart_disease</th>\n",
       "      <th>ever_married</th>\n",
       "      <th>work_type</th>\n",
       "      <th>Residence_type</th>\n",
       "      <th>smoking_status</th>\n",
       "      <th>stroke</th>\n",
       "    </tr>\n",
       "  </thead>\n",
       "  <tbody>\n",
       "    <tr>\n",
       "      <th>542</th>\n",
       "      <td>87.03</td>\n",
       "      <td>55.2</td>\n",
       "      <td>53</td>\n",
       "      <td>Female</td>\n",
       "      <td>1</td>\n",
       "      <td>0</td>\n",
       "      <td>Yes</td>\n",
       "      <td>Private</td>\n",
       "      <td>Urban</td>\n",
       "      <td>formerly smoked</td>\n",
       "      <td>0</td>\n",
       "    </tr>\n",
       "    <tr>\n",
       "      <th>987</th>\n",
       "      <td>204.92</td>\n",
       "      <td>49.6</td>\n",
       "      <td>66</td>\n",
       "      <td>Female</td>\n",
       "      <td>0</td>\n",
       "      <td>1</td>\n",
       "      <td>Yes</td>\n",
       "      <td>Private</td>\n",
       "      <td>Urban</td>\n",
       "      <td>formerly smoked</td>\n",
       "      <td>0</td>\n",
       "    </tr>\n",
       "    <tr>\n",
       "      <th>1492</th>\n",
       "      <td>128.00</td>\n",
       "      <td>47.6</td>\n",
       "      <td>35</td>\n",
       "      <td>Female</td>\n",
       "      <td>0</td>\n",
       "      <td>0</td>\n",
       "      <td>Yes</td>\n",
       "      <td>Govt_job</td>\n",
       "      <td>Rural</td>\n",
       "      <td>never smoked</td>\n",
       "      <td>0</td>\n",
       "    </tr>\n",
       "    <tr>\n",
       "      <th>1724</th>\n",
       "      <td>97.88</td>\n",
       "      <td>47.7</td>\n",
       "      <td>35</td>\n",
       "      <td>Female</td>\n",
       "      <td>0</td>\n",
       "      <td>0</td>\n",
       "      <td>Yes</td>\n",
       "      <td>Private</td>\n",
       "      <td>Rural</td>\n",
       "      <td>never smoked</td>\n",
       "      <td>0</td>\n",
       "    </tr>\n",
       "    <tr>\n",
       "      <th>2673</th>\n",
       "      <td>193.62</td>\n",
       "      <td>48.7</td>\n",
       "      <td>51</td>\n",
       "      <td>Male</td>\n",
       "      <td>1</td>\n",
       "      <td>1</td>\n",
       "      <td>Yes</td>\n",
       "      <td>Private</td>\n",
       "      <td>Urban</td>\n",
       "      <td>formerly smoked</td>\n",
       "      <td>1</td>\n",
       "    </tr>\n",
       "    <tr>\n",
       "      <th>66</th>\n",
       "      <td>70.70</td>\n",
       "      <td>48.1</td>\n",
       "      <td>22</td>\n",
       "      <td>Female</td>\n",
       "      <td>0</td>\n",
       "      <td>0</td>\n",
       "      <td>No</td>\n",
       "      <td>Private</td>\n",
       "      <td>Rural</td>\n",
       "      <td>formerly smoked</td>\n",
       "      <td>0</td>\n",
       "    </tr>\n",
       "    <tr>\n",
       "      <th>955</th>\n",
       "      <td>83.78</td>\n",
       "      <td>54.9</td>\n",
       "      <td>21</td>\n",
       "      <td>Male</td>\n",
       "      <td>0</td>\n",
       "      <td>0</td>\n",
       "      <td>No</td>\n",
       "      <td>Private</td>\n",
       "      <td>Urban</td>\n",
       "      <td>never smoked</td>\n",
       "      <td>0</td>\n",
       "    </tr>\n",
       "    <tr>\n",
       "      <th>2560</th>\n",
       "      <td>70.41</td>\n",
       "      <td>47.6</td>\n",
       "      <td>43</td>\n",
       "      <td>Male</td>\n",
       "      <td>0</td>\n",
       "      <td>0</td>\n",
       "      <td>Yes</td>\n",
       "      <td>Private</td>\n",
       "      <td>Rural</td>\n",
       "      <td>never smoked</td>\n",
       "      <td>1</td>\n",
       "    </tr>\n",
       "    <tr>\n",
       "      <th>2081</th>\n",
       "      <td>207.98</td>\n",
       "      <td>53.8</td>\n",
       "      <td>64</td>\n",
       "      <td>Female</td>\n",
       "      <td>1</td>\n",
       "      <td>0</td>\n",
       "      <td>Yes</td>\n",
       "      <td>Self-employed</td>\n",
       "      <td>Rural</td>\n",
       "      <td>formerly smoked</td>\n",
       "      <td>0</td>\n",
       "    </tr>\n",
       "    <tr>\n",
       "      <th>1100</th>\n",
       "      <td>104.28</td>\n",
       "      <td>49.1</td>\n",
       "      <td>48</td>\n",
       "      <td>Female</td>\n",
       "      <td>0</td>\n",
       "      <td>0</td>\n",
       "      <td>Yes</td>\n",
       "      <td>Private</td>\n",
       "      <td>Rural</td>\n",
       "      <td>never smoked</td>\n",
       "      <td>0</td>\n",
       "    </tr>\n",
       "    <tr>\n",
       "      <th>1062</th>\n",
       "      <td>84.39</td>\n",
       "      <td>48.3</td>\n",
       "      <td>39</td>\n",
       "      <td>Female</td>\n",
       "      <td>0</td>\n",
       "      <td>0</td>\n",
       "      <td>Yes</td>\n",
       "      <td>Private</td>\n",
       "      <td>Rural</td>\n",
       "      <td>never smoked</td>\n",
       "      <td>0</td>\n",
       "    </tr>\n",
       "    <tr>\n",
       "      <th>2148</th>\n",
       "      <td>113.06</td>\n",
       "      <td>48.0</td>\n",
       "      <td>41</td>\n",
       "      <td>Female</td>\n",
       "      <td>1</td>\n",
       "      <td>0</td>\n",
       "      <td>Yes</td>\n",
       "      <td>Govt_job</td>\n",
       "      <td>Urban</td>\n",
       "      <td>never smoked</td>\n",
       "      <td>0</td>\n",
       "    </tr>\n",
       "    <tr>\n",
       "      <th>2688</th>\n",
       "      <td>88.57</td>\n",
       "      <td>47.6</td>\n",
       "      <td>52</td>\n",
       "      <td>Female</td>\n",
       "      <td>0</td>\n",
       "      <td>1</td>\n",
       "      <td>Yes</td>\n",
       "      <td>Private</td>\n",
       "      <td>Rural</td>\n",
       "      <td>smokes</td>\n",
       "      <td>1</td>\n",
       "    </tr>\n",
       "    <tr>\n",
       "      <th>1358</th>\n",
       "      <td>218.60</td>\n",
       "      <td>47.9</td>\n",
       "      <td>38</td>\n",
       "      <td>Female</td>\n",
       "      <td>0</td>\n",
       "      <td>0</td>\n",
       "      <td>No</td>\n",
       "      <td>Private</td>\n",
       "      <td>Urban</td>\n",
       "      <td>formerly smoked</td>\n",
       "      <td>0</td>\n",
       "    </tr>\n",
       "    <tr>\n",
       "      <th>363</th>\n",
       "      <td>99.33</td>\n",
       "      <td>47.2</td>\n",
       "      <td>70</td>\n",
       "      <td>Female</td>\n",
       "      <td>0</td>\n",
       "      <td>0</td>\n",
       "      <td>Yes</td>\n",
       "      <td>Private</td>\n",
       "      <td>Urban</td>\n",
       "      <td>formerly smoked</td>\n",
       "      <td>0</td>\n",
       "    </tr>\n",
       "    <tr>\n",
       "      <th>1416</th>\n",
       "      <td>60.03</td>\n",
       "      <td>48.6</td>\n",
       "      <td>53</td>\n",
       "      <td>Male</td>\n",
       "      <td>0</td>\n",
       "      <td>0</td>\n",
       "      <td>Yes</td>\n",
       "      <td>Private</td>\n",
       "      <td>Rural</td>\n",
       "      <td>never smoked</td>\n",
       "      <td>0</td>\n",
       "    </tr>\n",
       "    <tr>\n",
       "      <th>1535</th>\n",
       "      <td>87.75</td>\n",
       "      <td>60.1</td>\n",
       "      <td>44</td>\n",
       "      <td>Female</td>\n",
       "      <td>0</td>\n",
       "      <td>0</td>\n",
       "      <td>Yes</td>\n",
       "      <td>Private</td>\n",
       "      <td>Urban</td>\n",
       "      <td>never smoked</td>\n",
       "      <td>0</td>\n",
       "    </tr>\n",
       "    <tr>\n",
       "      <th>1352</th>\n",
       "      <td>163.54</td>\n",
       "      <td>48.1</td>\n",
       "      <td>74</td>\n",
       "      <td>Female</td>\n",
       "      <td>0</td>\n",
       "      <td>0</td>\n",
       "      <td>Yes</td>\n",
       "      <td>Self-employed</td>\n",
       "      <td>Rural</td>\n",
       "      <td>never smoked</td>\n",
       "      <td>0</td>\n",
       "    </tr>\n",
       "    <tr>\n",
       "      <th>1400</th>\n",
       "      <td>88.65</td>\n",
       "      <td>51.1</td>\n",
       "      <td>20</td>\n",
       "      <td>Female</td>\n",
       "      <td>0</td>\n",
       "      <td>0</td>\n",
       "      <td>No</td>\n",
       "      <td>Private</td>\n",
       "      <td>Rural</td>\n",
       "      <td>never smoked</td>\n",
       "      <td>0</td>\n",
       "    </tr>\n",
       "    <tr>\n",
       "      <th>1147</th>\n",
       "      <td>234.82</td>\n",
       "      <td>51.8</td>\n",
       "      <td>59</td>\n",
       "      <td>Female</td>\n",
       "      <td>0</td>\n",
       "      <td>0</td>\n",
       "      <td>Yes</td>\n",
       "      <td>Private</td>\n",
       "      <td>Rural</td>\n",
       "      <td>never smoked</td>\n",
       "      <td>0</td>\n",
       "    </tr>\n",
       "    <tr>\n",
       "      <th>1850</th>\n",
       "      <td>181.17</td>\n",
       "      <td>59.7</td>\n",
       "      <td>67</td>\n",
       "      <td>Female</td>\n",
       "      <td>0</td>\n",
       "      <td>0</td>\n",
       "      <td>Yes</td>\n",
       "      <td>Self-employed</td>\n",
       "      <td>Rural</td>\n",
       "      <td>formerly smoked</td>\n",
       "      <td>0</td>\n",
       "    </tr>\n",
       "    <tr>\n",
       "      <th>544</th>\n",
       "      <td>110.54</td>\n",
       "      <td>47.6</td>\n",
       "      <td>37</td>\n",
       "      <td>Female</td>\n",
       "      <td>0</td>\n",
       "      <td>0</td>\n",
       "      <td>Yes</td>\n",
       "      <td>Private</td>\n",
       "      <td>Rural</td>\n",
       "      <td>never smoked</td>\n",
       "      <td>0</td>\n",
       "    </tr>\n",
       "    <tr>\n",
       "      <th>1247</th>\n",
       "      <td>201.42</td>\n",
       "      <td>50.8</td>\n",
       "      <td>46</td>\n",
       "      <td>Female</td>\n",
       "      <td>0</td>\n",
       "      <td>0</td>\n",
       "      <td>Yes</td>\n",
       "      <td>Private</td>\n",
       "      <td>Urban</td>\n",
       "      <td>smokes</td>\n",
       "      <td>0</td>\n",
       "    </tr>\n",
       "    <tr>\n",
       "      <th>2004</th>\n",
       "      <td>122.13</td>\n",
       "      <td>51.2</td>\n",
       "      <td>32</td>\n",
       "      <td>Female</td>\n",
       "      <td>0</td>\n",
       "      <td>0</td>\n",
       "      <td>Yes</td>\n",
       "      <td>Private</td>\n",
       "      <td>Rural</td>\n",
       "      <td>never smoked</td>\n",
       "      <td>0</td>\n",
       "    </tr>\n",
       "    <tr>\n",
       "      <th>474</th>\n",
       "      <td>213.70</td>\n",
       "      <td>52.2</td>\n",
       "      <td>68</td>\n",
       "      <td>Female</td>\n",
       "      <td>1</td>\n",
       "      <td>0</td>\n",
       "      <td>Yes</td>\n",
       "      <td>Private</td>\n",
       "      <td>Urban</td>\n",
       "      <td>formerly smoked</td>\n",
       "      <td>0</td>\n",
       "    </tr>\n",
       "  </tbody>\n",
       "</table>\n",
       "</div>"
      ],
      "text/plain": [
       "      avg_glucose_level   bmi  age  gender  hypertension  heart_disease  \\\n",
       "542               87.03  55.2   53  Female             1              0   \n",
       "987              204.92  49.6   66  Female             0              1   \n",
       "1492             128.00  47.6   35  Female             0              0   \n",
       "1724              97.88  47.7   35  Female             0              0   \n",
       "2673             193.62  48.7   51    Male             1              1   \n",
       "66                70.70  48.1   22  Female             0              0   \n",
       "955               83.78  54.9   21    Male             0              0   \n",
       "2560              70.41  47.6   43    Male             0              0   \n",
       "2081             207.98  53.8   64  Female             1              0   \n",
       "1100             104.28  49.1   48  Female             0              0   \n",
       "1062              84.39  48.3   39  Female             0              0   \n",
       "2148             113.06  48.0   41  Female             1              0   \n",
       "2688              88.57  47.6   52  Female             0              1   \n",
       "1358             218.60  47.9   38  Female             0              0   \n",
       "363               99.33  47.2   70  Female             0              0   \n",
       "1416              60.03  48.6   53    Male             0              0   \n",
       "1535              87.75  60.1   44  Female             0              0   \n",
       "1352             163.54  48.1   74  Female             0              0   \n",
       "1400              88.65  51.1   20  Female             0              0   \n",
       "1147             234.82  51.8   59  Female             0              0   \n",
       "1850             181.17  59.7   67  Female             0              0   \n",
       "544              110.54  47.6   37  Female             0              0   \n",
       "1247             201.42  50.8   46  Female             0              0   \n",
       "2004             122.13  51.2   32  Female             0              0   \n",
       "474              213.70  52.2   68  Female             1              0   \n",
       "\n",
       "     ever_married      work_type Residence_type   smoking_status  stroke  \n",
       "542           Yes        Private          Urban  formerly smoked       0  \n",
       "987           Yes        Private          Urban  formerly smoked       0  \n",
       "1492          Yes       Govt_job          Rural     never smoked       0  \n",
       "1724          Yes        Private          Rural     never smoked       0  \n",
       "2673          Yes        Private          Urban  formerly smoked       1  \n",
       "66             No        Private          Rural  formerly smoked       0  \n",
       "955            No        Private          Urban     never smoked       0  \n",
       "2560          Yes        Private          Rural     never smoked       1  \n",
       "2081          Yes  Self-employed          Rural  formerly smoked       0  \n",
       "1100          Yes        Private          Rural     never smoked       0  \n",
       "1062          Yes        Private          Rural     never smoked       0  \n",
       "2148          Yes       Govt_job          Urban     never smoked       0  \n",
       "2688          Yes        Private          Rural           smokes       1  \n",
       "1358           No        Private          Urban  formerly smoked       0  \n",
       "363           Yes        Private          Urban  formerly smoked       0  \n",
       "1416          Yes        Private          Rural     never smoked       0  \n",
       "1535          Yes        Private          Urban     never smoked       0  \n",
       "1352          Yes  Self-employed          Rural     never smoked       0  \n",
       "1400           No        Private          Rural     never smoked       0  \n",
       "1147          Yes        Private          Rural     never smoked       0  \n",
       "1850          Yes  Self-employed          Rural  formerly smoked       0  \n",
       "544           Yes        Private          Rural     never smoked       0  \n",
       "1247          Yes        Private          Urban           smokes       0  \n",
       "2004          Yes        Private          Rural     never smoked       0  \n",
       "474           Yes        Private          Urban  formerly smoked       0  "
      ]
     },
     "execution_count": 38,
     "metadata": {},
     "output_type": "execute_result"
    }
   ],
   "source": [
    "quantile1, quantile3 = stroke_df[\"bmi\"].quantile([0.25, 0.75]).values\n",
    "iqr = quantile3 - quantile1\n",
    "\n",
    "# sample 25 out of 70\n",
    "stroke_df[stroke_df[\"bmi\"] > quantile3 + 1.5 * iqr].sample(25)"
   ]
  },
  {
   "cell_type": "code",
   "execution_count": 39,
   "metadata": {
    "ExecuteTime": {
     "end_time": "2020-08-22T12:08:49.753912Z",
     "start_time": "2020-08-22T12:08:49.733972Z"
    },
    "hidden": true
   },
   "outputs": [
    {
     "data": {
      "text/html": [
       "<div>\n",
       "<style scoped>\n",
       "    .dataframe tbody tr th:only-of-type {\n",
       "        vertical-align: middle;\n",
       "    }\n",
       "\n",
       "    .dataframe tbody tr th {\n",
       "        vertical-align: top;\n",
       "    }\n",
       "\n",
       "    .dataframe thead th {\n",
       "        text-align: right;\n",
       "    }\n",
       "</style>\n",
       "<table border=\"1\" class=\"dataframe\">\n",
       "  <thead>\n",
       "    <tr style=\"text-align: right;\">\n",
       "      <th></th>\n",
       "      <th>avg_glucose_level</th>\n",
       "      <th>bmi</th>\n",
       "      <th>age</th>\n",
       "      <th>gender</th>\n",
       "      <th>hypertension</th>\n",
       "      <th>heart_disease</th>\n",
       "      <th>ever_married</th>\n",
       "      <th>work_type</th>\n",
       "      <th>Residence_type</th>\n",
       "      <th>smoking_status</th>\n",
       "      <th>stroke</th>\n",
       "    </tr>\n",
       "  </thead>\n",
       "  <tbody>\n",
       "    <tr>\n",
       "      <th>1949</th>\n",
       "      <td>81.5</td>\n",
       "      <td>11.0</td>\n",
       "      <td>49</td>\n",
       "      <td>Male</td>\n",
       "      <td>0</td>\n",
       "      <td>0</td>\n",
       "      <td>Yes</td>\n",
       "      <td>Private</td>\n",
       "      <td>Urban</td>\n",
       "      <td>never smoked</td>\n",
       "      <td>0</td>\n",
       "    </tr>\n",
       "  </tbody>\n",
       "</table>\n",
       "</div>"
      ],
      "text/plain": [
       "      avg_glucose_level   bmi  age gender  hypertension  heart_disease  \\\n",
       "1949               81.5  11.0   49   Male             0              0   \n",
       "\n",
       "     ever_married work_type Residence_type smoking_status  stroke  \n",
       "1949          Yes   Private          Urban   never smoked       0  "
      ]
     },
     "execution_count": 39,
     "metadata": {},
     "output_type": "execute_result"
    }
   ],
   "source": [
    "stroke_df[stroke_df[\"bmi\"] < quantile1 - 1.5 * iqr]"
   ]
  },
  {
   "cell_type": "markdown",
   "metadata": {
    "hidden": true
   },
   "source": [
    "<font color=blue>As you can see from the above, there are 71 outlier for bmi attribute in all instances.</font>"
   ]
  },
  {
   "cell_type": "markdown",
   "metadata": {
    "heading_collapsed": true,
    "hidden": true
   },
   "source": [
    "##### bmi by stroke class"
   ]
  },
  {
   "cell_type": "code",
   "execution_count": 40,
   "metadata": {
    "ExecuteTime": {
     "end_time": "2020-08-22T12:08:49.941412Z",
     "start_time": "2020-08-22T12:08:49.786797Z"
    },
    "hidden": true
   },
   "outputs": [
    {
     "data": {
      "text/plain": [
       "<matplotlib.axes._subplots.AxesSubplot at 0x1b4ed8b0>"
      ]
     },
     "execution_count": 40,
     "metadata": {},
     "output_type": "execute_result"
    },
    {
     "data": {
      "image/png": "[encoded data removed]",
      "text/plain": [
       "<matplotlib.figure.Figure at 0x1b47cc90>"
      ]
     },
     "metadata": {},
     "output_type": "display_data"
    }
   ],
   "source": [
    "stroke_df.boxplot(column=\"bmi\",by='stroke')"
   ]
  },
  {
   "cell_type": "markdown",
   "metadata": {
    "ExecuteTime": {
     "end_time": "2020-08-18T11:56:26.191889Z",
     "start_time": "2020-08-18T11:56:26.185905Z"
    },
    "hidden": true
   },
   "source": [
    "<font color=blue>As you can see from the above, there are outliers for bmi attribute when grouped by stroke class.</font>"
   ]
  },
  {
   "cell_type": "code",
   "execution_count": 41,
   "metadata": {
    "ExecuteTime": {
     "end_time": "2020-08-22T12:08:49.961362Z",
     "start_time": "2020-08-22T12:08:49.943378Z"
    },
    "hidden": true
   },
   "outputs": [],
   "source": [
    "outliers = []\n",
    "\n",
    "for c in [0, 1]:\n",
    "    filtered_stroke_df = stroke_df[stroke_df[\"stroke\"] == c]\n",
    "\n",
    "    quantile1, quantile3 = filtered_stroke_df[\"bmi\"].quantile([0.25, 0.75]).values\n",
    "    iqr = quantile3 - quantile1\n",
    "\n",
    "    outliers.append(filtered_stroke_df[filtered_stroke_df[\"bmi\"] < quantile1 - 1.5 * iqr])\n",
    "    outliers.append(filtered_stroke_df[filtered_stroke_df[\"bmi\"] > quantile3 + 1.5 * iqr])"
   ]
  },
  {
   "cell_type": "markdown",
   "metadata": {
    "hidden": true
   },
   "source": [
    "<font color=blue>Following are the outliers for stroke=0 class.</font>"
   ]
  },
  {
   "cell_type": "code",
   "execution_count": 42,
   "metadata": {
    "ExecuteTime": {
     "end_time": "2020-08-22T12:08:50.012226Z",
     "start_time": "2020-08-22T12:08:49.998258Z"
    },
    "hidden": true
   },
   "outputs": [
    {
     "data": {
      "text/html": [
       "<div>\n",
       "<style scoped>\n",
       "    .dataframe tbody tr th:only-of-type {\n",
       "        vertical-align: middle;\n",
       "    }\n",
       "\n",
       "    .dataframe tbody tr th {\n",
       "        vertical-align: top;\n",
       "    }\n",
       "\n",
       "    .dataframe thead th {\n",
       "        text-align: right;\n",
       "    }\n",
       "</style>\n",
       "<table border=\"1\" class=\"dataframe\">\n",
       "  <thead>\n",
       "    <tr style=\"text-align: right;\">\n",
       "      <th></th>\n",
       "      <th>avg_glucose_level</th>\n",
       "      <th>bmi</th>\n",
       "      <th>age</th>\n",
       "      <th>gender</th>\n",
       "      <th>hypertension</th>\n",
       "      <th>heart_disease</th>\n",
       "      <th>ever_married</th>\n",
       "      <th>work_type</th>\n",
       "      <th>Residence_type</th>\n",
       "      <th>smoking_status</th>\n",
       "      <th>stroke</th>\n",
       "    </tr>\n",
       "  </thead>\n",
       "  <tbody>\n",
       "    <tr>\n",
       "      <th>1949</th>\n",
       "      <td>81.5</td>\n",
       "      <td>11.0</td>\n",
       "      <td>49</td>\n",
       "      <td>Male</td>\n",
       "      <td>0</td>\n",
       "      <td>0</td>\n",
       "      <td>Yes</td>\n",
       "      <td>Private</td>\n",
       "      <td>Urban</td>\n",
       "      <td>never smoked</td>\n",
       "      <td>0</td>\n",
       "    </tr>\n",
       "  </tbody>\n",
       "</table>\n",
       "</div>"
      ],
      "text/plain": [
       "      avg_glucose_level   bmi  age gender  hypertension  heart_disease  \\\n",
       "1949               81.5  11.0   49   Male             0              0   \n",
       "\n",
       "     ever_married work_type Residence_type smoking_status  stroke  \n",
       "1949          Yes   Private          Urban   never smoked       0  "
      ]
     },
     "execution_count": 42,
     "metadata": {},
     "output_type": "execute_result"
    }
   ],
   "source": [
    "outliers[0]"
   ]
  },
  {
   "cell_type": "code",
   "execution_count": 43,
   "metadata": {
    "ExecuteTime": {
     "end_time": "2020-08-22T12:08:50.062097Z",
     "start_time": "2020-08-22T12:08:50.014188Z"
    },
    "hidden": true,
    "scrolled": true
   },
   "outputs": [
    {
     "data": {
      "text/html": [
       "<div>\n",
       "<style scoped>\n",
       "    .dataframe tbody tr th:only-of-type {\n",
       "        vertical-align: middle;\n",
       "    }\n",
       "\n",
       "    .dataframe tbody tr th {\n",
       "        vertical-align: top;\n",
       "    }\n",
       "\n",
       "    .dataframe thead th {\n",
       "        text-align: right;\n",
       "    }\n",
       "</style>\n",
       "<table border=\"1\" class=\"dataframe\">\n",
       "  <thead>\n",
       "    <tr style=\"text-align: right;\">\n",
       "      <th></th>\n",
       "      <th>avg_glucose_level</th>\n",
       "      <th>bmi</th>\n",
       "      <th>age</th>\n",
       "      <th>gender</th>\n",
       "      <th>hypertension</th>\n",
       "      <th>heart_disease</th>\n",
       "      <th>ever_married</th>\n",
       "      <th>work_type</th>\n",
       "      <th>Residence_type</th>\n",
       "      <th>smoking_status</th>\n",
       "      <th>stroke</th>\n",
       "    </tr>\n",
       "  </thead>\n",
       "  <tbody>\n",
       "    <tr>\n",
       "      <th>43</th>\n",
       "      <td>59.70</td>\n",
       "      <td>49.3</td>\n",
       "      <td>23</td>\n",
       "      <td>Female</td>\n",
       "      <td>0</td>\n",
       "      <td>0</td>\n",
       "      <td>No</td>\n",
       "      <td>Private</td>\n",
       "      <td>Urban</td>\n",
       "      <td>formerly smoked</td>\n",
       "      <td>0</td>\n",
       "    </tr>\n",
       "    <tr>\n",
       "      <th>64</th>\n",
       "      <td>223.39</td>\n",
       "      <td>58.4</td>\n",
       "      <td>55</td>\n",
       "      <td>Male</td>\n",
       "      <td>1</td>\n",
       "      <td>0</td>\n",
       "      <td>Yes</td>\n",
       "      <td>Self-employed</td>\n",
       "      <td>Urban</td>\n",
       "      <td>never smoked</td>\n",
       "      <td>0</td>\n",
       "    </tr>\n",
       "    <tr>\n",
       "      <th>66</th>\n",
       "      <td>70.70</td>\n",
       "      <td>48.1</td>\n",
       "      <td>22</td>\n",
       "      <td>Female</td>\n",
       "      <td>0</td>\n",
       "      <td>0</td>\n",
       "      <td>No</td>\n",
       "      <td>Private</td>\n",
       "      <td>Rural</td>\n",
       "      <td>formerly smoked</td>\n",
       "      <td>0</td>\n",
       "    </tr>\n",
       "    <tr>\n",
       "      <th>93</th>\n",
       "      <td>171.42</td>\n",
       "      <td>59.9</td>\n",
       "      <td>54</td>\n",
       "      <td>Female</td>\n",
       "      <td>1</td>\n",
       "      <td>0</td>\n",
       "      <td>Yes</td>\n",
       "      <td>Private</td>\n",
       "      <td>Urban</td>\n",
       "      <td>never smoked</td>\n",
       "      <td>0</td>\n",
       "    </tr>\n",
       "    <tr>\n",
       "      <th>97</th>\n",
       "      <td>87.17</td>\n",
       "      <td>51.8</td>\n",
       "      <td>44</td>\n",
       "      <td>Male</td>\n",
       "      <td>1</td>\n",
       "      <td>0</td>\n",
       "      <td>No</td>\n",
       "      <td>Private</td>\n",
       "      <td>Rural</td>\n",
       "      <td>formerly smoked</td>\n",
       "      <td>0</td>\n",
       "    </tr>\n",
       "    <tr>\n",
       "      <th>101</th>\n",
       "      <td>83.00</td>\n",
       "      <td>48.9</td>\n",
       "      <td>29</td>\n",
       "      <td>Female</td>\n",
       "      <td>0</td>\n",
       "      <td>0</td>\n",
       "      <td>No</td>\n",
       "      <td>Private</td>\n",
       "      <td>Rural</td>\n",
       "      <td>smokes</td>\n",
       "      <td>0</td>\n",
       "    </tr>\n",
       "    <tr>\n",
       "      <th>127</th>\n",
       "      <td>87.39</td>\n",
       "      <td>57.9</td>\n",
       "      <td>39</td>\n",
       "      <td>Female</td>\n",
       "      <td>0</td>\n",
       "      <td>0</td>\n",
       "      <td>Yes</td>\n",
       "      <td>Private</td>\n",
       "      <td>Urban</td>\n",
       "      <td>never smoked</td>\n",
       "      <td>0</td>\n",
       "    </tr>\n",
       "    <tr>\n",
       "      <th>293</th>\n",
       "      <td>84.27</td>\n",
       "      <td>55.8</td>\n",
       "      <td>37</td>\n",
       "      <td>Female</td>\n",
       "      <td>0</td>\n",
       "      <td>0</td>\n",
       "      <td>Yes</td>\n",
       "      <td>Private</td>\n",
       "      <td>Rural</td>\n",
       "      <td>never smoked</td>\n",
       "      <td>0</td>\n",
       "    </tr>\n",
       "    <tr>\n",
       "      <th>299</th>\n",
       "      <td>63.89</td>\n",
       "      <td>53.8</td>\n",
       "      <td>33</td>\n",
       "      <td>Female</td>\n",
       "      <td>0</td>\n",
       "      <td>0</td>\n",
       "      <td>No</td>\n",
       "      <td>Private</td>\n",
       "      <td>Rural</td>\n",
       "      <td>formerly smoked</td>\n",
       "      <td>0</td>\n",
       "    </tr>\n",
       "    <tr>\n",
       "      <th>320</th>\n",
       "      <td>170.53</td>\n",
       "      <td>52.4</td>\n",
       "      <td>66</td>\n",
       "      <td>Female</td>\n",
       "      <td>0</td>\n",
       "      <td>0</td>\n",
       "      <td>Yes</td>\n",
       "      <td>Private</td>\n",
       "      <td>Urban</td>\n",
       "      <td>formerly smoked</td>\n",
       "      <td>0</td>\n",
       "    </tr>\n",
       "    <tr>\n",
       "      <th>355</th>\n",
       "      <td>125.97</td>\n",
       "      <td>52.6</td>\n",
       "      <td>46</td>\n",
       "      <td>Male</td>\n",
       "      <td>0</td>\n",
       "      <td>0</td>\n",
       "      <td>Yes</td>\n",
       "      <td>Private</td>\n",
       "      <td>Rural</td>\n",
       "      <td>smokes</td>\n",
       "      <td>0</td>\n",
       "    </tr>\n",
       "    <tr>\n",
       "      <th>440</th>\n",
       "      <td>230.77</td>\n",
       "      <td>56.8</td>\n",
       "      <td>59</td>\n",
       "      <td>Female</td>\n",
       "      <td>1</td>\n",
       "      <td>0</td>\n",
       "      <td>Yes</td>\n",
       "      <td>Private</td>\n",
       "      <td>Rural</td>\n",
       "      <td>never smoked</td>\n",
       "      <td>0</td>\n",
       "    </tr>\n",
       "    <tr>\n",
       "      <th>474</th>\n",
       "      <td>213.70</td>\n",
       "      <td>52.2</td>\n",
       "      <td>68</td>\n",
       "      <td>Female</td>\n",
       "      <td>1</td>\n",
       "      <td>0</td>\n",
       "      <td>Yes</td>\n",
       "      <td>Private</td>\n",
       "      <td>Urban</td>\n",
       "      <td>formerly smoked</td>\n",
       "      <td>0</td>\n",
       "    </tr>\n",
       "    <tr>\n",
       "      <th>500</th>\n",
       "      <td>84.47</td>\n",
       "      <td>52.7</td>\n",
       "      <td>65</td>\n",
       "      <td>Female</td>\n",
       "      <td>0</td>\n",
       "      <td>0</td>\n",
       "      <td>Yes</td>\n",
       "      <td>Govt_job</td>\n",
       "      <td>Urban</td>\n",
       "      <td>smokes</td>\n",
       "      <td>0</td>\n",
       "    </tr>\n",
       "    <tr>\n",
       "      <th>542</th>\n",
       "      <td>87.03</td>\n",
       "      <td>55.2</td>\n",
       "      <td>53</td>\n",
       "      <td>Female</td>\n",
       "      <td>1</td>\n",
       "      <td>0</td>\n",
       "      <td>Yes</td>\n",
       "      <td>Private</td>\n",
       "      <td>Urban</td>\n",
       "      <td>formerly smoked</td>\n",
       "      <td>0</td>\n",
       "    </tr>\n",
       "    <tr>\n",
       "      <th>638</th>\n",
       "      <td>222.51</td>\n",
       "      <td>49.7</td>\n",
       "      <td>55</td>\n",
       "      <td>Male</td>\n",
       "      <td>1</td>\n",
       "      <td>0</td>\n",
       "      <td>Yes</td>\n",
       "      <td>Self-employed</td>\n",
       "      <td>Rural</td>\n",
       "      <td>never smoked</td>\n",
       "      <td>0</td>\n",
       "    </tr>\n",
       "    <tr>\n",
       "      <th>830</th>\n",
       "      <td>189.53</td>\n",
       "      <td>58.0</td>\n",
       "      <td>43</td>\n",
       "      <td>Female</td>\n",
       "      <td>0</td>\n",
       "      <td>0</td>\n",
       "      <td>Yes</td>\n",
       "      <td>Self-employed</td>\n",
       "      <td>Urban</td>\n",
       "      <td>smokes</td>\n",
       "      <td>0</td>\n",
       "    </tr>\n",
       "    <tr>\n",
       "      <th>839</th>\n",
       "      <td>93.39</td>\n",
       "      <td>51.3</td>\n",
       "      <td>72</td>\n",
       "      <td>Male</td>\n",
       "      <td>0</td>\n",
       "      <td>0</td>\n",
       "      <td>No</td>\n",
       "      <td>Private</td>\n",
       "      <td>Rural</td>\n",
       "      <td>formerly smoked</td>\n",
       "      <td>0</td>\n",
       "    </tr>\n",
       "    <tr>\n",
       "      <th>843</th>\n",
       "      <td>80.46</td>\n",
       "      <td>48.9</td>\n",
       "      <td>64</td>\n",
       "      <td>Female</td>\n",
       "      <td>0</td>\n",
       "      <td>0</td>\n",
       "      <td>Yes</td>\n",
       "      <td>Govt_job</td>\n",
       "      <td>Rural</td>\n",
       "      <td>never smoked</td>\n",
       "      <td>0</td>\n",
       "    </tr>\n",
       "    <tr>\n",
       "      <th>943</th>\n",
       "      <td>75.20</td>\n",
       "      <td>52.1</td>\n",
       "      <td>24</td>\n",
       "      <td>Female</td>\n",
       "      <td>0</td>\n",
       "      <td>0</td>\n",
       "      <td>No</td>\n",
       "      <td>Private</td>\n",
       "      <td>Rural</td>\n",
       "      <td>smokes</td>\n",
       "      <td>0</td>\n",
       "    </tr>\n",
       "    <tr>\n",
       "      <th>955</th>\n",
       "      <td>83.78</td>\n",
       "      <td>54.9</td>\n",
       "      <td>21</td>\n",
       "      <td>Male</td>\n",
       "      <td>0</td>\n",
       "      <td>0</td>\n",
       "      <td>No</td>\n",
       "      <td>Private</td>\n",
       "      <td>Urban</td>\n",
       "      <td>never smoked</td>\n",
       "      <td>0</td>\n",
       "    </tr>\n",
       "    <tr>\n",
       "      <th>987</th>\n",
       "      <td>204.92</td>\n",
       "      <td>49.6</td>\n",
       "      <td>66</td>\n",
       "      <td>Female</td>\n",
       "      <td>0</td>\n",
       "      <td>1</td>\n",
       "      <td>Yes</td>\n",
       "      <td>Private</td>\n",
       "      <td>Urban</td>\n",
       "      <td>formerly smoked</td>\n",
       "      <td>0</td>\n",
       "    </tr>\n",
       "    <tr>\n",
       "      <th>1034</th>\n",
       "      <td>100.11</td>\n",
       "      <td>51.0</td>\n",
       "      <td>45</td>\n",
       "      <td>Female</td>\n",
       "      <td>1</td>\n",
       "      <td>0</td>\n",
       "      <td>Yes</td>\n",
       "      <td>Private</td>\n",
       "      <td>Rural</td>\n",
       "      <td>smokes</td>\n",
       "      <td>0</td>\n",
       "    </tr>\n",
       "    <tr>\n",
       "      <th>1062</th>\n",
       "      <td>84.39</td>\n",
       "      <td>48.3</td>\n",
       "      <td>39</td>\n",
       "      <td>Female</td>\n",
       "      <td>0</td>\n",
       "      <td>0</td>\n",
       "      <td>Yes</td>\n",
       "      <td>Private</td>\n",
       "      <td>Rural</td>\n",
       "      <td>never smoked</td>\n",
       "      <td>0</td>\n",
       "    </tr>\n",
       "    <tr>\n",
       "      <th>1100</th>\n",
       "      <td>104.28</td>\n",
       "      <td>49.1</td>\n",
       "      <td>48</td>\n",
       "      <td>Female</td>\n",
       "      <td>0</td>\n",
       "      <td>0</td>\n",
       "      <td>Yes</td>\n",
       "      <td>Private</td>\n",
       "      <td>Rural</td>\n",
       "      <td>never smoked</td>\n",
       "      <td>0</td>\n",
       "    </tr>\n",
       "    <tr>\n",
       "      <th>1111</th>\n",
       "      <td>56.82</td>\n",
       "      <td>54.0</td>\n",
       "      <td>62</td>\n",
       "      <td>Female</td>\n",
       "      <td>1</td>\n",
       "      <td>0</td>\n",
       "      <td>Yes</td>\n",
       "      <td>Private</td>\n",
       "      <td>Urban</td>\n",
       "      <td>never smoked</td>\n",
       "      <td>0</td>\n",
       "    </tr>\n",
       "    <tr>\n",
       "      <th>1143</th>\n",
       "      <td>220.47</td>\n",
       "      <td>48.7</td>\n",
       "      <td>65</td>\n",
       "      <td>Female</td>\n",
       "      <td>0</td>\n",
       "      <td>0</td>\n",
       "      <td>Yes</td>\n",
       "      <td>Private</td>\n",
       "      <td>Rural</td>\n",
       "      <td>never smoked</td>\n",
       "      <td>0</td>\n",
       "    </tr>\n",
       "    <tr>\n",
       "      <th>1147</th>\n",
       "      <td>234.82</td>\n",
       "      <td>51.8</td>\n",
       "      <td>59</td>\n",
       "      <td>Female</td>\n",
       "      <td>0</td>\n",
       "      <td>0</td>\n",
       "      <td>Yes</td>\n",
       "      <td>Private</td>\n",
       "      <td>Rural</td>\n",
       "      <td>never smoked</td>\n",
       "      <td>0</td>\n",
       "    </tr>\n",
       "    <tr>\n",
       "      <th>1247</th>\n",
       "      <td>201.42</td>\n",
       "      <td>50.8</td>\n",
       "      <td>46</td>\n",
       "      <td>Female</td>\n",
       "      <td>0</td>\n",
       "      <td>0</td>\n",
       "      <td>Yes</td>\n",
       "      <td>Private</td>\n",
       "      <td>Urban</td>\n",
       "      <td>smokes</td>\n",
       "      <td>0</td>\n",
       "    </tr>\n",
       "    <tr>\n",
       "      <th>1352</th>\n",
       "      <td>163.54</td>\n",
       "      <td>48.1</td>\n",
       "      <td>74</td>\n",
       "      <td>Female</td>\n",
       "      <td>0</td>\n",
       "      <td>0</td>\n",
       "      <td>Yes</td>\n",
       "      <td>Self-employed</td>\n",
       "      <td>Rural</td>\n",
       "      <td>never smoked</td>\n",
       "      <td>0</td>\n",
       "    </tr>\n",
       "    <tr>\n",
       "      <th>1358</th>\n",
       "      <td>218.60</td>\n",
       "      <td>47.9</td>\n",
       "      <td>38</td>\n",
       "      <td>Female</td>\n",
       "      <td>0</td>\n",
       "      <td>0</td>\n",
       "      <td>No</td>\n",
       "      <td>Private</td>\n",
       "      <td>Urban</td>\n",
       "      <td>formerly smoked</td>\n",
       "      <td>0</td>\n",
       "    </tr>\n",
       "    <tr>\n",
       "      <th>1363</th>\n",
       "      <td>134.05</td>\n",
       "      <td>48.3</td>\n",
       "      <td>25</td>\n",
       "      <td>Female</td>\n",
       "      <td>0</td>\n",
       "      <td>0</td>\n",
       "      <td>No</td>\n",
       "      <td>Self-employed</td>\n",
       "      <td>Urban</td>\n",
       "      <td>never smoked</td>\n",
       "      <td>0</td>\n",
       "    </tr>\n",
       "    <tr>\n",
       "      <th>1386</th>\n",
       "      <td>82.71</td>\n",
       "      <td>48.4</td>\n",
       "      <td>41</td>\n",
       "      <td>Female</td>\n",
       "      <td>0</td>\n",
       "      <td>0</td>\n",
       "      <td>Yes</td>\n",
       "      <td>Govt_job</td>\n",
       "      <td>Urban</td>\n",
       "      <td>never smoked</td>\n",
       "      <td>0</td>\n",
       "    </tr>\n",
       "    <tr>\n",
       "      <th>1400</th>\n",
       "      <td>88.65</td>\n",
       "      <td>51.1</td>\n",
       "      <td>20</td>\n",
       "      <td>Female</td>\n",
       "      <td>0</td>\n",
       "      <td>0</td>\n",
       "      <td>No</td>\n",
       "      <td>Private</td>\n",
       "      <td>Rural</td>\n",
       "      <td>never smoked</td>\n",
       "      <td>0</td>\n",
       "    </tr>\n",
       "    <tr>\n",
       "      <th>1416</th>\n",
       "      <td>60.03</td>\n",
       "      <td>48.6</td>\n",
       "      <td>53</td>\n",
       "      <td>Male</td>\n",
       "      <td>0</td>\n",
       "      <td>0</td>\n",
       "      <td>Yes</td>\n",
       "      <td>Private</td>\n",
       "      <td>Rural</td>\n",
       "      <td>never smoked</td>\n",
       "      <td>0</td>\n",
       "    </tr>\n",
       "    <tr>\n",
       "      <th>1511</th>\n",
       "      <td>87.10</td>\n",
       "      <td>48.3</td>\n",
       "      <td>57</td>\n",
       "      <td>Female</td>\n",
       "      <td>0</td>\n",
       "      <td>0</td>\n",
       "      <td>Yes</td>\n",
       "      <td>Govt_job</td>\n",
       "      <td>Rural</td>\n",
       "      <td>smokes</td>\n",
       "      <td>0</td>\n",
       "    </tr>\n",
       "    <tr>\n",
       "      <th>1535</th>\n",
       "      <td>87.75</td>\n",
       "      <td>60.1</td>\n",
       "      <td>44</td>\n",
       "      <td>Female</td>\n",
       "      <td>0</td>\n",
       "      <td>0</td>\n",
       "      <td>Yes</td>\n",
       "      <td>Private</td>\n",
       "      <td>Urban</td>\n",
       "      <td>never smoked</td>\n",
       "      <td>0</td>\n",
       "    </tr>\n",
       "    <tr>\n",
       "      <th>1536</th>\n",
       "      <td>232.45</td>\n",
       "      <td>70.3</td>\n",
       "      <td>36</td>\n",
       "      <td>Male</td>\n",
       "      <td>0</td>\n",
       "      <td>0</td>\n",
       "      <td>Yes</td>\n",
       "      <td>Govt_job</td>\n",
       "      <td>Rural</td>\n",
       "      <td>smokes</td>\n",
       "      <td>0</td>\n",
       "    </tr>\n",
       "    <tr>\n",
       "      <th>1561</th>\n",
       "      <td>213.18</td>\n",
       "      <td>54.5</td>\n",
       "      <td>37</td>\n",
       "      <td>Female</td>\n",
       "      <td>0</td>\n",
       "      <td>0</td>\n",
       "      <td>Yes</td>\n",
       "      <td>Private</td>\n",
       "      <td>Rural</td>\n",
       "      <td>never smoked</td>\n",
       "      <td>0</td>\n",
       "    </tr>\n",
       "    <tr>\n",
       "      <th>1567</th>\n",
       "      <td>105.75</td>\n",
       "      <td>50.0</td>\n",
       "      <td>32</td>\n",
       "      <td>Female</td>\n",
       "      <td>0</td>\n",
       "      <td>0</td>\n",
       "      <td>Yes</td>\n",
       "      <td>Private</td>\n",
       "      <td>Rural</td>\n",
       "      <td>never smoked</td>\n",
       "      <td>0</td>\n",
       "    </tr>\n",
       "    <tr>\n",
       "      <th>1615</th>\n",
       "      <td>92.72</td>\n",
       "      <td>53.4</td>\n",
       "      <td>52</td>\n",
       "      <td>Female</td>\n",
       "      <td>1</td>\n",
       "      <td>0</td>\n",
       "      <td>Yes</td>\n",
       "      <td>Govt_job</td>\n",
       "      <td>Urban</td>\n",
       "      <td>smokes</td>\n",
       "      <td>0</td>\n",
       "    </tr>\n",
       "    <tr>\n",
       "      <th>1721</th>\n",
       "      <td>80.35</td>\n",
       "      <td>51.5</td>\n",
       "      <td>29</td>\n",
       "      <td>Female</td>\n",
       "      <td>0</td>\n",
       "      <td>0</td>\n",
       "      <td>No</td>\n",
       "      <td>Private</td>\n",
       "      <td>Urban</td>\n",
       "      <td>never smoked</td>\n",
       "      <td>0</td>\n",
       "    </tr>\n",
       "    <tr>\n",
       "      <th>1780</th>\n",
       "      <td>219.85</td>\n",
       "      <td>49.4</td>\n",
       "      <td>51</td>\n",
       "      <td>Female</td>\n",
       "      <td>1</td>\n",
       "      <td>0</td>\n",
       "      <td>Yes</td>\n",
       "      <td>Private</td>\n",
       "      <td>Rural</td>\n",
       "      <td>smokes</td>\n",
       "      <td>0</td>\n",
       "    </tr>\n",
       "    <tr>\n",
       "      <th>1850</th>\n",
       "      <td>181.17</td>\n",
       "      <td>59.7</td>\n",
       "      <td>67</td>\n",
       "      <td>Female</td>\n",
       "      <td>0</td>\n",
       "      <td>0</td>\n",
       "      <td>Yes</td>\n",
       "      <td>Self-employed</td>\n",
       "      <td>Rural</td>\n",
       "      <td>formerly smoked</td>\n",
       "      <td>0</td>\n",
       "    </tr>\n",
       "    <tr>\n",
       "      <th>2004</th>\n",
       "      <td>122.13</td>\n",
       "      <td>51.2</td>\n",
       "      <td>32</td>\n",
       "      <td>Female</td>\n",
       "      <td>0</td>\n",
       "      <td>0</td>\n",
       "      <td>Yes</td>\n",
       "      <td>Private</td>\n",
       "      <td>Rural</td>\n",
       "      <td>never smoked</td>\n",
       "      <td>0</td>\n",
       "    </tr>\n",
       "    <tr>\n",
       "      <th>2020</th>\n",
       "      <td>98.27</td>\n",
       "      <td>56.6</td>\n",
       "      <td>59</td>\n",
       "      <td>Female</td>\n",
       "      <td>0</td>\n",
       "      <td>0</td>\n",
       "      <td>Yes</td>\n",
       "      <td>Private</td>\n",
       "      <td>Rural</td>\n",
       "      <td>formerly smoked</td>\n",
       "      <td>0</td>\n",
       "    </tr>\n",
       "    <tr>\n",
       "      <th>2029</th>\n",
       "      <td>218.83</td>\n",
       "      <td>53.6</td>\n",
       "      <td>42</td>\n",
       "      <td>Female</td>\n",
       "      <td>1</td>\n",
       "      <td>0</td>\n",
       "      <td>No</td>\n",
       "      <td>Private</td>\n",
       "      <td>Rural</td>\n",
       "      <td>never smoked</td>\n",
       "      <td>0</td>\n",
       "    </tr>\n",
       "    <tr>\n",
       "      <th>2077</th>\n",
       "      <td>212.78</td>\n",
       "      <td>54.1</td>\n",
       "      <td>36</td>\n",
       "      <td>Female</td>\n",
       "      <td>0</td>\n",
       "      <td>0</td>\n",
       "      <td>No</td>\n",
       "      <td>Govt_job</td>\n",
       "      <td>Rural</td>\n",
       "      <td>formerly smoked</td>\n",
       "      <td>0</td>\n",
       "    </tr>\n",
       "    <tr>\n",
       "      <th>2081</th>\n",
       "      <td>207.98</td>\n",
       "      <td>53.8</td>\n",
       "      <td>64</td>\n",
       "      <td>Female</td>\n",
       "      <td>1</td>\n",
       "      <td>0</td>\n",
       "      <td>Yes</td>\n",
       "      <td>Self-employed</td>\n",
       "      <td>Rural</td>\n",
       "      <td>formerly smoked</td>\n",
       "      <td>0</td>\n",
       "    </tr>\n",
       "    <tr>\n",
       "      <th>2134</th>\n",
       "      <td>65.65</td>\n",
       "      <td>51.8</td>\n",
       "      <td>48</td>\n",
       "      <td>Female</td>\n",
       "      <td>0</td>\n",
       "      <td>0</td>\n",
       "      <td>Yes</td>\n",
       "      <td>Self-employed</td>\n",
       "      <td>Urban</td>\n",
       "      <td>smokes</td>\n",
       "      <td>0</td>\n",
       "    </tr>\n",
       "    <tr>\n",
       "      <th>2136</th>\n",
       "      <td>82.24</td>\n",
       "      <td>54.7</td>\n",
       "      <td>52</td>\n",
       "      <td>Female</td>\n",
       "      <td>0</td>\n",
       "      <td>0</td>\n",
       "      <td>Yes</td>\n",
       "      <td>Private</td>\n",
       "      <td>Urban</td>\n",
       "      <td>formerly smoked</td>\n",
       "      <td>0</td>\n",
       "    </tr>\n",
       "    <tr>\n",
       "      <th>2139</th>\n",
       "      <td>204.28</td>\n",
       "      <td>66.3</td>\n",
       "      <td>38</td>\n",
       "      <td>Female</td>\n",
       "      <td>0</td>\n",
       "      <td>0</td>\n",
       "      <td>Yes</td>\n",
       "      <td>Self-employed</td>\n",
       "      <td>Urban</td>\n",
       "      <td>smokes</td>\n",
       "      <td>0</td>\n",
       "    </tr>\n",
       "    <tr>\n",
       "      <th>2148</th>\n",
       "      <td>113.06</td>\n",
       "      <td>48.0</td>\n",
       "      <td>41</td>\n",
       "      <td>Female</td>\n",
       "      <td>1</td>\n",
       "      <td>0</td>\n",
       "      <td>Yes</td>\n",
       "      <td>Govt_job</td>\n",
       "      <td>Urban</td>\n",
       "      <td>never smoked</td>\n",
       "      <td>0</td>\n",
       "    </tr>\n",
       "    <tr>\n",
       "      <th>2157</th>\n",
       "      <td>205.84</td>\n",
       "      <td>54.6</td>\n",
       "      <td>74</td>\n",
       "      <td>Female</td>\n",
       "      <td>1</td>\n",
       "      <td>0</td>\n",
       "      <td>Yes</td>\n",
       "      <td>Self-employed</td>\n",
       "      <td>Urban</td>\n",
       "      <td>never smoked</td>\n",
       "      <td>0</td>\n",
       "    </tr>\n",
       "  </tbody>\n",
       "</table>\n",
       "</div>"
      ],
      "text/plain": [
       "      avg_glucose_level   bmi  age  gender  hypertension  heart_disease  \\\n",
       "43                59.70  49.3   23  Female             0              0   \n",
       "64               223.39  58.4   55    Male             1              0   \n",
       "66                70.70  48.1   22  Female             0              0   \n",
       "93               171.42  59.9   54  Female             1              0   \n",
       "97                87.17  51.8   44    Male             1              0   \n",
       "101               83.00  48.9   29  Female             0              0   \n",
       "127               87.39  57.9   39  Female             0              0   \n",
       "293               84.27  55.8   37  Female             0              0   \n",
       "299               63.89  53.8   33  Female             0              0   \n",
       "320              170.53  52.4   66  Female             0              0   \n",
       "355              125.97  52.6   46    Male             0              0   \n",
       "440              230.77  56.8   59  Female             1              0   \n",
       "474              213.70  52.2   68  Female             1              0   \n",
       "500               84.47  52.7   65  Female             0              0   \n",
       "542               87.03  55.2   53  Female             1              0   \n",
       "638              222.51  49.7   55    Male             1              0   \n",
       "830              189.53  58.0   43  Female             0              0   \n",
       "839               93.39  51.3   72    Male             0              0   \n",
       "843               80.46  48.9   64  Female             0              0   \n",
       "943               75.20  52.1   24  Female             0              0   \n",
       "955               83.78  54.9   21    Male             0              0   \n",
       "987              204.92  49.6   66  Female             0              1   \n",
       "1034             100.11  51.0   45  Female             1              0   \n",
       "1062              84.39  48.3   39  Female             0              0   \n",
       "1100             104.28  49.1   48  Female             0              0   \n",
       "1111              56.82  54.0   62  Female             1              0   \n",
       "1143             220.47  48.7   65  Female             0              0   \n",
       "1147             234.82  51.8   59  Female             0              0   \n",
       "1247             201.42  50.8   46  Female             0              0   \n",
       "1352             163.54  48.1   74  Female             0              0   \n",
       "1358             218.60  47.9   38  Female             0              0   \n",
       "1363             134.05  48.3   25  Female             0              0   \n",
       "1386              82.71  48.4   41  Female             0              0   \n",
       "1400              88.65  51.1   20  Female             0              0   \n",
       "1416              60.03  48.6   53    Male             0              0   \n",
       "1511              87.10  48.3   57  Female             0              0   \n",
       "1535              87.75  60.1   44  Female             0              0   \n",
       "1536             232.45  70.3   36    Male             0              0   \n",
       "1561             213.18  54.5   37  Female             0              0   \n",
       "1567             105.75  50.0   32  Female             0              0   \n",
       "1615              92.72  53.4   52  Female             1              0   \n",
       "1721              80.35  51.5   29  Female             0              0   \n",
       "1780             219.85  49.4   51  Female             1              0   \n",
       "1850             181.17  59.7   67  Female             0              0   \n",
       "2004             122.13  51.2   32  Female             0              0   \n",
       "2020              98.27  56.6   59  Female             0              0   \n",
       "2029             218.83  53.6   42  Female             1              0   \n",
       "2077             212.78  54.1   36  Female             0              0   \n",
       "2081             207.98  53.8   64  Female             1              0   \n",
       "2134              65.65  51.8   48  Female             0              0   \n",
       "2136              82.24  54.7   52  Female             0              0   \n",
       "2139             204.28  66.3   38  Female             0              0   \n",
       "2148             113.06  48.0   41  Female             1              0   \n",
       "2157             205.84  54.6   74  Female             1              0   \n",
       "\n",
       "     ever_married      work_type Residence_type   smoking_status  stroke  \n",
       "43             No        Private          Urban  formerly smoked       0  \n",
       "64            Yes  Self-employed          Urban     never smoked       0  \n",
       "66             No        Private          Rural  formerly smoked       0  \n",
       "93            Yes        Private          Urban     never smoked       0  \n",
       "97             No        Private          Rural  formerly smoked       0  \n",
       "101            No        Private          Rural           smokes       0  \n",
       "127           Yes        Private          Urban     never smoked       0  \n",
       "293           Yes        Private          Rural     never smoked       0  \n",
       "299            No        Private          Rural  formerly smoked       0  \n",
       "320           Yes        Private          Urban  formerly smoked       0  \n",
       "355           Yes        Private          Rural           smokes       0  \n",
       "440           Yes        Private          Rural     never smoked       0  \n",
       "474           Yes        Private          Urban  formerly smoked       0  \n",
       "500           Yes       Govt_job          Urban           smokes       0  \n",
       "542           Yes        Private          Urban  formerly smoked       0  \n",
       "638           Yes  Self-employed          Rural     never smoked       0  \n",
       "830           Yes  Self-employed          Urban           smokes       0  \n",
       "839            No        Private          Rural  formerly smoked       0  \n",
       "843           Yes       Govt_job          Rural     never smoked       0  \n",
       "943            No        Private          Rural           smokes       0  \n",
       "955            No        Private          Urban     never smoked       0  \n",
       "987           Yes        Private          Urban  formerly smoked       0  \n",
       "1034          Yes        Private          Rural           smokes       0  \n",
       "1062          Yes        Private          Rural     never smoked       0  \n",
       "1100          Yes        Private          Rural     never smoked       0  \n",
       "1111          Yes        Private          Urban     never smoked       0  \n",
       "1143          Yes        Private          Rural     never smoked       0  \n",
       "1147          Yes        Private          Rural     never smoked       0  \n",
       "1247          Yes        Private          Urban           smokes       0  \n",
       "1352          Yes  Self-employed          Rural     never smoked       0  \n",
       "1358           No        Private          Urban  formerly smoked       0  \n",
       "1363           No  Self-employed          Urban     never smoked       0  \n",
       "1386          Yes       Govt_job          Urban     never smoked       0  \n",
       "1400           No        Private          Rural     never smoked       0  \n",
       "1416          Yes        Private          Rural     never smoked       0  \n",
       "1511          Yes       Govt_job          Rural           smokes       0  \n",
       "1535          Yes        Private          Urban     never smoked       0  \n",
       "1536          Yes       Govt_job          Rural           smokes       0  \n",
       "1561          Yes        Private          Rural     never smoked       0  \n",
       "1567          Yes        Private          Rural     never smoked       0  \n",
       "1615          Yes       Govt_job          Urban           smokes       0  \n",
       "1721           No        Private          Urban     never smoked       0  \n",
       "1780          Yes        Private          Rural           smokes       0  \n",
       "1850          Yes  Self-employed          Rural  formerly smoked       0  \n",
       "2004          Yes        Private          Rural     never smoked       0  \n",
       "2020          Yes        Private          Rural  formerly smoked       0  \n",
       "2029           No        Private          Rural     never smoked       0  \n",
       "2077           No       Govt_job          Rural  formerly smoked       0  \n",
       "2081          Yes  Self-employed          Rural  formerly smoked       0  \n",
       "2134          Yes  Self-employed          Urban           smokes       0  \n",
       "2136          Yes        Private          Urban  formerly smoked       0  \n",
       "2139          Yes  Self-employed          Urban           smokes       0  \n",
       "2148          Yes       Govt_job          Urban     never smoked       0  \n",
       "2157          Yes  Self-employed          Urban     never smoked       0  "
      ]
     },
     "execution_count": 43,
     "metadata": {},
     "output_type": "execute_result"
    }
   ],
   "source": [
    "outliers[1]"
   ]
  },
  {
   "cell_type": "markdown",
   "metadata": {
    "hidden": true
   },
   "source": [
    "<font color=blue>Following are the outliers for stroke=1 class.</font>"
   ]
  },
  {
   "cell_type": "code",
   "execution_count": 44,
   "metadata": {
    "ExecuteTime": {
     "end_time": "2020-08-22T12:08:50.116929Z",
     "start_time": "2020-08-22T12:08:50.101954Z"
    },
    "hidden": true,
    "scrolled": false
   },
   "outputs": [
    {
     "data": {
      "text/html": [
       "<div>\n",
       "<style scoped>\n",
       "    .dataframe tbody tr th:only-of-type {\n",
       "        vertical-align: middle;\n",
       "    }\n",
       "\n",
       "    .dataframe tbody tr th {\n",
       "        vertical-align: top;\n",
       "    }\n",
       "\n",
       "    .dataframe thead th {\n",
       "        text-align: right;\n",
       "    }\n",
       "</style>\n",
       "<table border=\"1\" class=\"dataframe\">\n",
       "  <thead>\n",
       "    <tr style=\"text-align: right;\">\n",
       "      <th></th>\n",
       "      <th>avg_glucose_level</th>\n",
       "      <th>bmi</th>\n",
       "      <th>age</th>\n",
       "      <th>gender</th>\n",
       "      <th>hypertension</th>\n",
       "      <th>heart_disease</th>\n",
       "      <th>ever_married</th>\n",
       "      <th>work_type</th>\n",
       "      <th>Residence_type</th>\n",
       "      <th>smoking_status</th>\n",
       "      <th>stroke</th>\n",
       "    </tr>\n",
       "  </thead>\n",
       "  <tbody>\n",
       "    <tr>\n",
       "      <th>2530</th>\n",
       "      <td>126.46</td>\n",
       "      <td>14.3</td>\n",
       "      <td>82</td>\n",
       "      <td>Male</td>\n",
       "      <td>0</td>\n",
       "      <td>1</td>\n",
       "      <td>Yes</td>\n",
       "      <td>Self-employed</td>\n",
       "      <td>Rural</td>\n",
       "      <td>never smoked</td>\n",
       "      <td>1</td>\n",
       "    </tr>\n",
       "  </tbody>\n",
       "</table>\n",
       "</div>"
      ],
      "text/plain": [
       "      avg_glucose_level   bmi  age gender  hypertension  heart_disease  \\\n",
       "2530             126.46  14.3   82   Male             0              1   \n",
       "\n",
       "     ever_married      work_type Residence_type smoking_status  stroke  \n",
       "2530          Yes  Self-employed          Rural   never smoked       1  "
      ]
     },
     "execution_count": 44,
     "metadata": {},
     "output_type": "execute_result"
    }
   ],
   "source": [
    "outliers[2]"
   ]
  },
  {
   "cell_type": "code",
   "execution_count": 45,
   "metadata": {
    "ExecuteTime": {
     "end_time": "2020-08-22T12:08:50.146833Z",
     "start_time": "2020-08-22T12:08:50.118908Z"
    },
    "hidden": true,
    "scrolled": true
   },
   "outputs": [
    {
     "data": {
      "text/html": [
       "<div>\n",
       "<style scoped>\n",
       "    .dataframe tbody tr th:only-of-type {\n",
       "        vertical-align: middle;\n",
       "    }\n",
       "\n",
       "    .dataframe tbody tr th {\n",
       "        vertical-align: top;\n",
       "    }\n",
       "\n",
       "    .dataframe thead th {\n",
       "        text-align: right;\n",
       "    }\n",
       "</style>\n",
       "<table border=\"1\" class=\"dataframe\">\n",
       "  <thead>\n",
       "    <tr style=\"text-align: right;\">\n",
       "      <th></th>\n",
       "      <th>avg_glucose_level</th>\n",
       "      <th>bmi</th>\n",
       "      <th>age</th>\n",
       "      <th>gender</th>\n",
       "      <th>hypertension</th>\n",
       "      <th>heart_disease</th>\n",
       "      <th>ever_married</th>\n",
       "      <th>work_type</th>\n",
       "      <th>Residence_type</th>\n",
       "      <th>smoking_status</th>\n",
       "      <th>stroke</th>\n",
       "    </tr>\n",
       "  </thead>\n",
       "  <tbody>\n",
       "    <tr>\n",
       "      <th>2208</th>\n",
       "      <td>233.29</td>\n",
       "      <td>48.9</td>\n",
       "      <td>52</td>\n",
       "      <td>Female</td>\n",
       "      <td>1</td>\n",
       "      <td>0</td>\n",
       "      <td>Yes</td>\n",
       "      <td>Self-employed</td>\n",
       "      <td>Urban</td>\n",
       "      <td>never smoked</td>\n",
       "      <td>1</td>\n",
       "    </tr>\n",
       "    <tr>\n",
       "      <th>2214</th>\n",
       "      <td>212.08</td>\n",
       "      <td>44.2</td>\n",
       "      <td>57</td>\n",
       "      <td>Male</td>\n",
       "      <td>1</td>\n",
       "      <td>0</td>\n",
       "      <td>Yes</td>\n",
       "      <td>Private</td>\n",
       "      <td>Urban</td>\n",
       "      <td>smokes</td>\n",
       "      <td>1</td>\n",
       "    </tr>\n",
       "    <tr>\n",
       "      <th>2241</th>\n",
       "      <td>221.58</td>\n",
       "      <td>47.5</td>\n",
       "      <td>70</td>\n",
       "      <td>Female</td>\n",
       "      <td>0</td>\n",
       "      <td>0</td>\n",
       "      <td>Yes</td>\n",
       "      <td>Private</td>\n",
       "      <td>Urban</td>\n",
       "      <td>never smoked</td>\n",
       "      <td>1</td>\n",
       "    </tr>\n",
       "    <tr>\n",
       "      <th>2274</th>\n",
       "      <td>224.10</td>\n",
       "      <td>56.6</td>\n",
       "      <td>45</td>\n",
       "      <td>Female</td>\n",
       "      <td>0</td>\n",
       "      <td>0</td>\n",
       "      <td>Yes</td>\n",
       "      <td>Private</td>\n",
       "      <td>Rural</td>\n",
       "      <td>never smoked</td>\n",
       "      <td>1</td>\n",
       "    </tr>\n",
       "    <tr>\n",
       "      <th>2310</th>\n",
       "      <td>203.87</td>\n",
       "      <td>45.7</td>\n",
       "      <td>78</td>\n",
       "      <td>Female</td>\n",
       "      <td>1</td>\n",
       "      <td>0</td>\n",
       "      <td>No</td>\n",
       "      <td>Private</td>\n",
       "      <td>Urban</td>\n",
       "      <td>never smoked</td>\n",
       "      <td>1</td>\n",
       "    </tr>\n",
       "    <tr>\n",
       "      <th>2318</th>\n",
       "      <td>64.44</td>\n",
       "      <td>45.0</td>\n",
       "      <td>80</td>\n",
       "      <td>Female</td>\n",
       "      <td>0</td>\n",
       "      <td>0</td>\n",
       "      <td>Yes</td>\n",
       "      <td>Private</td>\n",
       "      <td>Urban</td>\n",
       "      <td>never smoked</td>\n",
       "      <td>1</td>\n",
       "    </tr>\n",
       "    <tr>\n",
       "      <th>2328</th>\n",
       "      <td>205.77</td>\n",
       "      <td>46.0</td>\n",
       "      <td>65</td>\n",
       "      <td>Female</td>\n",
       "      <td>0</td>\n",
       "      <td>0</td>\n",
       "      <td>Yes</td>\n",
       "      <td>Private</td>\n",
       "      <td>Urban</td>\n",
       "      <td>formerly smoked</td>\n",
       "      <td>1</td>\n",
       "    </tr>\n",
       "    <tr>\n",
       "      <th>2334</th>\n",
       "      <td>242.52</td>\n",
       "      <td>45.5</td>\n",
       "      <td>70</td>\n",
       "      <td>Male</td>\n",
       "      <td>1</td>\n",
       "      <td>0</td>\n",
       "      <td>Yes</td>\n",
       "      <td>Private</td>\n",
       "      <td>Rural</td>\n",
       "      <td>formerly smoked</td>\n",
       "      <td>1</td>\n",
       "    </tr>\n",
       "    <tr>\n",
       "      <th>2399</th>\n",
       "      <td>82.68</td>\n",
       "      <td>45.2</td>\n",
       "      <td>78</td>\n",
       "      <td>Female</td>\n",
       "      <td>0</td>\n",
       "      <td>0</td>\n",
       "      <td>Yes</td>\n",
       "      <td>Private</td>\n",
       "      <td>Rural</td>\n",
       "      <td>never smoked</td>\n",
       "      <td>1</td>\n",
       "    </tr>\n",
       "    <tr>\n",
       "      <th>2560</th>\n",
       "      <td>70.41</td>\n",
       "      <td>47.6</td>\n",
       "      <td>43</td>\n",
       "      <td>Male</td>\n",
       "      <td>0</td>\n",
       "      <td>0</td>\n",
       "      <td>Yes</td>\n",
       "      <td>Private</td>\n",
       "      <td>Rural</td>\n",
       "      <td>never smoked</td>\n",
       "      <td>1</td>\n",
       "    </tr>\n",
       "    <tr>\n",
       "      <th>2571</th>\n",
       "      <td>253.29</td>\n",
       "      <td>48.6</td>\n",
       "      <td>77</td>\n",
       "      <td>Male</td>\n",
       "      <td>1</td>\n",
       "      <td>0</td>\n",
       "      <td>Yes</td>\n",
       "      <td>Private</td>\n",
       "      <td>Urban</td>\n",
       "      <td>formerly smoked</td>\n",
       "      <td>1</td>\n",
       "    </tr>\n",
       "    <tr>\n",
       "      <th>2577</th>\n",
       "      <td>174.55</td>\n",
       "      <td>50.8</td>\n",
       "      <td>54</td>\n",
       "      <td>Male</td>\n",
       "      <td>0</td>\n",
       "      <td>1</td>\n",
       "      <td>Yes</td>\n",
       "      <td>Private</td>\n",
       "      <td>Urban</td>\n",
       "      <td>smokes</td>\n",
       "      <td>1</td>\n",
       "    </tr>\n",
       "    <tr>\n",
       "      <th>2586</th>\n",
       "      <td>96.83</td>\n",
       "      <td>50.9</td>\n",
       "      <td>36</td>\n",
       "      <td>Female</td>\n",
       "      <td>0</td>\n",
       "      <td>0</td>\n",
       "      <td>No</td>\n",
       "      <td>Private</td>\n",
       "      <td>Rural</td>\n",
       "      <td>never smoked</td>\n",
       "      <td>1</td>\n",
       "    </tr>\n",
       "    <tr>\n",
       "      <th>2617</th>\n",
       "      <td>124.57</td>\n",
       "      <td>44.8</td>\n",
       "      <td>79</td>\n",
       "      <td>Female</td>\n",
       "      <td>1</td>\n",
       "      <td>0</td>\n",
       "      <td>No</td>\n",
       "      <td>Private</td>\n",
       "      <td>Urban</td>\n",
       "      <td>never smoked</td>\n",
       "      <td>1</td>\n",
       "    </tr>\n",
       "    <tr>\n",
       "      <th>2619</th>\n",
       "      <td>108.38</td>\n",
       "      <td>55.4</td>\n",
       "      <td>38</td>\n",
       "      <td>Female</td>\n",
       "      <td>0</td>\n",
       "      <td>0</td>\n",
       "      <td>Yes</td>\n",
       "      <td>Private</td>\n",
       "      <td>Rural</td>\n",
       "      <td>never smoked</td>\n",
       "      <td>1</td>\n",
       "    </tr>\n",
       "    <tr>\n",
       "      <th>2673</th>\n",
       "      <td>193.62</td>\n",
       "      <td>48.7</td>\n",
       "      <td>51</td>\n",
       "      <td>Male</td>\n",
       "      <td>1</td>\n",
       "      <td>1</td>\n",
       "      <td>Yes</td>\n",
       "      <td>Private</td>\n",
       "      <td>Urban</td>\n",
       "      <td>formerly smoked</td>\n",
       "      <td>1</td>\n",
       "    </tr>\n",
       "    <tr>\n",
       "      <th>2688</th>\n",
       "      <td>88.57</td>\n",
       "      <td>47.6</td>\n",
       "      <td>52</td>\n",
       "      <td>Female</td>\n",
       "      <td>0</td>\n",
       "      <td>1</td>\n",
       "      <td>Yes</td>\n",
       "      <td>Private</td>\n",
       "      <td>Rural</td>\n",
       "      <td>smokes</td>\n",
       "      <td>1</td>\n",
       "    </tr>\n",
       "    <tr>\n",
       "      <th>2707</th>\n",
       "      <td>55.01</td>\n",
       "      <td>46.4</td>\n",
       "      <td>67</td>\n",
       "      <td>Female</td>\n",
       "      <td>0</td>\n",
       "      <td>0</td>\n",
       "      <td>Yes</td>\n",
       "      <td>Self-employed</td>\n",
       "      <td>Rural</td>\n",
       "      <td>never smoked</td>\n",
       "      <td>1</td>\n",
       "    </tr>\n",
       "    <tr>\n",
       "      <th>2711</th>\n",
       "      <td>84.91</td>\n",
       "      <td>44.4</td>\n",
       "      <td>66</td>\n",
       "      <td>Female</td>\n",
       "      <td>1</td>\n",
       "      <td>0</td>\n",
       "      <td>Yes</td>\n",
       "      <td>Self-employed</td>\n",
       "      <td>Rural</td>\n",
       "      <td>formerly smoked</td>\n",
       "      <td>1</td>\n",
       "    </tr>\n",
       "  </tbody>\n",
       "</table>\n",
       "</div>"
      ],
      "text/plain": [
       "      avg_glucose_level   bmi  age  gender  hypertension  heart_disease  \\\n",
       "2208             233.29  48.9   52  Female             1              0   \n",
       "2214             212.08  44.2   57    Male             1              0   \n",
       "2241             221.58  47.5   70  Female             0              0   \n",
       "2274             224.10  56.6   45  Female             0              0   \n",
       "2310             203.87  45.7   78  Female             1              0   \n",
       "2318              64.44  45.0   80  Female             0              0   \n",
       "2328             205.77  46.0   65  Female             0              0   \n",
       "2334             242.52  45.5   70    Male             1              0   \n",
       "2399              82.68  45.2   78  Female             0              0   \n",
       "2560              70.41  47.6   43    Male             0              0   \n",
       "2571             253.29  48.6   77    Male             1              0   \n",
       "2577             174.55  50.8   54    Male             0              1   \n",
       "2586              96.83  50.9   36  Female             0              0   \n",
       "2617             124.57  44.8   79  Female             1              0   \n",
       "2619             108.38  55.4   38  Female             0              0   \n",
       "2673             193.62  48.7   51    Male             1              1   \n",
       "2688              88.57  47.6   52  Female             0              1   \n",
       "2707              55.01  46.4   67  Female             0              0   \n",
       "2711              84.91  44.4   66  Female             1              0   \n",
       "\n",
       "     ever_married      work_type Residence_type   smoking_status  stroke  \n",
       "2208          Yes  Self-employed          Urban     never smoked       1  \n",
       "2214          Yes        Private          Urban           smokes       1  \n",
       "2241          Yes        Private          Urban     never smoked       1  \n",
       "2274          Yes        Private          Rural     never smoked       1  \n",
       "2310           No        Private          Urban     never smoked       1  \n",
       "2318          Yes        Private          Urban     never smoked       1  \n",
       "2328          Yes        Private          Urban  formerly smoked       1  \n",
       "2334          Yes        Private          Rural  formerly smoked       1  \n",
       "2399          Yes        Private          Rural     never smoked       1  \n",
       "2560          Yes        Private          Rural     never smoked       1  \n",
       "2571          Yes        Private          Urban  formerly smoked       1  \n",
       "2577          Yes        Private          Urban           smokes       1  \n",
       "2586           No        Private          Rural     never smoked       1  \n",
       "2617           No        Private          Urban     never smoked       1  \n",
       "2619          Yes        Private          Rural     never smoked       1  \n",
       "2673          Yes        Private          Urban  formerly smoked       1  \n",
       "2688          Yes        Private          Rural           smokes       1  \n",
       "2707          Yes  Self-employed          Rural     never smoked       1  \n",
       "2711          Yes  Self-employed          Rural  formerly smoked       1  "
      ]
     },
     "execution_count": 45,
     "metadata": {},
     "output_type": "execute_result"
    }
   ],
   "source": [
    "outliers[3]"
   ]
  },
  {
   "cell_type": "markdown",
   "metadata": {
    "heading_collapsed": true,
    "hidden": true
   },
   "source": [
    "##### age all instance"
   ]
  },
  {
   "cell_type": "code",
   "execution_count": 46,
   "metadata": {
    "ExecuteTime": {
     "end_time": "2020-08-22T12:08:50.319399Z",
     "start_time": "2020-08-22T12:08:50.199694Z"
    },
    "hidden": true
   },
   "outputs": [
    {
     "data": {
      "text/plain": [
       "<matplotlib.axes._subplots.AxesSubplot at 0x1b554a50>"
      ]
     },
     "execution_count": 46,
     "metadata": {},
     "output_type": "execute_result"
    },
    {
     "data": {
      "image/png": "[encoded data removed]",
      "text/plain": [
       "<matplotlib.figure.Figure at 0x1b548190>"
      ]
     },
     "metadata": {},
     "output_type": "display_data"
    }
   ],
   "source": [
    "stroke_df.boxplot(column=\"age\")"
   ]
  },
  {
   "cell_type": "markdown",
   "metadata": {
    "hidden": true
   },
   "source": [
    "<font color=blue>As you can see from the above, there are no outlier for age attribute in all instances.</font>"
   ]
  },
  {
   "cell_type": "markdown",
   "metadata": {
    "heading_collapsed": true,
    "hidden": true
   },
   "source": [
    "##### age by stroke class"
   ]
  },
  {
   "cell_type": "code",
   "execution_count": 47,
   "metadata": {
    "ExecuteTime": {
     "end_time": "2020-08-22T12:08:50.523852Z",
     "start_time": "2020-08-22T12:08:50.374227Z"
    },
    "hidden": true,
    "scrolled": true
   },
   "outputs": [
    {
     "data": {
      "text/plain": [
       "<matplotlib.axes._subplots.AxesSubplot at 0x1b4fd1d0>"
      ]
     },
     "execution_count": 47,
     "metadata": {},
     "output_type": "execute_result"
    },
    {
     "data": {
      "image/png": "[encoded data removed]",
      "text/plain": [
       "<matplotlib.figure.Figure at 0x1b540090>"
      ]
     },
     "metadata": {},
     "output_type": "display_data"
    }
   ],
   "source": [
    "stroke_df.boxplot(column=\"age\",by='stroke')"
   ]
  },
  {
   "cell_type": "markdown",
   "metadata": {
    "hidden": true
   },
   "source": [
    "<font color=blue>As you can see from the above, there are no outlier for age attribute in no stroke class. But we have on outlier in has stroke class which is:</font>"
   ]
  },
  {
   "cell_type": "code",
   "execution_count": 48,
   "metadata": {
    "ExecuteTime": {
     "end_time": "2020-08-22T12:08:50.545801Z",
     "start_time": "2020-08-22T12:08:50.525847Z"
    },
    "hidden": true
   },
   "outputs": [
    {
     "name": "stderr",
     "output_type": "stream",
     "text": [
      "d:\\python\\lib\\site-packages\\ipykernel_launcher.py:1: UserWarning: Boolean Series key will be reindexed to match DataFrame index.\n",
      "  \"\"\"Entry point for launching an IPython kernel.\n"
     ]
    },
    {
     "data": {
      "text/html": [
       "<div>\n",
       "<style scoped>\n",
       "    .dataframe tbody tr th:only-of-type {\n",
       "        vertical-align: middle;\n",
       "    }\n",
       "\n",
       "    .dataframe tbody tr th {\n",
       "        vertical-align: top;\n",
       "    }\n",
       "\n",
       "    .dataframe thead th {\n",
       "        text-align: right;\n",
       "    }\n",
       "</style>\n",
       "<table border=\"1\" class=\"dataframe\">\n",
       "  <thead>\n",
       "    <tr style=\"text-align: right;\">\n",
       "      <th></th>\n",
       "      <th>avg_glucose_level</th>\n",
       "      <th>bmi</th>\n",
       "      <th>age</th>\n",
       "      <th>gender</th>\n",
       "      <th>hypertension</th>\n",
       "      <th>heart_disease</th>\n",
       "      <th>ever_married</th>\n",
       "      <th>work_type</th>\n",
       "      <th>Residence_type</th>\n",
       "      <th>smoking_status</th>\n",
       "      <th>stroke</th>\n",
       "    </tr>\n",
       "  </thead>\n",
       "  <tbody>\n",
       "    <tr>\n",
       "      <th>2380</th>\n",
       "      <td>67.42</td>\n",
       "      <td>25.7</td>\n",
       "      <td>21</td>\n",
       "      <td>Male</td>\n",
       "      <td>0</td>\n",
       "      <td>0</td>\n",
       "      <td>No</td>\n",
       "      <td>Private</td>\n",
       "      <td>Rural</td>\n",
       "      <td>never smoked</td>\n",
       "      <td>1</td>\n",
       "    </tr>\n",
       "  </tbody>\n",
       "</table>\n",
       "</div>"
      ],
      "text/plain": [
       "      avg_glucose_level   bmi  age gender  hypertension  heart_disease  \\\n",
       "2380              67.42  25.7   21   Male             0              0   \n",
       "\n",
       "     ever_married work_type Residence_type smoking_status  stroke  \n",
       "2380           No   Private          Rural   never smoked       1  "
      ]
     },
     "execution_count": 48,
     "metadata": {},
     "output_type": "execute_result"
    }
   ],
   "source": [
    "stroke_df[stroke_df[\"stroke\"] == 1][stroke_df[\"age\"] < 30]"
   ]
  },
  {
   "cell_type": "markdown",
   "metadata": {
    "heading_collapsed": true,
    "hidden": true
   },
   "source": [
    "#### parallel plot of attributes by class"
   ]
  },
  {
   "cell_type": "code",
   "execution_count": 49,
   "metadata": {
    "ExecuteTime": {
     "end_time": "2020-08-22T12:08:59.770111Z",
     "start_time": "2020-08-22T12:08:50.568731Z"
    },
    "hidden": true,
    "scrolled": true
   },
   "outputs": [
    {
     "data": {
      "image/png": "[encoded data removed]",
      "text/plain": [
       "<matplotlib.figure.Figure at 0x1b5a31d0>"
      ]
     },
     "metadata": {},
     "output_type": "display_data"
    }
   ],
   "source": [
    "stroke_df_preprocess = preprocess2(stroke_df)\n",
    "plt.figure(figsize=(15, 15))\n",
    "pd.plotting.parallel_coordinates(stroke_df_preprocess, cols=stroke_df_preprocess.columns[:-1], class_column=\"stroke\")\n",
    "plt.show()"
   ]
  },
  {
   "cell_type": "markdown",
   "metadata": {
    "heading_collapsed": true,
    "hidden": true
   },
   "source": [
    "#### pair plot of attributed by class"
   ]
  },
  {
   "cell_type": "markdown",
   "metadata": {
    "hidden": true
   },
   "source": [
    "- Note: I mention the below pair plot in a 0-based index from top corner; \"diagram 0-1\" is for the diagram in row 0 and column 1 in the scatter_matrix figure\n",
    "- Note: I will make larger diagram as shown in the below pair plot in the discussion.\n",
    "- As you can see from the scatter_matrix figure:"
   ]
  },
  {
   "cell_type": "code",
   "execution_count": 50,
   "metadata": {
    "ExecuteTime": {
     "end_time": "2020-08-22T12:09:09.493821Z",
     "start_time": "2020-08-22T12:08:59.772107Z"
    },
    "hidden": true
   },
   "outputs": [
    {
     "data": {
      "image/png": "[encoded data removed]",
      "text/plain": [
       "<matplotlib.figure.Figure at 0x1ea6dcd0>"
      ]
     },
     "metadata": {},
     "output_type": "display_data"
    }
   ],
   "source": [
    "stroke_df_preprocess = preprocess2(stroke_df)\n",
    "g = pd.plotting.scatter_matrix(stroke_df_preprocess,\n",
    "                               alpha=0.5, \n",
    "                               figsize=(20, 20), \n",
    "                               c=stroke_df_preprocess[\"stroke\"], \n",
    "                               marker='o', \n",
    "                               s=5,\n",
    "                               range_padding=0.15,\n",
    "                              )\n",
    "plt.legend([0, 1], loc=(1.02,0))\n",
    "plt.show()"
   ]
  },
  {
   "cell_type": "code",
   "execution_count": 51,
   "metadata": {
    "ExecuteTime": {
     "end_time": "2020-08-22T12:09:09.913703Z",
     "start_time": "2020-08-22T12:09:09.495787Z"
    },
    "hidden": true
   },
   "outputs": [
    {
     "data": {
      "image/png": "[encoded data removed]",
      "text/plain": [
       "<matplotlib.figure.Figure at 0x1be6f6f0>"
      ]
     },
     "metadata": {},
     "output_type": "display_data"
    }
   ],
   "source": [
    "stroke_df_preprocess = preprocess2(stroke_df)\n",
    "g = pd.plotting.scatter_matrix(stroke_df_preprocess.loc[:, [\"bmi\", \"avg_glucose_level\"]], \n",
    "                               alpha=0.5, \n",
    "                               figsize=(8, 8), \n",
    "                               c=stroke_df_preprocess[\"stroke\"], \n",
    "                               marker='o', \n",
    "                               s=14,\n",
    "                               range_padding=0.15,\n",
    "                              )\n",
    "plt.legend([0, 1], loc=(1.02,0))\n",
    "plt.show()"
   ]
  },
  {
   "cell_type": "markdown",
   "metadata": {
    "hidden": true
   },
   "source": [
    "- the bottom left one is larger diagram 1-0\n",
    "- From diagram 1-0: We can't differ whether stroke or not by looking at \"bmi\" with \"patient's average Glucose level\" as there is no clear pattern to distinguishing stroke class. The scatter points are mixed together."
   ]
  },
  {
   "cell_type": "markdown",
   "metadata": {
    "hidden": true
   },
   "source": [
    "\n",
    "    - From diagram 2-0: There is some correlation between \"age\" and \"patient's average Glucose level\". Because we can see a clear pattern that young people seems rarely have high glucose level or this suggests there are some missing data here.\n",
    "    - From diagram 2-1: "
   ]
  },
  {
   "cell_type": "markdown",
   "metadata": {
    "heading_collapsed": true
   },
   "source": [
    "### Question 1\\b)\n",
    "- b) Is accuracy an appropriate metric to evaluate the models created for this data? Justify your answer. Explain which metric(s) would be more appropriate, and contrast their utility against accuracy. [no programming required] (2 marks)"
   ]
  },
  {
   "cell_type": "markdown",
   "metadata": {
    "hidden": true
   },
   "source": [
    "Accuracy is not the most appropriate metric to evaluate the models created for this data. The reason is that simply looking the #correct_prediction / #instances is not enough. For this data set, the class we would like to predict is 0: no stroke and 1: stroke. For example, if we have a stroker sensor for the alarm, we care the correctness of **has stroke** prediction. From the below model1 example, although we have good accuracy, the model is meaningless (useless) for predicting all has_stroke wrongly which we interested. As a result, we might be interested in #correct_has_stroke_prediction / #actual_has_stroke_instances (precision). Precision measures how often are we correct when we predict that an instance is interesting (has_stroke in this example). Symmetrically, we also want to know #correct_has_stroke_prediction / #prediction_of_has_stroke (recall). Recall measures what proportion of the truly interesting instances have we correctly identified as interesting. So the \"accuracy metric\" is not the most appropriate here. \n",
    "\n",
    "The other candidate metrics here are: **precision, recall, f-score**. First two are describe above and both of them are typically in an inverse relationship, f-score is a measurement that represents both of them. F-score gives more weight to false negatives and false positives while not letting large numbers of true negatives influence your score. For example, we have 3 models: \n",
    "- model1: predict every instance as 0\n",
    "- model2: predict every instance as 1 \n",
    "- model3: predict half of actual has_stroke correctly and all of actual no_stroke correctly \n",
    "\n",
    "Then we construct following confusion matrix:\n",
    "\n",
    "|model1|predict has_stroke|predict no_stroke|\n",
    "|---|---|---|\n",
    "|actual has_stroke|0|548\n",
    "|actual no_stroke|0|2192\n",
    "\n",
    "- accuracy = 2192 / 2740 = 0.8\n",
    "- precision = 0 / (0 + 0) = positive infinity (meaningless)\n",
    "- recall = 0 / (0 + 548) = 0\n",
    "- f-score (beta=1) = 0\n",
    "\n",
    "|model2|predict has_stroke|predict no_stroke|\n",
    "|---|---|---|\n",
    "|actual has_stroke|548|0\n",
    "|actual no_stroke|2192|0\n",
    "\n",
    "- accuracy = 548 / 2740 = 0.2\n",
    "- precision = 548 / (548 + 2192) = 0.2\n",
    "- recall = 548 / (548 + 0) = 1  (high score which reflects this model is a good model while actually it isn't)\n",
    "- f-score (beta=1) = 2 * 0.2 * 1 / (0.2 + 1) = 0.3333\n",
    "\n",
    "|model3|predict has_stroke|predict no_stroke|\n",
    "|---|---|---|\n",
    "|actual has_stroke|274|274\n",
    "|actual no_stroke|0|2192\n",
    "\n",
    "- accuracy = (274 + 2192) / 2740 = 0.9\n",
    "- precision = 274 / (274 + 0) = 1\n",
    "- recall = 274 / (274 + 274) = 0.5\n",
    "- f-score (beta=1) = 2 * 0.5 * 0.5 / (0.5 + 0.5) = 0.5\n",
    "\n",
    "As you can see from the example calculation, the f-score gives measurement for the correctness of interested class with moderate consideration for a false negative and false positive. While precision or the recall might be not effective in some corner case (demonstrated above). However, f-score will always be nearer to the smaller value of precision or recall. Consequently, f-score catches what reflected by precision and recall. So f-score is the most appropriate one if we can choose only one metric."
   ]
  },
  {
   "cell_type": "markdown",
   "metadata": {},
   "source": [
    "## Question 2: Naive Bayes concepts and formulation"
   ]
  },
  {
   "cell_type": "markdown",
   "metadata": {
    "heading_collapsed": true
   },
   "source": [
    "### Question 2\\a)\n",
    "- a) Explain the independence assumption underlying Naive Bayes. What are the advantages and disadvantages of this assumption? Elaborate your answers using the features of the provided data. [no programming required] (1 mark)"
   ]
  },
  {
   "cell_type": "markdown",
   "metadata": {
    "hidden": true
   },
   "source": [
    "conditional independence assumption: the features $x_1, x_2, ..., x_m$ are assumed to be independent given conditioned on the class y. In other words, $$P(x_1, x_2, ..., x_m|y) \\propto P(x_1|y) * P(x_2|y) * ... * P(x_m|y) * P(y)$$\n",
    "\n",
    "So for our dataset, the probability for each of features *'avg_glucose_level', 'bmi', 'age', 'gender', 'hypertension',\n",
    "'heart_disease', 'ever_married', 'work_type', 'Residence_type', 'smoking_status'* **given** *'stroke'* are assumed to be independent. In other words, $$P(avg\\_glucose\\_level, bmi, age, gender, hypertension,\n",
    "heart\\_disease, ever\\_married, work\\_type, Residence\\_type, smoking\\_status|stroke) \\propto P(avg\\_glucose\\_level|stroke) * P(bmi|stroke) * P(age|stroke) * P(gender|stroke) * P(hypertension|stroke) * P(heart\\_disease|stroke) * P(ever\\_married|stroke) * P(work\\_type|stroke) * P(Residence\\_type|stroke) * smoking\\_status|stroke) * P(stroke)$$\n",
    "\n",
    "- Advantage of adapt this assumption:\n",
    "    - The assumption helps to calculate the joint distribution calculation. A probabilistic learner will find the instances in the training data labelled as y and count the number of times x has been observed for each class y. Here we have m=10 attributes, 5 attributes take k=2 different values, 1 attribute takes k=3 different values, 1 attribute takes k=5 different values 3 attributes (numeric ones) take at least k=2 different values and Y=2 different class values, which means we need O(Y*k^m) instances, i.e. at least 7680 instances. The infeasible enormous amount data requirement is simplified if the assumption applied. In other words, the exponential growth of feature‐category combinations with the number of features can be avoided to make the calculation simpler and faster.\n",
    "\n",
    "- Disadvantage of adapt this assumption:\n",
    "    - The assumption assumes the independence between features which can be incompatible with real world circumstances. As a result, we need to do some extra work like some analysis before applying data set directly to the Naive Bayes model to measure the correlation degree among features and then selection the most uncorrelated ones to best fit the assumption in order to increase the robustness of the model."
   ]
  },
  {
   "cell_type": "markdown",
   "metadata": {
    "hidden": true
   },
   "source": [
    "    - If treated 0 probability problem mention below properly, the model can be robust to predicting classes even there is unseen feature values by using this assumption.\n",
    "    \n",
    "     - The assumption weights equally all features. If we have some poorly chosen features in the model, the accuracy of the model can be affected by this. As a result, we need to do some extra work such as adding weights for each feature.\n",
    "    - In the data analysis shown above, we have 0 probability for Never_worked, children work_type given stroke=1. The assumption makes the model result in 0 probability if there we have such attribute value in the testing phase. As a result, we need to do extra work like: smoothing.\n",
    "    - In the data analysis shown above, we numeric attributes like avg_glucose_level, bmi and age. The assumption only works for nominal/ordinal attribute. As a result, we need to some extra work to turn numeric attribute to nominal."
   ]
  },
  {
   "cell_type": "code",
   "execution_count": null,
   "metadata": {
    "hidden": true
   },
   "outputs": [],
   "source": []
  },
  {
   "cell_type": "markdown",
   "metadata": {},
   "source": [
    "### Question 2\\b)"
   ]
  },
  {
   "cell_type": "markdown",
   "metadata": {},
   "source": [
    "- b) Implement the Naive Bayes classifier. You need to decide how you are going to apply Naive Bayes for nominal and numeric attributes. You can combine both Gaussian and Categorical Naive Bayes (option 1) or just using Categorical Naive Bayes (option 2). Explain your decision. For Categorical Naive Bayes, you can choose either epsilon or Laplace smoothing for this calculation. Evaluate the classifier using accuracy and appropriate metric(s) on test data. Explain your observations on how the classifiers have performed based on the metric(s). Discuss the performance of the classifiers in comparison with the Zero-R baseline. (4 marks)\n"
   ]
  },
  {
   "cell_type": "markdown",
   "metadata": {
    "heading_collapsed": true
   },
   "source": [
    "#### Categorical naive bayes"
   ]
  },
  {
   "cell_type": "code",
   "execution_count": 52,
   "metadata": {
    "ExecuteTime": {
     "end_time": "2020-08-22T12:09:09.919654Z",
     "start_time": "2020-08-22T12:09:09.915690Z"
    },
    "hidden": true
   },
   "outputs": [],
   "source": [
    "EPSILON = 0.0000001"
   ]
  },
  {
   "cell_type": "code",
   "execution_count": 53,
   "metadata": {
    "ExecuteTime": {
     "end_time": "2020-08-22T12:09:09.938635Z",
     "start_time": "2020-08-22T12:09:09.921649Z"
    },
    "hidden": true
   },
   "outputs": [],
   "source": [
    "# Function for counting the frequency of classes to claculate prior probability p(y=i) = n(i)/N\n",
    "def p_y(y):\n",
    "    class_priors = [0]*len(set(y))\n",
    "    for c in y:\n",
    "        class_priors[c]+=1    \n",
    "    return class_priors"
   ]
  },
  {
   "cell_type": "code",
   "execution_count": 54,
   "metadata": {
    "ExecuteTime": {
     "end_time": "2020-08-22T12:09:09.978523Z",
     "start_time": "2020-08-22T12:09:09.940600Z"
    },
    "hidden": true
   },
   "outputs": [],
   "source": [
    "# Function for likelihood p(x=j|y=i) = n(i,j)/n(i)\n",
    "def p_xy(x,y):\n",
    "    \n",
    "    # init dict (over classes) of dict (over features) of dict (over value counts)\n",
    "    outdict = {c:{} for c in y}\n",
    "    for d in outdict.keys():\n",
    "        for f in range(len(x[0])):\n",
    "            outdict[d][f]={}\n",
    "            rng = set([i[f] for i in x])\n",
    "            outdict[d][f] = {v:0 for v in rng}\n",
    "    \n",
    "      \n",
    "    # fill dict with counts\n",
    "    for idx,_ in enumerate(x):\n",
    "        for fidx, _ in enumerate(x[idx]):\n",
    "            outdict[y[idx]][fidx][x[idx][fidx]]+=1\n",
    "\n",
    "           \n",
    "    # normalize, with epsilon smoothing\n",
    "    for cl in outdict.keys():\n",
    "        for f in outdict[cl].keys():\n",
    "            for val in outdict[cl][f]:\n",
    "                if outdict[cl][f][val] > 0:\n",
    "                    outdict[cl][f][val] = outdict[cl][f][val] / p_y(y)[cl]\n",
    "                # epsilon smoothing\n",
    "                else:\n",
    "                    outdict[cl][f][val] = EPSILON\n",
    "            \n",
    "    return outdict"
   ]
  },
  {
   "cell_type": "code",
   "execution_count": 55,
   "metadata": {
    "ExecuteTime": {
     "end_time": "2020-08-22T12:09:09.991481Z",
     "start_time": "2020-08-22T12:09:09.980492Z"
    },
    "hidden": true
   },
   "outputs": [],
   "source": [
    "def train_categorical_NB(X, Y):\n",
    "    return p_y(Y), p_xy(X, Y)"
   ]
  },
  {
   "cell_type": "code",
   "execution_count": 56,
   "metadata": {
    "ExecuteTime": {
     "end_time": "2020-08-22T12:09:10.015397Z",
     "start_time": "2020-08-22T12:09:09.993456Z"
    },
    "code_folding": [],
    "hidden": true
   },
   "outputs": [],
   "source": [
    "# Function for predicting test label for one instance x\n",
    "def predict_categorical_NB(x, pc, pxc):\n",
    "    # sums up prior and independent likelihood terms\n",
    "    class_probs = []\n",
    "    for y in range(len(pc)):\n",
    "        class_prob=pc[y]/sum(pc)\n",
    "        for fidx, f in enumerate(x):\n",
    "            if f in pxc[y][fidx]:\n",
    "                class_prob = class_prob * pxc[y][fidx][f]\n",
    "        class_probs.append(class_prob)\n",
    "    return class_probs, np.argmax([class_probs])\n",
    "\n",
    "# xs: list of instances\n",
    "def predicts_categorical_NB(xs, pc, pxc):\n",
    "    res = []\n",
    "    for x in xs:\n",
    "        _, y_pred = predict_categorical_NB(x, pc, pxc)\n",
    "        res.append(y_pred)\n",
    "    return res"
   ]
  },
  {
   "cell_type": "markdown",
   "metadata": {},
   "source": [
    "#### Gaussian naive bayes"
   ]
  },
  {
   "cell_type": "code",
   "execution_count": 57,
   "metadata": {
    "ExecuteTime": {
     "end_time": "2020-08-22T12:09:10.027392Z",
     "start_time": "2020-08-22T12:09:10.016427Z"
    }
   },
   "outputs": [],
   "source": [
    "def pre_prob(y):\n",
    "    y_dict = collections.Counter(y)\n",
    "    pre_probab = np.ones(2)\n",
    "    for i in range(0, 2):\n",
    "        pre_probab[i] = y_dict[i]/y.shape[0]\n",
    "    return pre_probab"
   ]
  },
  {
   "cell_type": "code",
   "execution_count": 58,
   "metadata": {
    "ExecuteTime": {
     "end_time": "2020-08-22T12:09:10.072247Z",
     "start_time": "2020-08-22T12:09:10.029361Z"
    }
   },
   "outputs": [],
   "source": [
    "def mean_var(X, y):\n",
    "    n_features = X.shape[1]\n",
    "    m = np.ones((2, n_features))\n",
    "    v = np.ones((2, n_features))\n",
    "    n_0 = np.bincount(y)[np.nonzero(np.bincount(y))[0]][0]\n",
    "    \n",
    "    x0 = np.ones((n_0, n_features))\n",
    "    x1 = np.ones((X.shape[0] - n_0, n_features))\n",
    "    \n",
    "    k = 0\n",
    "    for i in range(0, X.shape[0]):\n",
    "        if y[i] == 0:\n",
    "            x0[k] = X[i]\n",
    "            k = k + 1\n",
    "    k = 0\n",
    "    for i in range(0, X.shape[0]):\n",
    "        if y[i] == 1:\n",
    "            x1[k] = X[i]\n",
    "            k = k + 1\n",
    "        \n",
    "    for j in range(0, n_features):\n",
    "        m[0][j] = np.mean(x0.T[j])\n",
    "        v[0][j] = np.var(x0.T[j])*(n_0/(n_0 - 1))\n",
    "        m[1][j] = np.mean(x1.T[j])\n",
    "        v[1][j] = np.var(x1.T[j])*((X.shape[0]-n_0)/((X.shape[0]\n",
    "                                                      - n_0) - 1))\n",
    "    return m, v # mean and variance "
   ]
  },
  {
   "cell_type": "code",
   "execution_count": 59,
   "metadata": {
    "ExecuteTime": {
     "end_time": "2020-08-22T12:09:10.095217Z",
     "start_time": "2020-08-22T12:09:10.074241Z"
    }
   },
   "outputs": [],
   "source": [
    "def prob_feature_class(m, v, x):\n",
    "    n_features = m.shape[1]\n",
    "    pfc = np.ones(2)\n",
    "    for i in range(0, 2):\n",
    "        product = 1\n",
    "        for j in range(0, n_features):\n",
    "            product = product * (1/sqrt(2*3.14*v[i][j])) * exp(-0.5\n",
    "                                 * pow((x[j] - m[i][j]),2)/v[i][j])\n",
    "        pfc[i] = product\n",
    "    return pfc"
   ]
  },
  {
   "cell_type": "code",
   "execution_count": 60,
   "metadata": {
    "ExecuteTime": {
     "end_time": "2020-08-22T12:09:10.110176Z",
     "start_time": "2020-08-22T12:09:10.097228Z"
    }
   },
   "outputs": [],
   "source": [
    "def GNB(X, y, x):\n",
    "    m, v = mean_var(X, y)\n",
    "    pfc = prob_feature_class(m, v, x)\n",
    "    pre_probab = pre_prob(y)\n",
    "    pcf = np.ones(2)\n",
    "    total_prob = 0\n",
    "    for i in range(0, 2):\n",
    "        total_prob = total_prob + (pfc[i] * pre_probab[i])\n",
    "    for i in range(0, 2):\n",
    "        pcf[i] = (pfc[i] * pre_probab[i])/total_prob\n",
    "    prediction = int(pcf.argmax())\n",
    "    return m, v, pre_probab, pfc, pcf, prediction"
   ]
  },
  {
   "cell_type": "code",
   "execution_count": 61,
   "metadata": {
    "ExecuteTime": {
     "end_time": "2020-08-22T12:09:10.122139Z",
     "start_time": "2020-08-22T12:09:10.111142Z"
    }
   },
   "outputs": [],
   "source": [
    "def predicts_gaussian_NB(X, y, xs):\n",
    "    res = []\n",
    "    for x in xs:\n",
    "        res.append(GNB(X, y, x))\n",
    "    return res"
   ]
  },
  {
   "cell_type": "code",
   "execution_count": null,
   "metadata": {},
   "outputs": [],
   "source": []
  },
  {
   "cell_type": "code",
   "execution_count": 100,
   "metadata": {
    "ExecuteTime": {
     "end_time": "2020-08-22T12:46:20.173991Z",
     "start_time": "2020-08-22T12:46:20.034272Z"
    }
   },
   "outputs": [],
   "source": [
    "class gaussClf:\n",
    "    def separate_by_classes(self, X, y):\n",
    "        ''' This function separates our dataset in subdatasets by classes '''\n",
    "        self.classes = np.unique(y)\n",
    "        classes_index = {}\n",
    "        subdatasets = {}\n",
    "        cls, counts = np.unique(y, return_counts=True)\n",
    "        self.class_freq = dict(zip(cls, counts))\n",
    "#         print(self.class_freq)\n",
    "        for class_type in self.classes:\n",
    "            classes_index[class_type] = list(y[y.iloc[:, [0]] == class_type].index) # np.argwhere(y==class_type)\n",
    "#             print(classes_index[class_type])\n",
    "#             print([0 for i, j in zip(classes_index[class_type], list(X.index)) if i != j])\n",
    "            subdatasets[class_type] = X.loc[classes_index[class_type], :]\n",
    "            self.class_freq[class_type] = self.class_freq[class_type]/sum(list(self.class_freq.values()))\n",
    "        return subdatasets\n",
    "    \n",
    "    def fit(self, X, y):\n",
    "        ''' The fitting function '''\n",
    "        separated_X = self.separate_by_classes(X, y)\n",
    "        self.means = {}\n",
    "        self.std = {}\n",
    "        for class_type in self.classes:\n",
    "            # Here we calculate the mean and the standart deviation from datasets\n",
    "            self.means[class_type] = np.mean(separated_X[class_type], axis=0)[0]\n",
    "            self.std[class_type] = np.std(separated_X[class_type], axis=0)[0]\n",
    "    \n",
    "    def calculate_probability(self, x, mean, stdev):\n",
    "        ''' This function calculates the class probability using gaussian distribution '''\n",
    "        exponent = math.exp(-((x - mean) ** 2 / (2 * stdev ** 2)))\n",
    "        return (1 / (math.sqrt(2 * math.pi) * stdev)) * exponent\n",
    "    \n",
    "    def predict_proba(self, X):\n",
    "        ''' This function predicts the probability for every class '''\n",
    "        self.class_prob = {cls:math.log(self.class_freq[cls], math.e) for cls in self.classes}\n",
    "        for cls in self.classes:\n",
    "            for i in range(len(self.means)):\n",
    "                print(X[i])\n",
    "                print(self.means[cls])\n",
    "                self.class_prob[cls]+=math.log(self.calculate_probability(X[i], \n",
    "                                                                          self.means[cls][i], \n",
    "                                                                          self.std[cls][i]\n",
    "                                                                         ), \n",
    "                                               math.e)\n",
    "        self.class_prob = {cls: math.e**self.class_prob[cls] for cls in self.class_prob}\n",
    "        return self.class_prob\n",
    "    \n",
    "    def predict(self, X):\n",
    "        ''' This funtion predicts the class of a sample '''\n",
    "        pred = []\n",
    "        for x in X:\n",
    "            pred_class = None\n",
    "            max_prob = 0\n",
    "            for cls, prob in self.predict_proba(x).items():\n",
    "                if prob>max_prob:\n",
    "                    max_prob = prob\n",
    "                    pred_class = cls\n",
    "            pred.append(pred_class)\n",
    "        return pred"
   ]
  },
  {
   "cell_type": "markdown",
   "metadata": {},
   "source": [
    "#### train & evaluate"
   ]
  },
  {
   "cell_type": "code",
   "execution_count": 103,
   "metadata": {
    "ExecuteTime": {
     "end_time": "2020-08-22T12:48:28.628080Z",
     "start_time": "2020-08-22T12:48:28.177187Z"
    }
   },
   "outputs": [],
   "source": [
    "stroke_df_nominal = preprocess(stroke_df)\n",
    "\n",
    "# Zero-R baseline\n",
    "zero_r_classifier = DummyClassifier(strategy=\"most_frequent\")\n",
    "gaussian_NB_classifier = gaussClf()\n",
    "\n",
    "i = 0\n",
    "f1_categorical_NB, f1_gaussian_NB, zero_r_f1 = 0, 0, 0\n",
    "for X_train, Y_train, X_test, Y_test in split_data(stroke_df_nominal):        \n",
    "    i += 1\n",
    "    \n",
    "    # train & evaluate Gaussian NB\n",
    "#     gaussian_NB_classifier.fit(X_train, Y_train)\n",
    "#     preds = gaussian_NB_classifier.predict(X_test)\n",
    "#     preds = predicts_gaussian_NB(X_train.iloc[:, [0, 1, 2]], \n",
    "#                                  np.ravel(Y_train.values), \n",
    "#                                  X_test.iloc[:, [0, 1, 2]])\n",
    "#     _, Acc, precf1 = evaluate(preds, Y_test)\n",
    "#     f1_gaussian_NB += precf1[2]\n",
    "    \n",
    "    # train & evaluate Categorical NB\n",
    "    py, pxy = train_categorical_NB(X_train.values.tolist(), np.ravel(Y_train.values).tolist())\n",
    "    preds = predicts_categorical_NB(X_test.values.tolist(), py, pxy)\n",
    "    _, Acc, precf1 = evaluate(preds, Y_test.values.tolist())\n",
    "    f1_categorical_NB += precf1[2]\n",
    "    \n",
    "    # train & evaluate Zero R\n",
    "    zero_r_classifier.fit(X_train, Y_train)\n",
    "    preds = zero_r_classifier.predict(X_test)\n",
    "    _, _, precf1 = evaluate(preds, Y_test)\n",
    "    zero_r_f1 += precf1[2]\n",
    "\n",
    "f1_categorical_NB /= i\n",
    "f1_gaussian_NB /= i\n",
    "zero_r_f1 /= i"
   ]
  },
  {
   "cell_type": "code",
   "execution_count": 104,
   "metadata": {
    "ExecuteTime": {
     "end_time": "2020-08-22T12:48:30.325695Z",
     "start_time": "2020-08-22T12:48:30.230921Z"
    }
   },
   "outputs": [
    {
     "data": {
      "image/png": "[encoded data removed]",
      "text/plain": [
       "<matplotlib.figure.Figure at 0x1e2e0c90>"
      ]
     },
     "metadata": {},
     "output_type": "display_data"
    }
   ],
   "source": [
    "y = [zero_r_f1, f1_categorical_NB]\n",
    "labels = [\"Zero R\", \"Categorical NB\"]\n",
    "\n",
    "plt.bar(x=range(0, len(y)), height=y, tick_label=labels)\n",
    "plt.ylabel(\"f1 score\")\n",
    "plt.show()"
   ]
  },
  {
   "cell_type": "markdown",
   "metadata": {
    "heading_collapsed": true
   },
   "source": [
    "### Question 2\\c)"
   ]
  },
  {
   "cell_type": "markdown",
   "metadata": {
    "hidden": true
   },
   "source": [
    "- c) Explain the difference between epsilon and Laplace smoothing. [no programming required] (1 mark)\n",
    "    - <font color=blue>Both of their goal is to solve the 0 probability problem (probability=0 in testing phase if we have a unseen attribute value after training). In other words, we still want the model to provide some meaningful output even though there can be some unseen feature values. Firstly, the difference is that epsilon smoothing replace 0 probability for unseen feature with a way smaller decimal number as probability in the testing phase or training phase. While laplace smoothing adds an additional </font> $\\alpha$ <font color=blue>for the numerator as well as </font>$\\text{#values of feature can take} * \\alpha$ <font color=blue>for denominator in the training phase to avoid this problem.(can do in testing phase but generally done in training phase but with only once) Secondly, if the model has seen all possible attribute value in the training phase, then the epsilon smooth won't influence the result while laplace smooth will change the result as we modify the posterior probability by adding values to denominator and numerator.</font>"
   ]
  },
  {
   "cell_type": "code",
   "execution_count": null,
   "metadata": {
    "ExecuteTime": {
     "end_time": "2020-08-22T12:09:10.280689Z",
     "start_time": "2020-08-22T12:08:52.308Z"
    },
    "code_folding": [],
    "hidden": true
   },
   "outputs": [],
   "source": [
    "#     **To sum it up, the difference is how they solve the 0 probability problem in different phases.**"
   ]
  },
  {
   "cell_type": "markdown",
   "metadata": {
    "heading_collapsed": true
   },
   "source": [
    "## Question 3: Model Comparison"
   ]
  },
  {
   "cell_type": "markdown",
   "metadata": {
    "heading_collapsed": true,
    "hidden": true
   },
   "source": [
    "### Question 3\\a)\n",
    "- a) Implement the K-NN classifier, and find the optimal value for K. (1 mark)"
   ]
  },
  {
   "cell_type": "markdown",
   "metadata": {
    "heading_collapsed": true,
    "hidden": true
   },
   "source": [
    "#### preprocess data for knn"
   ]
  },
  {
   "cell_type": "markdown",
   "metadata": {
    "hidden": true
   },
   "source": [
    "change nominal string attribute to 0, 1, 2, 3, ..."
   ]
  },
  {
   "cell_type": "code",
   "execution_count": null,
   "metadata": {
    "ExecuteTime": {
     "end_time": "2020-08-22T12:09:10.281686Z",
     "start_time": "2020-08-22T12:08:52.646Z"
    },
    "hidden": true
   },
   "outputs": [],
   "source": [
    "stroke_df_knn = preprocess2(stroke_df)"
   ]
  },
  {
   "cell_type": "markdown",
   "metadata": {
    "heading_collapsed": true,
    "hidden": true
   },
   "source": [
    "#### split data and predict and evaluate"
   ]
  },
  {
   "cell_type": "code",
   "execution_count": null,
   "metadata": {
    "ExecuteTime": {
     "end_time": "2020-08-22T12:09:10.282683Z",
     "start_time": "2020-08-22T12:08:52.740Z"
    },
    "hidden": true,
    "scrolled": true
   },
   "outputs": [],
   "source": [
    "# list of accuracy metrics result for possible k for class 0 or 1\n",
    "x = []\n",
    "y_acc = []\n",
    "y_precision = []\n",
    "y_recall = []\n",
    "y_f1 = []\n",
    "# y_precision = [[], []]\n",
    "# y_recall = [[], []]\n",
    "# y_f1 = [[], []]\n",
    "\n",
    "# test purpose\n",
    "k_range = 100\n",
    "# real optimize\n",
    "# k_range = int(stroke_df_knn.shape[0]*0.9 - 1)\n",
    "\n",
    "for k in range(1, k_range):\n",
    "    classifier = KNeighborsClassifier(n_neighbors=k)\n",
    "    print(k)\n",
    "    x.append(k)\n",
    "#     k_acc, k_precision, k_recall, k_f1 = 0, [0, 0], [0, 0], [0, 0]\n",
    "    k_acc, k_precision, k_recall, k_f1 = 0, 0, 0, 0\n",
    "    i = 0\n",
    "    for X_train, Y_train, X_test, Y_test in split_data(stroke_df_knn):        \n",
    "        i += 1\n",
    "        classifier.fit(X_train, np.ravel(Y_train))\n",
    "        preds = classifier.predict(X_test)\n",
    "        \n",
    "        _, Acc, precf1 = evaluate(preds, np.ravel(Y_test))\n",
    "\n",
    "        k_acc       += Acc\n",
    "        k_precision += precf1[0]\n",
    "        k_recall    += precf1[1]\n",
    "        k_f1        +=precf1[2]\n",
    "#         k_precision[0] += precf1[0][0]\n",
    "#         k_precision[1] += precf1[0][1]\n",
    "#         k_recall[0]    += precf1[1][0]\n",
    "#         k_recall[1]    += precf1[1][1]\n",
    "#         k_f1[0]        += precf1[2][0]\n",
    "#         k_f1[1]        += precf1[2][1]\n",
    "    \n",
    "    k_acc       /= i\n",
    "    k_precision /= i\n",
    "    k_recall    /= i\n",
    "    k_f1        /= i\n",
    "    # averaging k-fold result\n",
    "#     for j in [0, 1]:\n",
    "#         k_acc          /= i\n",
    "#         k_precision[j] /= i\n",
    "#         k_recall[j]    /= i\n",
    "#         k_f1[j]        /= i\n",
    "    \n",
    "    y_acc.append(k_acc)\n",
    "    y_precision.append(k_precision)\n",
    "    y_recall.append(k_recall)\n",
    "    y_f1.append(k_f1)\n",
    "#     y_precision[0].append(k_precision[0])\n",
    "#     y_precision[1].append(k_precision[1])\n",
    "#     y_recall[0].append(k_recall[0])\n",
    "#     y_recall[1].append(k_recall[1])\n",
    "#     y_f1[0].append(k_f1[0])\n",
    "#     y_f1[1].append(k_f1[1])"
   ]
  },
  {
   "cell_type": "markdown",
   "metadata": {
    "heading_collapsed": true,
    "hidden": true
   },
   "source": [
    "#### plot evaluation result"
   ]
  },
  {
   "cell_type": "code",
   "execution_count": null,
   "metadata": {
    "ExecuteTime": {
     "end_time": "2020-08-22T12:09:10.283682Z",
     "start_time": "2020-08-22T12:08:52.828Z"
    },
    "hidden": true
   },
   "outputs": [],
   "source": [
    "x1 = x[:len(y_acc)]\n",
    "xrange = 300\n",
    "# xrange = len(y_acc)\n",
    "\n",
    "plt.figure(figsize=(20, 3))\n",
    "plt.plot(x1[0:xrange], y_f1[0:xrange], 'y-')\n",
    "plt.xlabel(\"k\")\n",
    "plt.ylabel(\"f1-score\")\n",
    "plt.title(\"knn optimization\")\n",
    "plt.show()"
   ]
  },
  {
   "cell_type": "markdown",
   "metadata": {
    "hidden": true
   },
   "source": [
    "k maximize f1-score"
   ]
  },
  {
   "cell_type": "code",
   "execution_count": null,
   "metadata": {
    "ExecuteTime": {
     "end_time": "2020-08-22T12:09:10.284679Z",
     "start_time": "2020-08-22T12:08:52.919Z"
    },
    "hidden": true,
    "scrolled": true
   },
   "outputs": [],
   "source": [
    "k_best = x[np.argmax(y_f1)]\n",
    "k_best"
   ]
  },
  {
   "cell_type": "markdown",
   "metadata": {
    "heading_collapsed": true,
    "hidden": true
   },
   "source": [
    "##### for different class different accuracy metrics"
   ]
  },
  {
   "cell_type": "code",
   "execution_count": null,
   "metadata": {
    "ExecuteTime": {
     "end_time": "2020-08-22T12:09:10.285676Z",
     "start_time": "2020-08-22T12:08:53.008Z"
    },
    "hidden": true
   },
   "outputs": [],
   "source": [
    "x1 = x[:len(y_acc)]\n",
    "xrange = 300\n",
    "\n",
    "plt.figure(figsize=(10, 10))\n",
    "plt.plot(x1[0:xrange], y_acc[0:xrange], 'r-', \n",
    "         x1[0:xrange], y_precision[0][0:xrange], 'b-', \n",
    "         x1[0:xrange], y_precision[1][0:xrange], 'b--',\n",
    "         x1[0:xrange], y_recall[0][0:xrange], 'g-',\n",
    "         x1[0:xrange], y_recall[1][0:xrange], 'g--',\n",
    "         x1[0:xrange], y_f1[0][0:xrange], 'y-',\n",
    "         x1[0:xrange], y_f1[1][0:xrange], 'y--',\n",
    "        )\n",
    "plt.xlabel(\"k\")\n",
    "plt.legend([\"accuracy\", \n",
    "            \"stroke: 0 precision\",\n",
    "            \"stroke: 1 precision\",\n",
    "            \"stroke: 0 recall\",\n",
    "            \"stroke: 1 recall\",\n",
    "            \"stroke: 0 f1\",\n",
    "            \"stroke: 1 f1\",\n",
    "           ])\n",
    "plt.show()"
   ]
  },
  {
   "cell_type": "markdown",
   "metadata": {
    "heading_collapsed": true,
    "hidden": true
   },
   "source": [
    "### Question 3\\b)"
   ]
  },
  {
   "cell_type": "markdown",
   "metadata": {
    "hidden": true
   },
   "source": [
    "- b) Based on the obtained value for K in question 4 (a), evaluate the classifier using accuracy and chosen metric(s) on test data. Explain your observations on how the classifiers have performed based on the metric(s). Discuss the performance of the classifiers in comparison with the Zero-R baseline. (2 marks)"
   ]
  },
  {
   "cell_type": "code",
   "execution_count": null,
   "metadata": {
    "ExecuteTime": {
     "end_time": "2020-08-22T12:09:10.286674Z",
     "start_time": "2020-08-22T12:08:53.185Z"
    },
    "hidden": true
   },
   "outputs": [],
   "source": [
    "x1 = []\n",
    "knn_f1 = []\n",
    "zero_r_f1 = []\n",
    "\n",
    "k = k_best\n",
    "\n",
    "# Zero-R baseline\n",
    "zero_r_classifier = DummyClassifier(strategy=\"most_frequent\")\n",
    "\n",
    "\n",
    "knn_metrics = ['euclidean', \n",
    "               'manhattan'] \n",
    "#                , cosine_distances]\n",
    "knn_metrics_names = ['euclidean_distance', 'manhattan_distance']\n",
    "#                      , 'cosine_distance']\n",
    "\n",
    "knn_f1, zero_r_f1 = [0 for _ in knn_metrics_names], 0\n",
    "\n",
    "k_fold = 0\n",
    "# train & test zero r\n",
    "for X_train, Y_train, X_test, Y_test in split_data(stroke_df_knn):        \n",
    "    k_fold += 1\n",
    "    zero_r_classifier.fit(X_train, Y_train)\n",
    "    preds = zero_r_classifier.predict(X_test)\n",
    "    _, _, precf1 = evaluate(preds, Y_test)\n",
    "    zero_r_f1 += precf1[2]\n",
    "    \n",
    "    for i, knn_metric in enumerate(knn_metrics):\n",
    "#         print(knn_metrics_names[i])\n",
    "        knn_classifier = KNeighborsClassifier(metric=knn_metric)\n",
    "        \n",
    "        knn_classifier.fit(X_train, np.ravel(Y_train))\n",
    "        preds = knn_classifier.predict(X_test)\n",
    "        _, _, precf1 = evaluate(preds, np.ravel(Y_test))\n",
    "        knn_f1[i] += precf1[2]\n",
    "        \n",
    "zero_r_f1 /= k_fold\n",
    "for i in range(0, len(knn_f1)):\n",
    "    knn_f1[i] /= k_fold"
   ]
  },
  {
   "cell_type": "code",
   "execution_count": null,
   "metadata": {
    "ExecuteTime": {
     "end_time": "2020-08-22T12:09:10.287684Z",
     "start_time": "2020-08-22T12:08:53.188Z"
    },
    "hidden": true
   },
   "outputs": [],
   "source": [
    "y = [zero_r_f1] + knn_f1\n",
    "labels = [\"Zero R\"] + knn_metrics_names\n",
    "\n",
    "plt.bar(x=range(0, len(y)), height=y, tick_label=labels)\n",
    "plt.ylabel(\"f1 score\")\n",
    "plt.show()"
   ]
  },
  {
   "cell_type": "markdown",
   "metadata": {
    "heading_collapsed": true,
    "hidden": true
   },
   "source": [
    "### Question 3\\c)"
   ]
  },
  {
   "cell_type": "markdown",
   "metadata": {
    "hidden": true
   },
   "source": [
    "- c) Is K-NN sensitive to imbalanced data? Justify your answer. [no programming required]"
   ]
  },
  {
   "cell_type": "markdown",
   "metadata": {
    "hidden": true
   },
   "source": [
    "- d) Compare the classifiers (Naive Bayes and K-NN) based on metrics' results. Provide a comparatory discussion on the results. [no programming required] (1 mark)"
   ]
  },
  {
   "cell_type": "markdown",
   "metadata": {},
   "source": [
    "# End"
   ]
  },
  {
   "cell_type": "code",
   "execution_count": null,
   "metadata": {},
   "outputs": [],
   "source": []
  }
 ],
 "metadata": {
  "kernelspec": {
   "display_name": "Python 3",
   "language": "python",
   "name": "python3"
  },
  "language_info": {
   "codemirror_mode": {
    "name": "ipython",
    "version": 3
   },
   "file_extension": ".py",
   "mimetype": "text/x-python",
   "name": "python",
   "nbconvert_exporter": "python",
   "pygments_lexer": "ipython3",
   "version": "3.6.3"
  },
  "latex_envs": {
   "LaTeX_envs_menu_present": true,
   "autoclose": false,
   "autocomplete": true,
   "bibliofile": "biblio.bib",
   "cite_by": "apalike",
   "current_citInitial": 1,
   "eqLabelWithNumbers": true,
   "eqNumInitial": 1,
   "hotkeys": {
    "equation": "Ctrl-E",
    "itemize": "Ctrl-I"
   },
   "labels_anchors": false,
   "latex_user_defs": false,
   "report_style_numbering": false,
   "user_envs_cfg": false
  },
  "toc": {
   "nav_menu": {
    "height": "151px",
    "width": "350px"
   },
   "number_sections": true,
   "sideBar": true,
   "skip_h1_title": false,
   "title_cell": "Table of Contents",
   "title_sidebar": "Contents",
   "toc_cell": false,
   "toc_position": {},
   "toc_section_display": true,
   "toc_window_display": false
  }
 },
 "nbformat": 4,
 "nbformat_minor": 2
}
